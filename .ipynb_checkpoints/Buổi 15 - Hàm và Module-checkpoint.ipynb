{
 "cells": [
  {
   "cell_type": "markdown",
   "id": "73456e5e",
   "metadata": {},
   "source": [
    "# Hàm\n",
    "\n",
    "### Hàm\n",
    "\n",
    "Cú pháp:\n",
    "\n",
    "`def <tên hàm>(<tham số)>:\n",
    "    //Nội dung hàm`\n",
    "\n",
    "Gọi hàm:\n",
    "`<tên hàm>(<giá trị đầu vào>)`\n",
    "\n",
    "Ví dụ:\n",
    "\n",
    "Hãy viết 1 hàm số để tính tổng 2 số đầu vào và in nó ra màn hình"
   ]
  },
  {
   "cell_type": "code",
   "execution_count": 11,
   "id": "af5b9f6d",
   "metadata": {},
   "outputs": [
    {
     "name": "stdout",
     "output_type": "stream",
     "text": [
      "1\n",
      "3.5\n",
      "80\n"
     ]
    }
   ],
   "source": [
    "def hieu(a,b):\n",
    "    print(a-b)\n",
    "def thuong(a,b):\n",
    "    print(a/b)\n",
    "def tich(a,b):\n",
    "    print(a*b)\n",
    "\n",
    "hieu(5,6)\n",
    "thuong(7,2)\n",
    "tich(8,10)"
   ]
  },
  {
   "cell_type": "code",
   "execution_count": 2,
   "id": "6ed0321d",
   "metadata": {},
   "outputs": [
    {
     "name": "stdout",
     "output_type": "stream",
     "text": [
      "5\n"
     ]
    }
   ],
   "source": [
    "def thaydoic(a):\n",
    "    global c\n",
    "    c = a\n",
    "c = 7\n",
    "thaydoic(5)\n",
    "print(c)"
   ]
  },
  {
   "cell_type": "markdown",
   "id": "a7c39f47",
   "metadata": {},
   "source": [
    "### Giá trị trả về của hàm\n",
    "\n",
    "# return\n",
    "\n",
    "Cú pháp:\n",
    "\n",
    "`return <giá trị trả về>`\n",
    "\n",
    "##### Lưu ý: Sau khi thực hiện lệnh return, chương trình sẽ thoát khỏi hàm ngay lập tức (những lệnh sau đó không được thực hiện)\n",
    "\n",
    "Ví dụ:\n",
    "\n",
    "Hãy viết 1 hàm trả về giá trị trung bình của 2 số bất kỳ"
   ]
  },
  {
   "cell_type": "code",
   "execution_count": 6,
   "id": "d5b47f20",
   "metadata": {},
   "outputs": [
    {
     "name": "stdout",
     "output_type": "stream",
     "text": [
      "Nhập số: 9\n",
      "1\n"
     ]
    }
   ],
   "source": [
    "a = int(input(\"Nhập số: \"))\n",
    "\n",
    "def cl(a):\n",
    "    if a%2 == 0:\n",
    "        return 2\n",
    "    return 1\n",
    "    \n",
    "print(cl(a))"
   ]
  },
  {
   "cell_type": "code",
   "execution_count": 17,
   "id": "e3db7439",
   "metadata": {},
   "outputs": [
    {
     "name": "stdout",
     "output_type": "stream",
     "text": [
      "False\n"
     ]
    }
   ],
   "source": [
    "def giaithua100(a):\n",
    "    s = 1\n",
    "    for i in range(a,0,-1):\n",
    "        s *= i\n",
    "        if s>100:\n",
    "            return True\n",
    "    return False\n",
    "print(giaithua100(4))"
   ]
  },
  {
   "cell_type": "markdown",
   "id": "1d7f8db0",
   "metadata": {},
   "source": [
    "### Bài tập"
   ]
  },
  {
   "cell_type": "markdown",
   "id": "75fb488b",
   "metadata": {},
   "source": [
    "Viết hàm kiểm tra số nguyên tố"
   ]
  },
  {
   "cell_type": "code",
   "execution_count": 39,
   "id": "63701bd7",
   "metadata": {},
   "outputs": [
    {
     "name": "stdout",
     "output_type": "stream",
     "text": [
      "Nhap a: 5\n",
      "True\n"
     ]
    }
   ],
   "source": [
    "a = int(input(\"Nhap a: \"))\n",
    "\n",
    "def songuyento(a):\n",
    "    if a<2: return False\n",
    "    b = int(a**0.5)\n",
    "    for i in range (2,b+1):\n",
    "        if a%i==0: return False\n",
    "    return True\n",
    "\n",
    "print(songuyento(a))"
   ]
  },
  {
   "cell_type": "markdown",
   "id": "221103cf",
   "metadata": {},
   "source": [
    "Nhập vào 3 điểm toán, lý, hóa\n",
    "\n",
    "Hãy viết hàm in điểm trung bung bình rồi tính điểm trung bình của toán lý, toán hóa, lý hóa và toán lý hóa"
   ]
  },
  {
   "cell_type": "code",
   "execution_count": 44,
   "id": "1ba1d8ae",
   "metadata": {},
   "outputs": [
    {
     "name": "stdout",
     "output_type": "stream",
     "text": [
      "Điểm toán: 7\n",
      "Điểm lý: 8\n",
      "Điểm hóa: 9\n",
      "Trung bình toán lý: 7.5\n",
      "Trung bình toán hóa: 8.0\n",
      "Trung bình lý hóa: 8.5\n",
      "Trung bình toán lý hóa: 8.0\n"
     ]
    }
   ],
   "source": [
    "a = float(input(\"Điểm toán: \"))\n",
    "b = float(input(\"Điểm lý: \"))\n",
    "c = float(input(\"Điểm hóa: \"))\n",
    "\n",
    "def trungbinh(a,b,c=-1):\n",
    "    if c==-1:\n",
    "        return (a+b)/2\n",
    "    return (a+b+c)/3\n",
    "\n",
    "print(\"Trung bình toán lý:\",trungbinh(a,b))\n",
    "print(\"Trung bình toán hóa:\",trungbinh(a,c))\n",
    "print(\"Trung bình lý hóa:\",trungbinh(b,c))\n",
    "print(\"Trung bình toán lý hóa:\",trungbinh(a,b,c))"
   ]
  },
  {
   "cell_type": "code",
   "execution_count": 41,
   "id": "701ea2f8",
   "metadata": {},
   "outputs": [
    {
     "name": "stdout",
     "output_type": "stream",
     "text": [
      "Điểm toán: 7\n",
      "Điểm lý: 8\n",
      "Điểm hóa: 9\n",
      "Trung bình toán lý: 7.5\n",
      "Trung bình toán hóa: 8.0\n",
      "Trung bình lý hóa: 8.5\n",
      "Trung bình toán lý hóa: 8.0\n"
     ]
    }
   ],
   "source": [
    "a = float(input(\"Điểm toán: \"))\n",
    "b = float(input(\"Điểm lý: \"))\n",
    "c = float(input(\"Điểm hóa: \"))\n",
    "\n",
    "def trungbinh2(a,b):\n",
    "    return((a+b)/2)\n",
    "def trungbinh3(a,b,c):\n",
    "    return((a+b+c)/3)\n",
    "\n",
    "print(\"Trung bình toán lý:\",trungbinh2(a,b))\n",
    "print(\"Trung bình toán hóa:\",trungbinh2(a,c))\n",
    "print(\"Trung bình lý hóa:\",trungbinh2(b,c))\n",
    "print(\"Trung bình toán lý hóa:\",trungbinh3(a,b,c))"
   ]
  },
  {
   "cell_type": "markdown",
   "id": "50f43307",
   "metadata": {},
   "source": [
    "Viết hàm đếm số lượng từ của một chuỗi đưa vào"
   ]
  },
  {
   "cell_type": "code",
   "execution_count": 43,
   "id": "be785b29",
   "metadata": {},
   "outputs": [
    {
     "name": "stdout",
     "output_type": "stream",
     "text": [
      "Nhập chuỗi: xin chào mọi người \n",
      "4\n"
     ]
    }
   ],
   "source": [
    "a = input(\"Nhập chuỗi: \")\n",
    "def demtu(a):\n",
    "    return a.strip().count(\" \") + 1\n",
    "print(demtu(a))"
   ]
  },
  {
   "cell_type": "code",
   "execution_count": 45,
   "id": "bbc4e9a5",
   "metadata": {},
   "outputs": [
    {
     "name": "stdout",
     "output_type": "stream",
     "text": [
      "Nhap chuoi: xin chao cac ban\n",
      "4\n"
     ]
    }
   ],
   "source": [
    "def demtu(a):\n",
    "    a += \" \"\n",
    "    count = 0\n",
    "    for i in a:\n",
    "        if i==\" \":\n",
    "            count+=1\n",
    "    return count\n",
    "\n",
    "a = input(\"Nhap chuoi: \")\n",
    "print(demtu(a))"
   ]
  },
  {
   "cell_type": "markdown",
   "id": "b4adef40",
   "metadata": {},
   "source": [
    "Viết một hàm vẽ hình tròn, một hàm vẽ hình vuông và một hàm vẽ hình tam giác đều (giá trị đầu vào là a)\n",
    "\n",
    "Tất cả hàm này, bắt đầu từ 1 vị trí, sau khi vẽ ra, con trỏ sẽ tiến tới vị trí tiếp theo, cách vì đầu một khoảng a + 10 theo chiều x từ trái sang"
   ]
  },
  {
   "cell_type": "code",
   "execution_count": null,
   "id": "e405d1d4",
   "metadata": {},
   "outputs": [
    {
     "name": "stdout",
     "output_type": "stream",
     "text": [
      "Nhập a: 80\n"
     ]
    }
   ],
   "source": [
    "a = int(input(\"Nhập a: \"))\n",
    "\n",
    "import turtle\n",
    "\n",
    "t = turtle.Turtle()\n",
    "t.speed(10)\n",
    "\n",
    "def hinhtron(a):\n",
    "    t.circle(a)\n",
    "    t.penup()\n",
    "    t.forward(a+10)\n",
    "    t.pendown()\n",
    "def hinhvuong(a):\n",
    "    for i in range(4):\n",
    "        t.forward(a)\n",
    "        t.left(90)\n",
    "    t.penup()\n",
    "    t.forward(a+10)\n",
    "    t.pendown()\n",
    "def tamgiac(a):\n",
    "    for i in range(3):\n",
    "        t.forward(a)\n",
    "        t.left(120)\n",
    "    t.penup()\n",
    "    t.forward(a+10)\n",
    "    t.pendown()\n",
    "\n",
    "hinhtron(a)\n",
    "hinhvuong(a)\n",
    "tamgiac(a)\n",
    "\n",
    "turtle.done()"
   ]
  },
  {
   "cell_type": "code",
   "execution_count": 1,
   "id": "21398843",
   "metadata": {},
   "outputs": [
    {
     "name": "stdout",
     "output_type": "stream",
     "text": [
      "Nhập a: 50\n"
     ]
    }
   ],
   "source": [
    "a = int(input(\"Nhập a: \"))\n",
    "\n",
    "import turtle\n",
    "\n",
    "t = turtle.Turtle()\n",
    "t.speed(10)\n",
    "\n",
    "def pu(b):\n",
    "    t.penup()\n",
    "    t.forward(b)\n",
    "    t.pendown()\n",
    "def hinhtron(a):\n",
    "    pu(a/2)\n",
    "    t.circle(a/2)\n",
    "    pu(a/2+10)\n",
    "def hinhvuong(a):\n",
    "    for i in range(4):\n",
    "        t.forward(a)\n",
    "        t.left(90)\n",
    "    pu(a+10)\n",
    "def tamgiac(a):\n",
    "    a = (a**2+(a/2)**2)**0.5\n",
    "    for i in range(3):\n",
    "        t.forward(a)\n",
    "        t.left(120)\n",
    "    pu(a+10)\n",
    "\n",
    "hinhtron(a)\n",
    "hinhvuong(a)\n",
    "tamgiac(a)\n",
    "\n",
    "turtle.done()"
   ]
  }
 ],
 "metadata": {
  "kernelspec": {
   "display_name": "Python 3 (ipykernel)",
   "language": "python",
   "name": "python3"
  },
  "language_info": {
   "codemirror_mode": {
    "name": "ipython",
    "version": 3
   },
   "file_extension": ".py",
   "mimetype": "text/x-python",
   "name": "python",
   "nbconvert_exporter": "python",
   "pygments_lexer": "ipython3",
   "version": "3.10.4"
  }
 },
 "nbformat": 4,
 "nbformat_minor": 5
}
