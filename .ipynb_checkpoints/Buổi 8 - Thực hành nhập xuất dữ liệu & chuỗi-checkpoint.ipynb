{
 "cells": [
  {
   "cell_type": "markdown",
   "id": "5bc93fb0",
   "metadata": {},
   "source": [
    "# Thực hành nhập xuất dữ liệu & chuỗi\n",
    "\n",
    "### Bài tập tra cứu lệnh\n",
    "\n",
    "Nhập vào một chuỗi, kiểm tra xem chuỗi đó có ký tự nào là chữ in hoa hay không, nếu có thì in True, không có thì in False"
   ]
  },
  {
   "cell_type": "code",
   "execution_count": 3,
   "id": "4b3df2ba",
   "metadata": {},
   "outputs": [
    {
     "name": "stdout",
     "output_type": "stream",
     "text": [
      "Nhap mot chuoi:chan qua di\n",
      "False\n"
     ]
    }
   ],
   "source": [
    "a = input(\"Nhap mot chuoi:\")\n",
    "b = a.lower()\n",
    "print(a!=b)"
   ]
  },
  {
   "cell_type": "markdown",
   "id": "e14eae7c",
   "metadata": {},
   "source": [
    "Nhập vào một chuỗi, kiểm tra xem chuỗi đó có ký tự nào là chữ in thường hay không, nếu có thì in True, không có thì in False"
   ]
  },
  {
   "cell_type": "code",
   "execution_count": 6,
   "id": "ab00180c",
   "metadata": {},
   "outputs": [
    {
     "name": "stdout",
     "output_type": "stream",
     "text": [
      "Nhap mot chuoi:CHAN. QUA di\n",
      "True\n"
     ]
    }
   ],
   "source": [
    "a = input(\"Nhap mot chuoi:\")\n",
    "b = a.upper()\n",
    "print(a!=b)"
   ]
  },
  {
   "cell_type": "markdown",
   "id": "eab86ecf",
   "metadata": {},
   "source": [
    "Nhập vào một chuỗi a và chuỗi b, tìm vị trí đầu tiên xuất hiện chuỗi b trong chuỗi a"
   ]
  },
  {
   "cell_type": "code",
   "execution_count": 17,
   "id": "051eb4af",
   "metadata": {},
   "outputs": [
    {
     "name": "stdout",
     "output_type": "stream",
     "text": [
      "Nhap chuoi a:anh yeu em, anh the\n",
      "Nhap chuoi b:e\n",
      "Vi tri can tim: 5\n"
     ]
    }
   ],
   "source": [
    "a = input(\"Nhap chuoi a:\")\n",
    "b = input(\"Nhap chuoi b:\")\n",
    "if (a.count(b) > 0):\n",
    "    k = 0\n",
    "    for i in range (len(a)):\n",
    "        c = a[k:k+len(b)]\n",
    "        if (c==b):\n",
    "            print(\"Vi tri can tim:\", k)\n",
    "            break # thoat lap\n",
    "        k += 1\n",
    "else:\n",
    "    print(\"Chuoi a khong chua chuoi b.\")"
   ]
  },
  {
   "cell_type": "markdown",
   "id": "9239bc4e",
   "metadata": {},
   "source": [
    "Nhập vào một chuỗi a, hãy xóa từ đầu tiên trong chuỗi a, rồi in ra màn hình"
   ]
  },
  {
   "cell_type": "code",
   "execution_count": 21,
   "id": "90967cd9",
   "metadata": {},
   "outputs": [
    {
     "name": "stdout",
     "output_type": "stream",
     "text": [
      "Nhap chuoi a:Xin chao moi nguoi!\n",
      "in chao moi nguoi!\n"
     ]
    }
   ],
   "source": [
    "a = input(\"Nhap chuoi a:\")\n",
    "b = a[1:]\n",
    "print(b)"
   ]
  },
  {
   "cell_type": "markdown",
   "id": "05b74fb4",
   "metadata": {},
   "source": [
    "### Bài 1\n",
    "\n",
    "Nhập vào một chuỗi, đếm xem có bao nhiêu từ trong chuỗi kết thúc bằng chữ n"
   ]
  },
  {
   "cell_type": "code",
   "execution_count": 8,
   "id": "d126675c",
   "metadata": {
    "scrolled": true
   },
   "outputs": [
    {
     "name": "stdout",
     "output_type": "stream",
     "text": [
      "Nhap chuoi a:Nan? Qua chan! That dang buon/\n",
      "Co 3 tu trong chuoi ket thuc bang chu n.\n"
     ]
    }
   ],
   "source": [
    "a = input(\"Nhap chuoi a:\")\n",
    "#c = a.count(\"n \")\n",
    "c = 0\n",
    "if(a.count(\"n\")>0):\n",
    "    k=0\n",
    "    for i in range (len(a) - 1):\n",
    "        if(a[k]==\"n\"):\n",
    "            if not (\"a\"<=a[k+1]<=\"z\" or \"A\"<=a[k+1]<=\"Z\"):\n",
    "                c += 1\n",
    "        k += 1\n",
    "    if(a[-1]==\"n\"):\n",
    "        c +=1\n",
    "print(\"Co\",c,\"tu trong chuoi ket thuc bang chu n.\")"
   ]
  },
  {
   "cell_type": "code",
   "execution_count": 3,
   "id": "1d16aefd",
   "metadata": {},
   "outputs": [
    {
     "name": "stdout",
     "output_type": "stream",
     "text": [
      "Nhap chuoi:Chan qua di. Nan that day.\n",
      "Co 2 tu trong chuoi ket thuc bang chu n.\n"
     ]
    }
   ],
   "source": [
    "a = input(\"Nhap chuoi:\")\n",
    "b = a.split()\n",
    "x = 0\n",
    "for i in range (len(b)):\n",
    "    c = b[i]\n",
    "    if(c[-1]==\"n\"):\n",
    "        x+=1\n",
    "print(\"Co\", x, \"tu trong chuoi ket thuc bang chu n.\")  "
   ]
  },
  {
   "cell_type": "markdown",
   "id": "53a78d35",
   "metadata": {},
   "source": [
    "### Bài 2\n",
    "\n",
    "Nhập vào một chuỗi, kiểm tra xem chuỗi đó có ký tự hoa hoặc ký tự thường hay không."
   ]
  },
  {
   "cell_type": "code",
   "execution_count": 11,
   "id": "f5be8c39",
   "metadata": {},
   "outputs": [
    {
     "name": "stdout",
     "output_type": "stream",
     "text": [
      "Nhap chuoi:837343928\n",
      "False\n"
     ]
    }
   ],
   "source": [
    "a = input(\"Nhap chuoi:\")\n",
    "c = False\n",
    "k=0\n",
    "for i in range (len(a)):\n",
    "    if (\"a\"<=a[k]<=\"z\" or \"A\"<=a[k]<=\"Z\"):\n",
    "        c = True\n",
    "        break\n",
    "    k += 1\n",
    "print(c)"
   ]
  },
  {
   "cell_type": "markdown",
   "id": "64ca662e",
   "metadata": {},
   "source": [
    "### Bài 3\n",
    "\n",
    "Nhập vào một chuỗi, kiểm tra tính đối xứng của chuỗi đó"
   ]
  },
  {
   "cell_type": "code",
   "execution_count": 15,
   "id": "749f4136",
   "metadata": {},
   "outputs": [
    {
     "name": "stdout",
     "output_type": "stream",
     "text": [
      "Nhap chuoi:12345654321\n",
      "True\n"
     ]
    }
   ],
   "source": [
    "a = input(\"Nhap chuoi:\") #123454231\n",
    "k = 0\n",
    "b = True\n",
    "for i in range (len(a)//2):\n",
    "    if(a[k] != a[-1-k]):\n",
    "        b = False\n",
    "        break\n",
    "    k += 1\n",
    "print(b)"
   ]
  },
  {
   "cell_type": "markdown",
   "id": "85dd8fef",
   "metadata": {},
   "source": [
    "### Bài 4\n",
    "\n",
    "Nhập vào một chuỗi, in ra các ký tự trong chuỗi và nếu là ký tự hoa thì in kèm True, ký tự thường thì in kèm False"
   ]
  },
  {
   "cell_type": "code",
   "execution_count": 3,
   "id": "0d099247",
   "metadata": {},
   "outputs": [
    {
     "name": "stdout",
     "output_type": "stream",
     "text": [
      "Nhap chuoi:Doan XeM\n",
      "D True\n",
      "o False\n",
      "a False\n",
      "n False\n",
      "  \n",
      "X True\n",
      "e False\n",
      "M True\n"
     ]
    }
   ],
   "source": [
    "a = input(\"Nhap chuoi:\")\n",
    "k = 0\n",
    "for i in range (len(a)):\n",
    "    c = \"\"\n",
    "    if (\"A\"<=a[k]<=\"Z\"):\n",
    "        c = True\n",
    "    if (\"a\"<=a[k]<=\"z\"):\n",
    "        c = False\n",
    "    print(a[k], c)\n",
    "    k += 1"
   ]
  },
  {
   "cell_type": "markdown",
   "id": "1373dc74",
   "metadata": {},
   "source": [
    "### Bài 5\n",
    "\n",
    "Nhập vào một chuỗi, tìm các ký tự chỉ xuất hiện một lần trong chuỗi (nếu xuất hiện 1 lần in true, xuất hiện nhiều lần in false)\n",
    "\n",
    "Ví dụ:\n",
    "\n",
    "Nhập chuỗi: \"ABAbc\"\n",
    "\n",
    "In:\n",
    "\n",
    "A: False\n",
    "\n",
    "B: True\n",
    "\n",
    "A: False\n",
    "\n",
    "b: True\n",
    "\n",
    "c: True"
   ]
  },
  {
   "cell_type": "code",
   "execution_count": 4,
   "id": "a93bc53d",
   "metadata": {},
   "outputs": [
    {
     "name": "stdout",
     "output_type": "stream",
     "text": [
      "Nhap chuoi:ABAbc\n",
      "A: False\n",
      "B: True\n",
      "A: False\n",
      "b: True\n",
      "c: True\n"
     ]
    }
   ],
   "source": [
    "a = input(\"Nhap chuoi:\")\n",
    "for i in range(len(a)):\n",
    "    print(a[i], a.count(a[i])==1, sep = \": \")"
   ]
  },
  {
   "cell_type": "markdown",
   "id": "69bebf4c",
   "metadata": {},
   "source": [
    "### Bài 6\n",
    "\n",
    "Nhập vào một chuỗi, kiểm tra trong chuỗi có con số hay không, nếu có in True, không có in False"
   ]
  },
  {
   "cell_type": "code",
   "execution_count": 8,
   "id": "1b4eab4f",
   "metadata": {},
   "outputs": [
    {
     "name": "stdout",
     "output_type": "stream",
     "text": [
      "Nhap chuoi:anh yeu em 3000\n",
      "True\n"
     ]
    }
   ],
   "source": [
    "a = input(\"Nhap chuoi:\")\n",
    "b = False\n",
    "for i in range (len(a)):\n",
    "    if (\"0\"<=a[i]<=\"9\"):\n",
    "        b = True\n",
    "        break\n",
    "print(b)"
   ]
  },
  {
   "cell_type": "markdown",
   "id": "1e51403c",
   "metadata": {},
   "source": [
    "### Bài 7\n",
    "\n",
    "Nhập vào một chuỗi, tách những con số có trong chuỗi ra rồi tính tổng của chúng\n",
    "\n",
    "In tổng lên màn hình"
   ]
  },
  {
   "cell_type": "code",
   "execution_count": 10,
   "id": "a34e349d",
   "metadata": {},
   "outputs": [
    {
     "name": "stdout",
     "output_type": "stream",
     "text": [
      "Nhap chuoi:1234 xin chao 5\n",
      "15\n"
     ]
    }
   ],
   "source": [
    "a = input(\"Nhap chuoi:\")\n",
    "b = 0\n",
    "for i in range (len(a)):\n",
    "    if(\"0\"<=a[i]<=\"9\"):\n",
    "        b += int(a[i])\n",
    "print(b)"
   ]
  },
  {
   "cell_type": "markdown",
   "id": "e951779d",
   "metadata": {},
   "source": [
    "### Bài 8\n",
    "\n",
    "Nhập vào một chuỗi, đảo ngược chuỗi đã nhập rồi in ra màn hình"
   ]
  },
  {
   "cell_type": "code",
   "execution_count": 1,
   "id": "9305f0f1",
   "metadata": {},
   "outputs": [
    {
     "name": "stdout",
     "output_type": "stream",
     "text": [
      "Nhap chuoi:1345\n",
      "5431"
     ]
    }
   ],
   "source": [
    "a = input(\"Nhap chuoi:\")\n",
    "# for i in range (-1, -len(a)-1, -1):\n",
    "#     print(a[i], end=\"\")\n",
    "k = -1\n",
    "for i in range (len(a)):\n",
    "    print(a[k], end=\"\")\n",
    "    k += -1"
   ]
  },
  {
   "cell_type": "markdown",
   "id": "04194b5c",
   "metadata": {},
   "source": [
    "### Bài 9\n",
    "\n",
    "Nhập vào một chuỗi, kiểm tra xem mỗi từ trong chuỗi có được viết hoa chữ cái đầu hay không, nếu tất cả đều được viết hoa thì in ra True, còn không thì in ra False\n",
    "\n",
    "Trong trường hợp là False, hãy viết hoa tất cả các chữ cái đầu của mỗi từ rồi in lên màn hình\n",
    "\n",
    "Cách làm thông thường:"
   ]
  },
  {
   "cell_type": "code",
   "execution_count": null,
   "id": "9f947c7d",
   "metadata": {},
   "outputs": [],
   "source": [
    "a = input(\"Nhap chuoi:\")\n",
    "c =  True\n",
    "if (\"a\"<=a[0]<=\"z\"):\n",
    "    c = False\n",
    "    a = a[0].upper() + a[1:]\n",
    "k = 1\n",
    "for i in range(len(a)-2):\n",
    "    if not(\"A\"<=a[k]<=\"Z\" or \"a\"<=a[k]<=\"z\"):\n",
    "        if (\"a\"<=a[k+1]<=\"z\"):\n",
    "            c = False\n",
    "            a = a[:k+1] + a[k+1].upper() + a[k+2:]\n",
    "    k+=1\n",
    "print(c)\n",
    "print(a)"
   ]
  },
  {
   "cell_type": "code",
   "execution_count": null,
   "id": "bd3e424a",
   "metadata": {},
   "outputs": [],
   "source": [
    "a = input(\"Nhap chuoi:\")\n",
    "b = a.split()\n"
   ]
  },
  {
   "cell_type": "markdown",
   "id": "f43e32af",
   "metadata": {},
   "source": [
    "Cách sử dụng lệnh có sẵn:"
   ]
  },
  {
   "cell_type": "code",
   "execution_count": 34,
   "id": "714f1412",
   "metadata": {},
   "outputs": [
    {
     "name": "stdout",
     "output_type": "stream",
     "text": [
      "Nhap chuoi:Kiểm Tra Xem Mỗi Từ Trong Chuỗi Có Được V\n",
      "True\n"
     ]
    }
   ],
   "source": [
    "a = input(\"Nhap chuoi:\")\n",
    "b = a.title()\n",
    "print(b==a)\n",
    "if(b!=a):\n",
    "    print(b)"
   ]
  }
 ],
 "metadata": {
  "kernelspec": {
   "display_name": "Python 3 (ipykernel)",
   "language": "python",
   "name": "python3"
  },
  "language_info": {
   "codemirror_mode": {
    "name": "ipython",
    "version": 3
   },
   "file_extension": ".py",
   "mimetype": "text/x-python",
   "name": "python",
   "nbconvert_exporter": "python",
   "pygments_lexer": "ipython3",
   "version": "3.10.4"
  }
 },
 "nbformat": 4,
 "nbformat_minor": 5
}
