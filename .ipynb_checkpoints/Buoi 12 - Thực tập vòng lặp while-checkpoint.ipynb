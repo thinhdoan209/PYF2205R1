{
 "cells": [
  {
   "cell_type": "markdown",
   "id": "1f7be993",
   "metadata": {},
   "source": [
    "# Thực tập vòng lặp While\n",
    "\n",
    "### Bài 1\n",
    "\n",
    "Nhập vào số a, sử dụng lệnh while (không sử dụng break và for) để xác định xem số đó có phải là số nguyên tố hay không"
   ]
  },
  {
   "cell_type": "code",
   "execution_count": 3,
   "id": "8cb73965",
   "metadata": {},
   "outputs": [
    {
     "name": "stdout",
     "output_type": "stream",
     "text": [
      "Nhap a:19\n",
      "La so nguyen to\n"
     ]
    }
   ],
   "source": [
    "a = int(input(\"Nhap a:\"))\n",
    "while a<=0:\n",
    "    a = int(input(\"Nhap lai:\"))\n",
    "i = 2\n",
    "#a chia hết cho i sẽ dừng lặp\n",
    "#i>= a sẽ dừng lặp\n",
    "while not (a%i==0 or i>=a):\n",
    "    i+=1\n",
    "if i>=a:\n",
    "    print(\"La so nguyen to\")\n",
    "else:\n",
    "    print(\"Khong phai so nguyen to\")"
   ]
  },
  {
   "cell_type": "markdown",
   "id": "9f2357ca",
   "metadata": {},
   "source": [
    "### Bài 2\n",
    "\n",
    "Hãy sử dụng lệnh while lập trình cho bài đoán số ở buổi thứ 9"
   ]
  },
  {
   "cell_type": "code",
   "execution_count": null,
   "id": "db79cb9d",
   "metadata": {},
   "outputs": [],
   "source": []
  },
  {
   "cell_type": "markdown",
   "id": "58f5b789",
   "metadata": {},
   "source": [
    "### Bài 3\n",
    "\n",
    "Nhập vào số a, hãy đếm a có bao nhiêu chữ số chẵn, bao nhiêu cữ số lẻ\n",
    "\n",
    "#### Cách 1 (dùng chuỗi):"
   ]
  },
  {
   "cell_type": "code",
   "execution_count": 3,
   "id": "e7f9da21",
   "metadata": {},
   "outputs": [
    {
     "name": "stdout",
     "output_type": "stream",
     "text": [
      "Nhap a:1221\n",
      "Chan: 2  Le: 2\n"
     ]
    }
   ],
   "source": [
    "a = int(input(\"Nhap a:\"))\n",
    "while a<=0:\n",
    "    a = int(input(\"Nhap lai:\"))\n",
    "\n",
    "a = str(a)\n",
    "i = 0\n",
    "chan = 0\n",
    "le = 0\n",
    "while i<len(a):\n",
    "    if int(a[i])%2==0:\n",
    "        chan +=1\n",
    "    else:\n",
    "        le+=1\n",
    "    i+=1\n",
    "print(\"Chan:\",chan,\" Le:\", le)"
   ]
  },
  {
   "cell_type": "markdown",
   "id": "9a3d9703",
   "metadata": {},
   "source": [
    "#### Cách 2 (không dùng chuỗi):"
   ]
  },
  {
   "cell_type": "code",
   "execution_count": 11,
   "id": "d4e474c8",
   "metadata": {},
   "outputs": [
    {
     "name": "stdout",
     "output_type": "stream",
     "text": [
      "Nhap a:15\n",
      "Chan: 0  Le: 2\n"
     ]
    }
   ],
   "source": [
    "a = int(input(\"Nhap a:\"))\n",
    "while a<=0:\n",
    "    a = int(input(\"Nhap lai:\"))\n",
    "\n",
    "chan = 0\n",
    "le = 0\n",
    "\n",
    "while a !=0:\n",
    "    if a%2==0:\n",
    "        chan +=1\n",
    "    else:\n",
    "        le+=1\n",
    "    a = a//10\n",
    "print(\"Chan:\", chan, \" Le:\", le)"
   ]
  },
  {
   "cell_type": "code",
   "execution_count": 7,
   "id": "012bf7ae",
   "metadata": {},
   "outputs": [
    {
     "name": "stdout",
     "output_type": "stream",
     "text": [
      "0\n"
     ]
    }
   ],
   "source": [
    "print(int(3/10))"
   ]
  },
  {
   "cell_type": "markdown",
   "id": "69539ece",
   "metadata": {},
   "source": [
    "### Bài 4\n",
    "\n",
    "Nhập vào số a, hãy tính tổng các chữ số nguyên tố của a"
   ]
  },
  {
   "cell_type": "code",
   "execution_count": 19,
   "id": "f001bd9a",
   "metadata": {},
   "outputs": [
    {
     "name": "stdout",
     "output_type": "stream",
     "text": [
      "Nhap a:1235436\n",
      "13\n"
     ]
    }
   ],
   "source": [
    "a = int(input(\"Nhap a:\"))\n",
    "while a<=0:\n",
    "    a = int(input(\"Nhap lai:\"))\n",
    "\n",
    "s = 0\n",
    "while a!= 0:\n",
    "    b = a%10\n",
    "    if b in (2, 3, 5, 7):\n",
    "        s += b\n",
    "    a = a//10\n",
    "print(s)"
   ]
  },
  {
   "cell_type": "markdown",
   "id": "0a5075a4",
   "metadata": {},
   "source": [
    "### Bài 5\n",
    "\n",
    "Số armstrong là số có tổng của các chữ số mũ số lượng chữ số bằng chính nó\n",
    "\n",
    "Ví dụ\n",
    "\n",
    "Số 371 là một số armstrong vì:\n",
    "\n",
    "371 = 3^3 + 7^3 + 1^3 (3 là số lượng chữ số của 371)\n",
    "\n",
    "Số 1634 là một số armstrong vì:\n",
    "\n",
    "1634 = 1^4 + 6^4 + 3^4 + 4^4 (4 là số lượng chữ số của 1634)\n",
    "\n",
    "Nhập vào số a, kiểm tra xem a có phải là số armstrong không"
   ]
  },
  {
   "cell_type": "code",
   "execution_count": 31,
   "id": "b9ed54a5",
   "metadata": {},
   "outputs": [
    {
     "name": "stdout",
     "output_type": "stream",
     "text": [
      "Nhap a:54748\n",
      "54748 là một số armstrong\n"
     ]
    }
   ],
   "source": [
    "a = int(input(\"Nhap a:\"))\n",
    "while a<=0:\n",
    "    a = int(input(\"Nhap lai:\"))\n",
    "    \n",
    "s = 0\n",
    "a0 = a\n",
    "n = len(str(a))\n",
    "while a!=0:\n",
    "    s += (a%10)**n\n",
    "    a = a//10\n",
    "if a0 == s:\n",
    "    print(a0, \"là một số armstrong\")\n",
    "else:\n",
    "    print(a0, \"không phải số armstrong\")"
   ]
  },
  {
   "cell_type": "code",
   "execution_count": 1,
   "id": "0283b22b",
   "metadata": {},
   "outputs": [
    {
     "name": "stdout",
     "output_type": "stream",
     "text": [
      "0, 1, 2, 3, 4, 5, 6, 7, 8, 9, 153, 370, 371, 407, 1634, 8208, 9474, 54748, 92727, 93084, "
     ]
    }
   ],
   "source": [
    "def f1(a):\n",
    "    s = 0\n",
    "    a0 = a\n",
    "    l = len(str(a))\n",
    "    while a!=0:\n",
    "        s += (a%10)**l\n",
    "        a = a//10\n",
    "    if a0 == s:\n",
    "        return True\n",
    "    else:\n",
    "        return False\n",
    "m = 100000\n",
    "for i in range(m):\n",
    "    if f1(i):\n",
    "        print(i, end = \", \")"
   ]
  },
  {
   "cell_type": "markdown",
   "id": "f8a584d3",
   "metadata": {},
   "source": [
    "### Bài 6\n",
    "\n",
    "Dãy số fibonacci là dãy số được định nghĩa như sau: 1, 1, 2, 3, 5, 8, 13,... với số kế tiếp sẽ bằng tổng hai số trước đó\n",
    "\n",
    "Nhập vào A, hãy tìm số trong dãy số fibonacci lớn nhất nhưng không vượt quá A"
   ]
  },
  {
   "cell_type": "code",
   "execution_count": 37,
   "id": "3ad4d85b",
   "metadata": {},
   "outputs": [
    {
     "name": "stdout",
     "output_type": "stream",
     "text": [
      "Nhập A: 7000\n",
      "6765\n"
     ]
    }
   ],
   "source": [
    "a = int(input(\"Nhập A: \"))\n",
    "while a<=0:\n",
    "    a = int(input(\"Nhập lại: \"))\n",
    "\n",
    "b1 = 1\n",
    "b2 = 1\n",
    "\n",
    "while b1 + b2 <=a:\n",
    "    b1, b2 = b2, b1+b2\n",
    "print(b2)"
   ]
  },
  {
   "cell_type": "code",
   "execution_count": 36,
   "id": "026a7b4a",
   "metadata": {},
   "outputs": [
    {
     "name": "stdout",
     "output_type": "stream",
     "text": [
      "1, 1, 2, 3, 5, 8, 13, 21, 34, 55, 89, 144, 233, 377, 610, 987, 1597, 2584, 4181, 6765, "
     ]
    }
   ],
   "source": [
    "# In day so Fibonacci\n",
    "m = 10000\n",
    "\n",
    "b1 = 1\n",
    "b2 = 1\n",
    "print(\"1, 1\", end = \", \")\n",
    "while b1 + b2 <=m:\n",
    "    b1, b2 = b2, b1+b2\n",
    "    print(b2, end = \", \")"
   ]
  },
  {
   "cell_type": "markdown",
   "id": "9fa794f2",
   "metadata": {},
   "source": [
    "### Bài 7\n",
    "\n",
    "Nhập vào A, tìm n nhỏ nhất sao cho\n",
    "\n",
    "1 + 1/2 + 1/3 + 1/4 + ... + 1/n > A"
   ]
  },
  {
   "cell_type": "code",
   "execution_count": 2,
   "id": "246ec002",
   "metadata": {},
   "outputs": [
    {
     "name": "stdout",
     "output_type": "stream",
     "text": [
      "Nhập A: 2\n",
      "4\n"
     ]
    }
   ],
   "source": [
    "a = int(input(\"Nhập A: \"))\n",
    "while a<=0:\n",
    "    a = int(input(\"Nhập lại: \"))\n",
    "    \n",
    "s = 0\n",
    "i = 0\n",
    "\n",
    "while s<=a:\n",
    "    i+=1\n",
    "    s +=1/i\n",
    "print(i)"
   ]
  },
  {
   "cell_type": "markdown",
   "id": "c5fd4d8a",
   "metadata": {},
   "source": [
    "### Bài 8\n",
    "\n",
    "Nhập vào a và b là số nguyên dương (b có một chữ số, nhập sai yêu cầu nhập lại), hãy tìm vị trí đầu tiên (bắt đầu từ bên trái) của b trong a, nếu không tìm thấy thì in kết quả là 0 (ví trí đầu bắt đầu từ 1)\n",
    "\n",
    "<b>Ví dụ:</b>\n",
    "\n",
    "<b>Nhập:</b>\n",
    "- a = 125785\n",
    "- b = 5\n",
    "\n",
    "<b>Kết quả:</b> 3 (do số 5 nằm ở vị trí 3)"
   ]
  },
  {
   "cell_type": "code",
   "execution_count": 18,
   "id": "9edf35ac",
   "metadata": {
    "scrolled": true
   },
   "outputs": [
    {
     "name": "stdout",
     "output_type": "stream",
     "text": [
      "Nhập a: 46546\n",
      "Nhập b:7\n",
      "0\n"
     ]
    }
   ],
   "source": [
    "a = int(input(\"Nhập a: \"))\n",
    "while a<=0:\n",
    "    a = int(input(\"Nhập lại a:\"))\n",
    "b = int(input(\"Nhập b:\"))\n",
    "while b<=0:\n",
    "    b = int(input(\"Nhập lại b:\"))\n",
    "\n",
    "a = str(a)\n",
    "b = str(b)\n",
    "x = a.find(b)\n",
    "print(x+1)"
   ]
  },
  {
   "cell_type": "code",
   "execution_count": 3,
   "id": "09c384c8",
   "metadata": {},
   "outputs": [
    {
     "name": "stdout",
     "output_type": "stream",
     "text": [
      "Nhập a: 5432523\n",
      "Nhập b:4\n",
      "2\n"
     ]
    }
   ],
   "source": [
    "a = int(input(\"Nhập a: \"))\n",
    "while a<=0:\n",
    "    a = int(input(\"Nhập lại a:\"))\n",
    "b = int(input(\"Nhập b:\"))\n",
    "while b<=0:\n",
    "    b = int(input(\"Nhập lại b:\"))\n",
    "\n",
    "a = str(a)\n",
    "c = 0\n",
    "for i in range(len(a)):\n",
    "    if int(a[i]) == b:\n",
    "        c = i+1\n",
    "        break\n",
    "print(c)"
   ]
  },
  {
   "cell_type": "code",
   "execution_count": 2,
   "id": "fd2ef605",
   "metadata": {},
   "outputs": [
    {
     "name": "stdout",
     "output_type": "stream",
     "text": [
      "Nhập a: 34253452\n",
      "Nhập b:2\n",
      "3\n"
     ]
    }
   ],
   "source": [
    "a = int(input(\"Nhập a: \"))\n",
    "while a<=0:\n",
    "    a = int(input(\"Nhập lại a:\"))\n",
    "b = int(input(\"Nhập b:\"))\n",
    "while b<=0:\n",
    "    b = int(input(\"Nhập lại b:\"))\n",
    "\n",
    "a = str(a)\n",
    "c = 0\n",
    "i = 0\n",
    "while i<len(a):\n",
    "    if int(a[i]) == b:\n",
    "        c = i+1\n",
    "        break\n",
    "    i += 1\n",
    "print(c)"
   ]
  }
 ],
 "metadata": {
  "kernelspec": {
   "display_name": "Python 3 (ipykernel)",
   "language": "python",
   "name": "python3"
  },
  "language_info": {
   "codemirror_mode": {
    "name": "ipython",
    "version": 3
   },
   "file_extension": ".py",
   "mimetype": "text/x-python",
   "name": "python",
   "nbconvert_exporter": "python",
   "pygments_lexer": "ipython3",
   "version": "3.10.4"
  }
 },
 "nbformat": 4,
 "nbformat_minor": 5
}
