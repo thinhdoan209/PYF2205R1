{
 "cells": [
  {
   "cell_type": "markdown",
   "id": "1c805421",
   "metadata": {},
   "source": [
    "# Lớp và đối tượng\n",
    "\n",
    "### Lớp (class) là gì?\n",
    "\n",
    "Lớp (Class) là tập hợp tất cả các đối tượng có chung các thuộc tính và hành vi."
   ]
  },
  {
   "cell_type": "markdown",
   "id": "812bf15e",
   "metadata": {},
   "source": [
    "### Khai báo lớp\n",
    "\n",
    "`class <tên lớp>:\n",
    "    <khai báo biến>\n",
    "    <khai báo hàm>`\n",
    "    \n",
    "Ví dụ:\n",
    "\n",
    "`class giangvien:\n",
    "    ten = \"Nguyễn Tâm Điền\"\n",
    "    mon = \"Python căn bản\"\n",
    "    def inten(self):\n",
    "        print(self.ten)        \n",
    "dien = giangvien()\n",
    "print(dien.mon)\n",
    "dien.inten()`\n",
    "\n",
    "##### Lưu ý:\n",
    "\n",
    "- giangvien là 1 lớp\n",
    "- dien là 1 đối tượng có tất cả thuộc tính (có biến ten, mon và hàm inten) của lớp giangvien\n",
    "- inten là 1 hàm trong lớp giangvien\n",
    "- dien.mon là 1 biến trong đối tượng dien\n",
    "- dien.inten() là cách để gọi hàm inten trong đối tượng dien\n",
    "\n",
    "\n",
    "<b> Hãy chạy thử đoạn lệnh ở ví dụ: </b>"
   ]
  },
  {
   "cell_type": "code",
   "execution_count": 1,
   "id": "40598ff8",
   "metadata": {},
   "outputs": [
    {
     "name": "stdout",
     "output_type": "stream",
     "text": [
      "Python căn bản\n",
      "Nguyễn Tâm Điền\n"
     ]
    }
   ],
   "source": [
    "class giangvien:\n",
    "    ten = \"Nguyễn Tâm Điền\"\n",
    "    mon = \"Python căn bản\"\n",
    "    def inten(self):\n",
    "        print(self.ten)        \n",
    "dien = giangvien()\n",
    "print(dien.mon)\n",
    "dien.inten()"
   ]
  },
  {
   "cell_type": "markdown",
   "id": "6c4daedf",
   "metadata": {},
   "source": [
    "<b> Hãy tạo 1 class hocvien với 1 biến và 1 def giúp in giá trị biến đó ra màn hình </b>"
   ]
  },
  {
   "cell_type": "code",
   "execution_count": 4,
   "id": "5358318d",
   "metadata": {},
   "outputs": [
    {
     "name": "stdout",
     "output_type": "stream",
     "text": [
      "Thịnh\n",
      "9\n",
      "Đạt\n"
     ]
    }
   ],
   "source": [
    "class hocvien():\n",
    "    ten = \"Thịnh\"\n",
    "    diemso = 7\n",
    "    def inten(self):\n",
    "        print(self.ten)\n",
    "    def indiem(self):\n",
    "        print(self.diemso)\n",
    "    def danhGiaNangLuc(self):\n",
    "        if self.diemso >5:\n",
    "            print(\"Đạt\")\n",
    "        else:\n",
    "            print(\"Không đạt\")\n",
    "    def setDiem(self, diem):\n",
    "        if 0<=diem<=10:\n",
    "            self.diemso = diem\n",
    "\n",
    "thinh = hocvien()\n",
    "thinh.inten()\n",
    "thinh.setDiem(9)\n",
    "thinh.indiem()\n",
    "thinh.danhGiaNangLuc()\n"
   ]
  },
  {
   "cell_type": "markdown",
   "id": "b2481280",
   "metadata": {},
   "source": [
    "### Tham số self\n",
    "\n",
    "Tham số self là tham số được sử dụng khi khai báo các hàm trong lớp\n",
    "\n",
    "Tham số self miêu tả chính lớp ta đang xây dựng, giúp chúng ta sử dụng được những biến và hàm của lớp đó\n",
    "\n",
    "Ví dụ:\n",
    "\n",
    "`class giangvien:\n",
    "    ten = \"Nguyễn Tâm Điền\"\n",
    "    mon = \"Python căn bản\"\n",
    "    def doiten(self,ten):\n",
    "        self.ten = ten\n",
    "    def inten(self):\n",
    "        print(self.ten)        \n",
    "dien = giangvien()\n",
    "dien.doiten(\"NTD\")\n",
    "dien.inten()`\n",
    "\n",
    "Sau khi thực hiện đoạn code trên, giá trị của biến ten trong đối tượng dien đã bị thay đổi thành \"NTD\"\n",
    "\n",
    "<b> Hãy chạy thử đoạn lệnh ở ví dụ: </b>"
   ]
  },
  {
   "cell_type": "code",
   "execution_count": null,
   "id": "fd2f5d7c",
   "metadata": {},
   "outputs": [],
   "source": []
  },
  {
   "cell_type": "markdown",
   "id": "4dfd8d1d",
   "metadata": {},
   "source": [
    "<b> Hãy thêm 1 def vào class hocvien giúp thay đổi giá trị biến bất kỳ trong class </b>"
   ]
  },
  {
   "cell_type": "code",
   "execution_count": null,
   "id": "98d911c0",
   "metadata": {},
   "outputs": [],
   "source": []
  },
  {
   "cell_type": "markdown",
   "id": "b2909dd4",
   "metadata": {},
   "source": [
    "### Hàm \\_\\_init__\n",
    "\n",
    "Hàm \\_\\_init__ là hàm khởi tạo\n",
    "\n",
    "Ví dụ:\n",
    "\n",
    "`class giangvien:\n",
    "    def __init__(self,ten,mon):\n",
    "        self.ten = ten\n",
    "        self.mon = mon\n",
    "    def doiten(self,ten):\n",
    "        self.ten = ten\n",
    "    def inten(self):\n",
    "        print(self.ten)   \n",
    "dien = giangvien(\"Điền\",\"Python căn bản\")\n",
    "thang = giangvien(\"Thắng\",\"Python siêu cấp\")\n",
    "dien.inten()\n",
    "thang.inten()`\n",
    "\n",
    "<b> Hãy chạy thử đoạn lệnh ở ví dụ: </b>"
   ]
  },
  {
   "cell_type": "code",
   "execution_count": null,
   "id": "f15266fb",
   "metadata": {},
   "outputs": [],
   "source": []
  },
  {
   "cell_type": "markdown",
   "id": "9064cc0a",
   "metadata": {},
   "source": [
    "<b> Hãy thêm 1 def \\_\\_init__ vào class hocvien để khởi tạo tên và tuổi của học viên </b>"
   ]
  },
  {
   "cell_type": "code",
   "execution_count": null,
   "id": "3e6a0dae",
   "metadata": {},
   "outputs": [],
   "source": []
  },
  {
   "cell_type": "markdown",
   "id": "d137f2f5",
   "metadata": {},
   "source": [
    "### Bài tập"
   ]
  },
  {
   "cell_type": "markdown",
   "id": "d243726c",
   "metadata": {},
   "source": [
    "Hãy xây dựng 1 class hình tròn có các thuộc tính sau:\n",
    "\n",
    "- biến x và y chứa tọa độ tâm đường tròn\n",
    "- biến r chứa bán kính đường chọn\n",
    "- hàm draw: để vẽ đường tròn"
   ]
  },
  {
   "cell_type": "code",
   "execution_count": 1,
   "id": "4121525f",
   "metadata": {},
   "outputs": [],
   "source": [
    "import turtle\n",
    "t = turtle.Turtle()\n",
    "\n",
    "class hinhtron:\n",
    "    def __init__(self,x,y,r):\n",
    "        self.x = x\n",
    "        self.y = y\n",
    "        self.r = r\n",
    "    def draw(self):\n",
    "        t.penup()\n",
    "        t.goto(self.x, self.y-self.r)\n",
    "        t.pendown()\n",
    "        t.circle(self.r)\n",
    "\n",
    "ht1 = hinhtron(-100, 100, 50)\n",
    "ht1.draw()\n",
    "\n",
    "turtle.done()"
   ]
  },
  {
   "cell_type": "markdown",
   "id": "9017050f",
   "metadata": {},
   "source": [
    "Tạo một lớp phân số có các thuộc tính:\n",
    "\n",
    "- biến tử số và mẫu số\n",
    "- hàm cong: để cộng với một đối tượng khác có lớp phân số rồi trả về dối tượng có phân số mới\n",
    "- hàm tru: để trừ với một đối tượng khác có lớp phân số rồi trả về dối tượng có phân số mới\n",
    "- hàm nhan: để nhân với một đối tượng khác có lớp phân số rồi trả về dối tượng có phân số mới\n",
    "- hàm chia: để chia với một đối tượng khác có lớp phân số rồi trả về dối tượng có phân số mới\n",
    "- hàm toigian: để tối giản phân số rồi trả về dối tượng có phân số mới"
   ]
  },
  {
   "cell_type": "code",
   "execution_count": 14,
   "id": "2ae72d93",
   "metadata": {},
   "outputs": [
    {
     "name": "stdout",
     "output_type": "stream",
     "text": [
      "1/2\n"
     ]
    }
   ],
   "source": [
    "class PhanSo:\n",
    "    def __init__(self,tuso,mauso):\n",
    "        self.tuso = tuso\n",
    "        self.mauso = mauso\n",
    "    def inPhanSo(self):\n",
    "        print(self.tuso,\"/\",self.mauso,sep = \"\")\n",
    "    def cong(self,psA):\n",
    "        tuso_ketqua = self.tuso*psA.mauso + self.mauso*psA.tuso\n",
    "        mauso_ketqua = self.mauso*psA.mauso\n",
    "        return PhanSo(tuso_ketqua, mauso_ketqua)\n",
    "    def tru(self, psA):\n",
    "        tuso_ketqua = self.tuso*psA.mauso - self.mauso*psA.tuso\n",
    "        mauso_ketqua = self.mauso*psA.mauso\n",
    "        return PhanSo(tuso_ketqua, mauso_ketqua)\n",
    "    def nhan(self, psA):\n",
    "        tuso_ketqua = self.tuso*psA.tuso\n",
    "        mauso_ketqua = self.mauso*psA.mauso\n",
    "        return PhanSo(tuso_ketqua, mauso_ketqua)\n",
    "    def chia(self, psA):\n",
    "        tuso_ketqua = self.tuso*psA.mauso\n",
    "        mauso_ketqua = self.mauso*psA.tuso\n",
    "        return PhanSo(tuso_ketqua, mauso_ketqua)\n",
    "    def toigian(self):\n",
    "        i = 2\n",
    "        while i<=self.tuso:\n",
    "            if self.tuso%i == 0 and self.mauso%i == 0:\n",
    "                self.tuso = int(self.tuso/i)\n",
    "                self.mauso = int(self.mauso/i)\n",
    "            i+=1\n",
    "ps1 = PhanSo(2,3)\n",
    "ps2 = PhanSo(3,5)\n",
    "ps3 = PhanSo(4,8)\n",
    "ps3.toigian()\n",
    "ps3.inPhanSo()"
   ]
  },
  {
   "cell_type": "markdown",
   "id": "39a8cb80",
   "metadata": {},
   "source": [
    "Viết class NhanVien gồm các thuộc tính:\n",
    "\n",
    "<b> Các biến </b>\n",
    "\n",
    "- Tên\n",
    "- Tuổi\n",
    "- Địa chỉ\n",
    "- Tiền lương\n",
    "- Tổng số giờ làm\n",
    "\n",
    "<b> Các hàm </b>\n",
    "\n",
    "- nhap : Nhập các thông tin cho nhân viên từ bàn phím\n",
    "- in : In ra tất cả các thông tin của nhân viên\n",
    "- thuong: Tính toán và trả về số tiền thưởng của nhân viên theo công thức sau:\n",
    "\n",
    "    Nếu tổng số giờ làm của nhân viên >=200 thì thưởng = lương * 20%\n",
    "    \n",
    "    Nếu tổng số giờ làm của nhân viên <200 và >=100 thì thưởng = lương * 10%\n",
    "    \n",
    "    Nếu tổng số giờ làm của nhân viên <100 thì thưởng = 0"
   ]
  },
  {
   "cell_type": "code",
   "execution_count": 2,
   "id": "26d12a44",
   "metadata": {},
   "outputs": [
    {
     "ename": "SyntaxError",
     "evalue": "incomplete input (3036848653.py, line 1)",
     "output_type": "error",
     "traceback": [
      "\u001b[1;36m  Input \u001b[1;32mIn [2]\u001b[1;36m\u001b[0m\n\u001b[1;33m    class NhanVien:\u001b[0m\n\u001b[1;37m                   ^\u001b[0m\n\u001b[1;31mSyntaxError\u001b[0m\u001b[1;31m:\u001b[0m incomplete input\n"
     ]
    }
   ],
   "source": [
    "class NhanVien:\n",
    "    ten = \"\"\n",
    "    tuoi = \"\"\n",
    "    diachi = \"\"\n",
    "    tienluong = \"\"\n",
    "    tonggiolam = \"\"\n",
    "    def nhap(self):\n",
    "        self.ten = input(\"Tên: \")\n",
    "        self.tuoi = int(input(\"Tuổi: \"))\n",
    "        self.diachi = input(\"Địa chỉ: \")\n",
    "        self.tienluong = int(input(\"Tiền lương: \"))\n",
    "        self.tonggiolam = float(input(\"Tổng giờ làm: \"))\n",
    "    def in(self):\n",
    "        print(\"Tên:\", self.ten)\n",
    "        print(\"Tuổi:\", self.tuoi)\n",
    "        print(\"Địa chỉ:\", self.diachi)\n",
    "        print(\"Tiền lương:\", self.)\n",
    "        "
   ]
  }
 ],
 "metadata": {
  "kernelspec": {
   "display_name": "Python 3 (ipykernel)",
   "language": "python",
   "name": "python3"
  },
  "language_info": {
   "codemirror_mode": {
    "name": "ipython",
    "version": 3
   },
   "file_extension": ".py",
   "mimetype": "text/x-python",
   "name": "python",
   "nbconvert_exporter": "python",
   "pygments_lexer": "ipython3",
   "version": "3.10.4"
  }
 },
 "nbformat": 4,
 "nbformat_minor": 5
}
