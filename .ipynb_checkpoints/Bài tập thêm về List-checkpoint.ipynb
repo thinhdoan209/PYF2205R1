{
 "cells": [
  {
   "cell_type": "markdown",
   "id": "5761f2a7",
   "metadata": {},
   "source": [
    "Hãy kiểm tra mảng số nguyên có tồn tại hai giá trị không liên tiếp hay không ?"
   ]
  },
  {
   "cell_type": "code",
   "execution_count": 2,
   "id": "a0acf4b7",
   "metadata": {},
   "outputs": [
    {
     "name": "stdout",
     "output_type": "stream",
     "text": [
      "False\n"
     ]
    }
   ],
   "source": [
    "def kiemtra1(L):\n",
    "    for i in range(len(L)-1):\n",
    "        if L[i] == 0 == L[i+1]:\n",
    "            return True\n",
    "    return False\n",
    "L = [1,3,4,5,0,1,1,3]\n",
    "print(kiemtra1(L))"
   ]
  },
  {
   "cell_type": "markdown",
   "id": "ae867e74",
   "metadata": {},
   "source": [
    "Hãy kiểm tra mảng số nguyên có tồn tại giá trị chẵn hay không? Nếu không tồn tại giá trị chẵn trả về giá trị 0, hay ngược lại trả về 1."
   ]
  },
  {
   "cell_type": "code",
   "execution_count": 5,
   "id": "1abdd057",
   "metadata": {},
   "outputs": [
    {
     "name": "stdout",
     "output_type": "stream",
     "text": [
      "0\n"
     ]
    }
   ],
   "source": [
    "def kiemtra2(L):\n",
    "    for i in L:\n",
    "        if i%2 == 0:\n",
    "            return 1\n",
    "    return 0\n",
    "L = [1,3,7,5,3,1,1,3]\n",
    "print(kiemtra2(L))"
   ]
  },
  {
   "cell_type": "markdown",
   "id": "5a49eda8",
   "metadata": {},
   "source": [
    "Hãy cho biết mảng các số nguyên có toàn số chẵn hay không? Nếu có tồn tại giá trị lẻ trả về giá trị 0, ngược lại trả về 1."
   ]
  },
  {
   "cell_type": "code",
   "execution_count": 6,
   "id": "9b4d2f7d",
   "metadata": {},
   "outputs": [
    {
     "name": "stdout",
     "output_type": "stream",
     "text": [
      "1\n"
     ]
    }
   ],
   "source": [
    "def kiemtra3(L):\n",
    "    for i in L:\n",
    "        if i%2 == 1:\n",
    "            return 0\n",
    "    return 1\n",
    "L = [2,4,64,44,78]\n",
    "print(kiemtra3(L))"
   ]
  },
  {
   "cell_type": "markdown",
   "id": "a736df1e",
   "metadata": {},
   "source": [
    "Hãy kiểm tra mảng một chiều các số thực có đối xứng hay không?"
   ]
  },
  {
   "cell_type": "code",
   "execution_count": 14,
   "id": "c360bf6e",
   "metadata": {},
   "outputs": [
    {
     "name": "stdout",
     "output_type": "stream",
     "text": [
      "False\n"
     ]
    }
   ],
   "source": [
    "def kiemtra4(L):\n",
    "    l = len(L)//2\n",
    "    for i in range(l):\n",
    "        if L[i] != L[-1-i]:\n",
    "            return False\n",
    "    return True\n",
    "L = [0,1,2,3,5,6,3,2,1,0]\n",
    "print(kiemtra4(L))"
   ]
  },
  {
   "cell_type": "markdown",
   "id": "975b9821",
   "metadata": {},
   "source": [
    "Ta định nghĩa một mảng có tính chẵn lẻ, khi tổng của hai phần tử liên tiếp trong mảng luôn luôn là số lẻ. Hãy viết hàm kiểm tra mảng a có tính chẵn lẻ hay không?"
   ]
  },
  {
   "cell_type": "code",
   "execution_count": 16,
   "id": "7ec6108e",
   "metadata": {},
   "outputs": [
    {
     "name": "stdout",
     "output_type": "stream",
     "text": [
      "False\n"
     ]
    }
   ],
   "source": [
    "def check_chanle(L):\n",
    "    for i in range(len(L)-1):\n",
    "        if (L[i]+L[i+1])%2 == 0:\n",
    "            return False\n",
    "    return True\n",
    "L = [1,2,3,4,5,6,7,8,12]\n",
    "print(check_chanle(L))"
   ]
  },
  {
   "cell_type": "markdown",
   "id": "434a04e0",
   "metadata": {},
   "source": [
    "Hãy kiểm tra mảng có tăng dần hay không?"
   ]
  },
  {
   "cell_type": "code",
   "execution_count": 18,
   "id": "ba375910",
   "metadata": {},
   "outputs": [
    {
     "name": "stdout",
     "output_type": "stream",
     "text": [
      "False\n"
     ]
    }
   ],
   "source": [
    "def check_tangdan(L):\n",
    "    for i in range(len(L)-1):\n",
    "        if L[i] - L[i+1] > 0:\n",
    "            return False\n",
    "    return True\n",
    "L = [1,2,3,4,5,6,7,8,6]\n",
    "print(check_tangdan(L))"
   ]
  },
  {
   "cell_type": "markdown",
   "id": "2dca9538",
   "metadata": {},
   "source": [
    "Hãy kiểm tra mảng có giảm dần hay không?"
   ]
  },
  {
   "cell_type": "code",
   "execution_count": 21,
   "id": "eb5154cc",
   "metadata": {},
   "outputs": [
    {
     "name": "stdout",
     "output_type": "stream",
     "text": [
      "True\n"
     ]
    }
   ],
   "source": [
    "def check_giamdan(L):\n",
    "    for i in range(len(L)-1):\n",
    "        if L[i] - L[i+1] < 0:\n",
    "            return False\n",
    "    return True\n",
    "L = [10,9,6,3]\n",
    "print(check_giamdan(L))"
   ]
  },
  {
   "cell_type": "markdown",
   "id": "24dd211d",
   "metadata": {},
   "source": [
    "Hãy cho biết các phần tử trong mảng có lập thành cấp số cộng không? Nếu có hãy chỉ ra công sai d"
   ]
  },
  {
   "cell_type": "code",
   "execution_count": 27,
   "id": "e9dda389",
   "metadata": {},
   "outputs": [
    {
     "name": "stdout",
     "output_type": "stream",
     "text": [
      "False\n"
     ]
    }
   ],
   "source": [
    "def sapxep(L):\n",
    "    for i in range(len(L)-1):\n",
    "        for j in range(i+1, len(L)):\n",
    "            if L[i] > L[j]:\n",
    "                L[i], L[j] = L[j], L[i]\n",
    "    return L\n",
    "def check_capsocong(L):\n",
    "    L = sapxep(L)\n",
    "    d = L[1] - L[0]\n",
    "    for i in range(1, len(L)-1):\n",
    "        if L[i+1] - L[i] != d:\n",
    "            return False\n",
    "    return d\n",
    "\n",
    "L = [12,9,6,2]\n",
    "print(check_capsocong(L))"
   ]
  },
  {
   "cell_type": "code",
   "execution_count": 31,
   "id": "b8e4adcb",
   "metadata": {},
   "outputs": [
    {
     "name": "stdout",
     "output_type": "stream",
     "text": [
      "3\n"
     ]
    }
   ],
   "source": [
    "def check_capsocong(L):\n",
    "    L.sort()\n",
    "    d = L[1] - L[0]\n",
    "    for i in range(1, len(L)-1):\n",
    "        if L[i+1] - L[i] != d:\n",
    "            return False\n",
    "    return d\n",
    "\n",
    "L = [12,9,6,3]\n",
    "print(check_capsocong(L))"
   ]
  },
  {
   "cell_type": "markdown",
   "id": "19be5057",
   "metadata": {},
   "source": [
    "Hãy cho biết các phần tử trong mảng có bằng nhau không?"
   ]
  },
  {
   "cell_type": "code",
   "execution_count": 29,
   "id": "1ff05a5d",
   "metadata": {},
   "outputs": [
    {
     "name": "stdout",
     "output_type": "stream",
     "text": [
      "False\n"
     ]
    }
   ],
   "source": [
    "def check_bangnhau(L):\n",
    "    for i in range(1, len(L)):\n",
    "        if L[0]!=L[i]:\n",
    "            return False\n",
    "    return True\n",
    "L = [6,6,6,6,6,7]\n",
    "print(check_bangnhau(L))"
   ]
  },
  {
   "cell_type": "markdown",
   "id": "58268599",
   "metadata": {},
   "source": [
    "Người ta định nghĩa một mảng được gọi là “dạng sóng” khi phần tử có giá trị số I lớn hơn hoặc nhỏ hơn hai phần tử xung quanh nó. Hãy viết hàm kiểm tra trong a sóng hay không?"
   ]
  },
  {
   "cell_type": "code",
   "execution_count": 33,
   "id": "1572fb15",
   "metadata": {},
   "outputs": [
    {
     "name": "stdout",
     "output_type": "stream",
     "text": [
      "False\n"
     ]
    }
   ],
   "source": [
    "def dangsong(L):\n",
    "    for i in range(1,len(L)-1):\n",
    "        if (L[i]-L[i-1])*(L[i+1]-L[i]) >0:\n",
    "            return False\n",
    "    return True\n",
    "L = [6,8,6,5,6,7]\n",
    "print(dangsong(L))"
   ]
  },
  {
   "cell_type": "markdown",
   "id": "3a06a75d",
   "metadata": {},
   "source": [
    "Hãy đếm số lượng giá trị trong mảng thỏa tính chất: “lớn hơn tất cả các giá trị đứng đằng trước nó”"
   ]
  },
  {
   "cell_type": "code",
   "execution_count": 37,
   "id": "33f9e4a3",
   "metadata": {},
   "outputs": [
    {
     "name": "stdout",
     "output_type": "stream",
     "text": [
      "3\n"
     ]
    }
   ],
   "source": [
    "def dem1(L):\n",
    "    count = 0\n",
    "    tmp = L[0]\n",
    "    for i in range(1,len(L)):\n",
    "        if tmp < L[i]:\n",
    "            count += 1\n",
    "            tmp = L[i]\n",
    "    return count\n",
    "L = [6,8,6,5,6,10,11]\n",
    "print(dem1(L))"
   ]
  },
  {
   "cell_type": "markdown",
   "id": "09720f79",
   "metadata": {},
   "source": [
    "Hãy trộn hai mảng tăng dần lại thành 1 mảng được sắp thứ tự tăng dần"
   ]
  },
  {
   "cell_type": "code",
   "execution_count": 41,
   "id": "d91a0d7c",
   "metadata": {},
   "outputs": [
    {
     "data": {
      "text/plain": [
       "[5, 5, 6, 6, 6, 6, 6, 6, 7, 8, 8, 10, 11]"
      ]
     },
     "execution_count": 41,
     "metadata": {},
     "output_type": "execute_result"
    }
   ],
   "source": [
    "def tron2mang(L, L1):\n",
    "    L.extend(L1)\n",
    "    L.sort()\n",
    "    return L\n",
    "L = [6,8,6,5,6,7]\n",
    "L1 = [6,8,6,5,6,10,11]\n",
    "tron2mang(L, L1)"
   ]
  },
  {
   "cell_type": "code",
   "execution_count": 12,
   "id": "38fe562f",
   "metadata": {},
   "outputs": [
    {
     "name": "stdout",
     "output_type": "stream",
     "text": [
      "[1, 2, 3, 4, 5, 6, 7, 8, 12, 15, 18]\n"
     ]
    }
   ],
   "source": [
    "def fusionlist(L,K):\n",
    "    i = 0\n",
    "    j = 0\n",
    "    L_kq = []\n",
    "    while True:\n",
    "        if i == len(L) and j == len(K): return L_kq\n",
    "        if j<len(K) and (i == len(L) or L[i] > K[j]):\n",
    "                L_kq.append(K[j])\n",
    "                j += 1\n",
    "        else:\n",
    "            L_kq.append(L[i])\n",
    "            i += 1\n",
    "    \n",
    "L = [1,2,3,5,7]\n",
    "K = [4,6,8,12,15,18]\n",
    "print(fusionlist(K,L))"
   ]
  },
  {
   "cell_type": "markdown",
   "id": "c2a03df7",
   "metadata": {},
   "source": [
    "Hãy đưa các số chẵn trong mảng về đầu mảng, số lẻ về cuối mảng và các phần tử 0 năm ở giữa"
   ]
  },
  {
   "cell_type": "code",
   "execution_count": 14,
   "id": "2595ba23",
   "metadata": {},
   "outputs": [
    {
     "name": "stdout",
     "output_type": "stream",
     "text": [
      "[6, 8, 6, 6, 0, 0, 5, 7]\n"
     ]
    }
   ],
   "source": [
    "def sapxepchanle(L):\n",
    "    Chan = []\n",
    "    Le = []\n",
    "    Phantu0 = []\n",
    "    for i in L:\n",
    "        if i == 0:\n",
    "            Phantu0.append(i)\n",
    "        elif i%2==0:\n",
    "            Chan.append(i)\n",
    "        else:\n",
    "            Le.append(i)\n",
    "    return Chan + Phantu0 + Le\n",
    "L = [6,8,6,5,6,7,0,0]\n",
    "print(sapxepchanle(L))"
   ]
  },
  {
   "cell_type": "markdown",
   "id": "88a5356c",
   "metadata": {},
   "source": [
    "Hãy đưa các số chia hết cho 3 về đầu mảng"
   ]
  },
  {
   "cell_type": "code",
   "execution_count": 16,
   "id": "2015e143",
   "metadata": {},
   "outputs": [
    {
     "name": "stdout",
     "output_type": "stream",
     "text": [
      "[6, 6, 6, 0, 0, 8, 5, 7]\n"
     ]
    }
   ],
   "source": [
    "def sapxepchiahet3(L):\n",
    "    chiahet3 = []\n",
    "    khongchiahet3 = []\n",
    "    for i in L:\n",
    "        if i%3==0: chiahet3.append(i)\n",
    "        else: khongchiahet3.append(i)\n",
    "    return chiahet3 + khongchiahet3\n",
    "L = [6,8,6,5,6,7,0,0]\n",
    "print(sapxepchiahet3(L))"
   ]
  },
  {
   "cell_type": "markdown",
   "id": "873d2a46",
   "metadata": {},
   "source": [
    "Hãy xuất mảng theo yêu cầu: các phần tử chẵn nằm trên một hàng, các phần tử lẻ nằm ở hàng tiếp theo"
   ]
  },
  {
   "cell_type": "code",
   "execution_count": null,
   "id": "99109b77",
   "metadata": {},
   "outputs": [],
   "source": []
  },
  {
   "cell_type": "markdown",
   "id": "5e2c226d",
   "metadata": {},
   "source": [
    "Hãy biến đổi mảng bằng cách thay các giá trị lớn nhất bằng giá trị nhỏ nhất và ngược lại"
   ]
  },
  {
   "cell_type": "code",
   "execution_count": 31,
   "id": "62eefa1a",
   "metadata": {},
   "outputs": [
    {
     "name": "stdout",
     "output_type": "stream",
     "text": [
      "[1, 2, 3, 4, 4, 3, 2, 1]\n"
     ]
    }
   ],
   "source": [
    "def hoandoi(L):\n",
    "    L1 = L.copy()\n",
    "    while L1 != []:\n",
    "        v_max = max(L1)\n",
    "        v_min = min(L1)\n",
    "        for i in range(len(L)):\n",
    "            if L[i] == v_max:\n",
    "                L[i] = v_min\n",
    "            if L[i] == v_min:\n",
    "                L[i] == v_max\n",
    "        while (v_max in L1) and (v_min in L1):\n",
    "            L1.remove(v_max)\n",
    "            L1.remove(v_min)\n",
    "    return L\n",
    "L = [1,2,3,4,5,6,7,8]\n",
    "print(hoandoi(L))"
   ]
  },
  {
   "cell_type": "code",
   "execution_count": 20,
   "id": "2e904d01",
   "metadata": {},
   "outputs": [
    {
     "name": "stdout",
     "output_type": "stream",
     "text": [
      "[1, 2, 3]\n"
     ]
    }
   ],
   "source": [
    "def timmaxmin(L):\n",
    "    ma = None\n",
    "    mi = None\n",
    "    for i in range(len(L)):\n",
    "        if L[i] != None:\n",
    "            if ma==None or L[i] > L[ma]:\n",
    "                ma = i\n",
    "            if mi==None or L[i] < L[mi]\n",
    "    return ma,mi\n",
    "def sapxepmaxmin(L):\n",
    "    L = L.copy()\n",
    "    L_kq = L.copy()\n",
    "    while True:\n",
    "        ma,mi = timmaxmin(L)\n",
    "        if ma == mi: return L_kq\n",
    "        L[ma] = L[mi] = None\n",
    "        L_kq[ma], L_kq[mi] = L_kq[mi], L_kq[ma]\n",
    "\n"
   ]
  },
  {
   "cell_type": "markdown",
   "id": "4c5e92fa",
   "metadata": {},
   "source": [
    "Hãy đảo ngược thứ tự các số chẵn và các số lẻ trong mảng mà vẫn giữ nguyên vị trí tương đối của chúng"
   ]
  },
  {
   "cell_type": "code",
   "execution_count": null,
   "id": "0d6ba5f3",
   "metadata": {},
   "outputs": [],
   "source": [
    "[2,5,7,14] ~~> [5,2,14,7]\n",
    "## List phải có số lượng số lẻ bằng với số lượng số chẳn"
   ]
  }
 ],
 "metadata": {
  "kernelspec": {
   "display_name": "Python 3 (ipykernel)",
   "language": "python",
   "name": "python3"
  },
  "language_info": {
   "codemirror_mode": {
    "name": "ipython",
    "version": 3
   },
   "file_extension": ".py",
   "mimetype": "text/x-python",
   "name": "python",
   "nbconvert_exporter": "python",
   "pygments_lexer": "ipython3",
   "version": "3.10.4"
  }
 },
 "nbformat": 4,
 "nbformat_minor": 5
}
