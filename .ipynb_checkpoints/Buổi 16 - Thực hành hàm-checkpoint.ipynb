{
 "cells": [
  {
   "cell_type": "markdown",
   "id": "028ffec3",
   "metadata": {},
   "source": [
    "# Thực hành hàm\n",
    "\n",
    "### Bài 1\n",
    "\n",
    "Viết hàm có dữ liệu đầu vào là 2 số a và b, số nào lớn hơn thì in bảng cửu chương của số đó"
   ]
  },
  {
   "cell_type": "code",
   "execution_count": 1,
   "id": "1974966b",
   "metadata": {},
   "outputs": [
    {
     "name": "stdout",
     "output_type": "stream",
     "text": [
      "5 x 1 = 5\n",
      "5 x 2 = 10\n",
      "5 x 3 = 15\n",
      "5 x 4 = 20\n",
      "5 x 5 = 25\n",
      "5 x 6 = 30\n",
      "5 x 7 = 35\n",
      "5 x 8 = 40\n",
      "5 x 9 = 45\n"
     ]
    }
   ],
   "source": [
    "def cuuchuong(a,b):\n",
    "    m = a if a>=b else b\n",
    "    for i in range(1,10):\n",
    "        print(m,\"x\",i,\"=\",m*i)\n",
    "cuuchuong(3,5)"
   ]
  },
  {
   "cell_type": "markdown",
   "id": "9de8ffaa",
   "metadata": {},
   "source": [
    "### Bài 2\n",
    "\n",
    "Viết hàm `xoachuoi` có dữ liệu đầu vào là 2 chuỗi a và b, hãy tìm trong chuỗi a có chuỗi b hay không, nếu có hãy xóa toán bộ chuỗi b trong a.\n",
    "\n",
    "Sau đó trả về chuỗi a mới\n",
    "\n",
    "Ví dụ:\n",
    "\n",
    "chuoi1 = \"xin chào các bạn, các bạn có khỏe không?\"\n",
    "\n",
    "chuoi2 = \"các bạn\"\n",
    "\n",
    "chuoi3 = xoachuoi(chuoi1,chuoi2)\n",
    "\n",
    "print(chuoi3)\n",
    "\n",
    "Kết quả in ra là:\n",
    "xin chào ,  có khỏe không"
   ]
  },
  {
   "cell_type": "code",
   "execution_count": 7,
   "id": "05de1584",
   "metadata": {},
   "outputs": [
    {
     "name": "stdout",
     "output_type": "stream",
     "text": [
      "xin chào ,  có khỏe không?\n"
     ]
    }
   ],
   "source": [
    "chuoi1 = \"xin chào các bạn, các bạn có khỏe không?\"\n",
    "chuoi2 = \"các bạn\"\n",
    "\n",
    "def xoachuoi(chuoi1, chuoi2):\n",
    "    if chuoi1.find(chuoi2):\n",
    "        chuoi1 = chuoi1.replace(chuoi2, \"\")\n",
    "    return chuoi1\n",
    "\n",
    "chuoi3 = xoachuoi(chuoi1,chuoi2)\n",
    "print(chuoi3)\n",
    "    "
   ]
  },
  {
   "cell_type": "markdown",
   "id": "d626394e",
   "metadata": {},
   "source": [
    "### Bài 3\n",
    "\n",
    "Viết hàm `kiemtramatkhau` với dữ liệu đầu vào là 1 chuỗi có công dụng như sau:\n",
    "\n",
    "Kiểm tra xem chuỗi đầu vào có phải là mật khẩu mạnh hay không, nếu có trả về True, nếu không trả về False\n",
    "\n",
    "Mật khẩu mạnh là mật khẩu phải có ít nhất 1 chữ hoa, 1 chữ thường, 1 số và 1 ký tự đặc biệt"
   ]
  },
  {
   "cell_type": "code",
   "execution_count": 12,
   "id": "875d88f5",
   "metadata": {},
   "outputs": [
    {
     "name": "stdout",
     "output_type": "stream",
     "text": [
      "Đây là một mật khẩu mạnh!\n"
     ]
    }
   ],
   "source": [
    "def kiemtramatkhau(mk):\n",
    "    inhoa = 0\n",
    "    inthuong = 0\n",
    "    so = 0\n",
    "    kytudacbiet = 0\n",
    "    for i in mk:\n",
    "        if i.isupper():\n",
    "            inhoa +=1\n",
    "        elif i.islower():\n",
    "            inthuong +=1\n",
    "        elif i.isnumeric():\n",
    "            so +=1\n",
    "        else:\n",
    "            kytudacbiet +=1\n",
    "    return inhoa and inthuong and so and kytudacbiet\n",
    "a = kiemtramatkhau(\"Motmatkhau3431@\")\n",
    "if a:\n",
    "    print(\"Đây là một mật khẩu mạnh!\")\n",
    "else:\n",
    "    print(\"Đây không phải là một mật khẩu mạnh.\")"
   ]
  },
  {
   "cell_type": "markdown",
   "id": "1572568f",
   "metadata": {},
   "source": [
    "### Bài 4\n",
    "\n",
    "Viết hàm có 5 dữ liệu đầu vào là 5 số nguyên, tìm giá trị lớn nhì trong 5 số đó"
   ]
  },
  {
   "cell_type": "code",
   "execution_count": 15,
   "id": "876707ae",
   "metadata": {},
   "outputs": [
    {
     "name": "stdout",
     "output_type": "stream",
     "text": [
      "5\n"
     ]
    }
   ],
   "source": [
    "def max2(a,b,c,d,e):\n",
    "    if a<b: a,b = b,a\n",
    "    if a<c: a,c = c,a\n",
    "    if a<d: a,d = d,a\n",
    "    if a<e: a,e = e,a\n",
    "    if b<c: b,c = c,b\n",
    "    if b<d: b,d = d,b\n",
    "    if b<e: b,e = e,b\n",
    "    if c<d: c,d = d,c\n",
    "    if c<e: c,e = e,c\n",
    "    if d<e: d,e = e,d\n",
    "    return b\n",
    "print(max2(3,4,5,5,5))"
   ]
  },
  {
   "cell_type": "code",
   "execution_count": 3,
   "id": "4240fe3b",
   "metadata": {},
   "outputs": [
    {
     "name": "stdout",
     "output_type": "stream",
     "text": [
      "6\n"
     ]
    }
   ],
   "source": [
    "def max2(a,b,c,d,e):\n",
    "    if a<b: a,b = b,a\n",
    "    if a<c: a,c = c,a\n",
    "    if a<d: a,d = d,a\n",
    "    if a<e: a,e = e,a\n",
    "    if b<c: b,c = c,b\n",
    "    if b<d: b,d = d,b\n",
    "    if b<e: b,e = e,b\n",
    "    return b\n",
    "print(max2(3,4,5,8,6))"
   ]
  },
  {
   "cell_type": "code",
   "execution_count": 27,
   "id": "55c7bf46",
   "metadata": {},
   "outputs": [
    {
     "name": "stdout",
     "output_type": "stream",
     "text": [
      "7\n"
     ]
    }
   ],
   "source": [
    "def max2(a,b,c,d,e):\n",
    "    m = max(a,b,c,d,e)\n",
    "    n = []\n",
    "    cm = 0\n",
    "    for i in [a,b,c,d,e]:\n",
    "        if i == m:\n",
    "            cm +=1\n",
    "            if cm==2:\n",
    "                return m\n",
    "        else:\n",
    "            n.append(i)\n",
    "    return max(n)\n",
    "print(max2(3,4,5,7,7))"
   ]
  },
  {
   "cell_type": "code",
   "execution_count": 3,
   "id": "16333fae",
   "metadata": {
    "scrolled": true
   },
   "outputs": [
    {
     "name": "stdout",
     "output_type": "stream",
     "text": [
      "17\n"
     ]
    }
   ],
   "source": [
    "def max2(a,b,c,d,e):\n",
    "    l = [a,b,c,d,e]\n",
    "    m = max(l)\n",
    "    if l.count(m) == 1:\n",
    "        l.remove(m)\n",
    "        return max(l)\n",
    "    return m\n",
    "print(max2(3,4,45,17,12))"
   ]
  },
  {
   "cell_type": "markdown",
   "id": "974d7da1",
   "metadata": {},
   "source": [
    "### Bài 5\n",
    "\n",
    "Nhập vào 2 cặp tọa độ tâm đường tròn và 2 bán kính R\n",
    "\n",
    "Hãy vẽ 2 hình tròn theo tọa độ và bán kính trên (tọa độ thứ nhất và bán kính thứ nhất là hình tròn thứ nhất, tọa độ thứ 2 với bán kính thứ 2 là hình tròn thứ hai)\n",
    "\n",
    "Viết hàm kiểm tra xem 2 hình tròn trên cắt nhau bao nhiêu điểm"
   ]
  },
  {
   "cell_type": "code",
   "execution_count": null,
   "id": "f7722021",
   "metadata": {},
   "outputs": [
    {
     "name": "stdout",
     "output_type": "stream",
     "text": [
      "Nhập vào tâm, bán kính (x, y, r) hình tròn 1: 0,0,60\n",
      "Nhập vào tâm, bán kính (x, y, r) hình tròn 2: 0,10,80\n",
      "0\n"
     ]
    }
   ],
   "source": [
    "import turtle\n",
    "t = turtle.Turtle()\n",
    "t.speed(10)\n",
    "\n",
    "def vehinhtron(x, y, r): #tam = x,y; bankinh = r\n",
    "    t.pu()\n",
    "    t.goto(x,y-r)\n",
    "    t.pd()\n",
    "    t.circle(r)\n",
    "\n",
    "a = input(\"Nhập vào tâm, bán kính (x, y, r) hình tròn 1: \")\n",
    "a = a.split(\",\")\n",
    "b = input(\"Nhập vào tâm, bán kính (x, y, r) hình tròn 2: \")\n",
    "b = b.split(\",\")\n",
    "\n",
    "x1 = int(a[0])\n",
    "y1 = int(a[1])\n",
    "r1 = int(a[2])\n",
    "x2 = int(b[0])\n",
    "y2 = int(b[1])\n",
    "r2 = int(b[2])\n",
    "\n",
    "vehinhtron(x1, y1, r1)\n",
    "vehinhtron(x2, y2, r2)\n",
    "\n",
    "def sodiemcat(x1,y1,r1,x2,y2,r2):\n",
    "    khoangcach = ((x2-x1)**2 + (y2-y1)**2)**0.5\n",
    "    if abs(r1-r2) < khoangcach < r1+r2:\n",
    "        return 2\n",
    "    elif khoangcach==0 and r1 == r2:\n",
    "        return \"vô số\"\n",
    "    elif khoangcach == r1+r2 or khoangcach == abs(r1-r2):\n",
    "        return 1\n",
    "    return 0\n",
    "\n",
    "print(sodiemcat(x1, y1, r1, x2, y2, r2))\n",
    "\n",
    "turtle.done()"
   ]
  },
  {
   "cell_type": "markdown",
   "id": "a2157de8",
   "metadata": {},
   "source": [
    "### Bài 6\n",
    "\n",
    "Nhập vào 2 tọa độ là 2 đỉnh của một hình chữ nhật\n",
    "\n",
    "Sau đó\n",
    "\n",
    "Nhập vào tọa độ tâm đường tròn và bán kính R\n",
    "\n",
    "Hãy vẽ hình hình chữ nhật và đường tròn trên\n",
    "\n",
    "Viết hàm kiểm tra xem đường tròn trên và hình chữ nhật cắt nhau tại bao nhiêu điểm"
   ]
  },
  {
   "cell_type": "code",
   "execution_count": null,
   "id": "e0d7b1a2",
   "metadata": {},
   "outputs": [
    {
     "name": "stdout",
     "output_type": "stream",
     "text": [
      "Nhập vào đỉnh 1 của hcn (dạng x, y): -100, 0\n",
      "Nhập vào đỉnh 2 của hcn: \t0, 70\n",
      "Nhập vào tâm, bán kính đường tròn (x, y, r): -20, 40, 60\n",
      "-64.7213595499958 0\n",
      "-71.96152422706632 70\n",
      "Đường tròn trên và hình chữ nhật cắt nhau tại 2 điểm\n"
     ]
    }
   ],
   "source": [
    "a = input(\"Nhập vào đỉnh 1 của hcn (dạng x, y): \")\n",
    "b = input(\"Nhập vào đỉnh 2 của hcn: \")\n",
    "\n",
    "a = a.split(\",\")\n",
    "b = b.split(\",\")\n",
    "\n",
    "x1 = int(a[0])\n",
    "y1 = int(a[1])\n",
    "x2 = int(b[0])\n",
    "y2 = int(b[1])\n",
    "\n",
    "while x1==x2 or y1==y2:\n",
    "    b = input(\"Nhập lại đỉnh thứ 2: \")\n",
    "    b = b.split(\",\")\n",
    "    x2 = int(b[0])\n",
    "    y2 = int(b[1])\n",
    "\n",
    "c = input(\"Nhập vào tâm, bán kính đường tròn (x, y, r): \")\n",
    "c = c.split(\",\")\n",
    "x0 = int(c[0])\n",
    "y0 = int(c[1])\n",
    "r = int(c[2])\n",
    "\n",
    "import turtle\n",
    "t = turtle.Turtle()\n",
    "\n",
    "def hcn(x1,y1,x2,y2):\n",
    "    t.penup()\n",
    "    t.goto(x1,y1)\n",
    "    t.pendown()\n",
    "    t.goto(x1,y2)\n",
    "    t.goto(x2,y2)\n",
    "    t.goto(x2,y1)\n",
    "    t.goto(x1,y1)\n",
    "\n",
    "def hinhtron(x, y, r): #tam = x,y; bankinh = r\n",
    "    t.pu()\n",
    "    t.goto(x,y-r)\n",
    "    t.pd()\n",
    "    t.circle(r)\n",
    "\n",
    "hcn(x1, y1, x2, y2)\n",
    "hinhtron(x0,y0,r)\n",
    "\n",
    "#phuong trinh duong tron: (x-a)^2 + (y-b)^2 = R^2\n",
    "# Phuong trinh cua 4 canh hcn:\n",
    "#     x = x1 & y1<=y<=y2\n",
    "#     or x = x2 & y1<=y<=y2\n",
    "#     or y = y1 & x1<=x<=x2\n",
    "#     or y = y2 & x1<=x<=x2\n",
    "# xx, yy la biến chứa tọa độ giao điểm\n",
    "count = 0\n",
    "for xx in [x1, x2]:\n",
    "    t1 = r**2-(xx-x0)**2\n",
    "    if t1 >= 0:\n",
    "        for i in [-1, 1]:\n",
    "            yy = y0 + i*(t1**0.5)\n",
    "            if y1<=yy<=y2:\n",
    "#                 print(xx, yy)\n",
    "                count +=1\n",
    "for yy in [y1, y2]:\n",
    "    t2 = r**2-(yy-y0)**2\n",
    "    if t2 >= 0:\n",
    "        for i in [-1, 1]:\n",
    "            xx = x0 + i*(t2**0.5)\n",
    "            if x1<=xx<=x2:\n",
    "#                 print(xx, yy)\n",
    "                count +=1\n",
    "print(\"Đường tròn trên và hình chữ nhật cắt nhau tại {} điểm\".format(count))\n",
    "turtle.done()"
   ]
  },
  {
   "cell_type": "markdown",
   "id": "d1491579",
   "metadata": {},
   "source": [
    "### Bài 7\n",
    "\n",
    "Viết hàm kiểm tra số nguyên tố\n",
    "\n",
    "Viết hàm kiểm tra số hoàn hảo\n",
    "\n",
    "Viết hàm kiểm tra số chính phương\n",
    "\n",
    "Viết hàm kiểm tra số Armstrong\n",
    "\n",
    "Nhập vào một chuỗi, hãy lọc và tìm ra những số ở trong chuỗi (2 chữ số liền nhau là một chuỗi)\n",
    "\n",
    "Ví dụ chuỗi: \"AB25SDc5DSjjh52\"\n",
    "\n",
    "Trong chuỗi này ta có 3 số: 25, 5 và 52\n",
    "\n",
    "Sau khi lọc số, dùng các hàm trên để kiểm tra và thực hiện như sau:\n",
    "\n",
    "Cho biến S\n",
    "\n",
    "- Nếu số đó là số nguyên tố, ta thực hiện S += số đó\n",
    "- Nếu số đó là số hoàn hảo, ta thực hiện S -= số đó\n",
    "- Nếu số đó là số chính phương, ta thực hiện S /= số đó\n",
    "- Nếu đó là số Armstrong ta cho S = 0\n",
    "\n",
    "Hãy tính và in S"
   ]
  },
  {
   "cell_type": "code",
   "execution_count": 31,
   "id": "b5c60cd8",
   "metadata": {},
   "outputs": [
    {
     "name": "stdout",
     "output_type": "stream",
     "text": [
      "Nhập vào 1 chuỗi: AB25SDc5DSjjh523\n",
      "523\n"
     ]
    }
   ],
   "source": [
    "def snt(a):\n",
    "    if a<2: return False\n",
    "    for i in range (2,a):\n",
    "        if a%i == 0:\n",
    "            return False\n",
    "    return True\n",
    "def shh(a):\n",
    "    s = 0\n",
    "    for i in range(1,a):\n",
    "        if a%i==0:\n",
    "            s+=i\n",
    "    if s==a:\n",
    "        return True\n",
    "    return False\n",
    "def scp(a):\n",
    "    if (a**0.5)%1 == 0:\n",
    "        return True\n",
    "    return False\n",
    "def arm(a):\n",
    "    a1 = str(a)\n",
    "    b = len(a1)\n",
    "    s = 0\n",
    "    for i in a1:\n",
    "        s += int(i)**b\n",
    "        if s>a: return False\n",
    "    if s==a:\n",
    "        return True\n",
    "    return False\n",
    "a = input(\"Nhập vào 1 chuỗi: \")\n",
    "S = 345\n",
    "a += \" \"\n",
    "b = \"\"\n",
    "for i in a:\n",
    "    if i.isnumeric():\n",
    "        b+=i\n",
    "    elif b!=\"\":\n",
    "        b = int(b)\n",
    "        if snt(b): S += b\n",
    "        if shh(b): S -= b\n",
    "        if scp(b): S /= b\n",
    "        if arm(b): S = 0\n",
    "        b = \"\"\n",
    "print(S)"
   ]
  }
 ],
 "metadata": {
  "kernelspec": {
   "display_name": "Python 3 (ipykernel)",
   "language": "python",
   "name": "python3"
  },
  "language_info": {
   "codemirror_mode": {
    "name": "ipython",
    "version": 3
   },
   "file_extension": ".py",
   "mimetype": "text/x-python",
   "name": "python",
   "nbconvert_exporter": "python",
   "pygments_lexer": "ipython3",
   "version": "3.10.4"
  }
 },
 "nbformat": 4,
 "nbformat_minor": 5
}
