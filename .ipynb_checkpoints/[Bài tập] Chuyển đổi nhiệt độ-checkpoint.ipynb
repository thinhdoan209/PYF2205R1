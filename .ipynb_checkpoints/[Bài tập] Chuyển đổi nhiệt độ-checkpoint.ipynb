{
 "cells": [
  {
   "cell_type": "code",
   "execution_count": 5,
   "id": "87a86330",
   "metadata": {},
   "outputs": [
    {
     "name": "stdout",
     "output_type": "stream",
     "text": [
      "Nhiệt độ C: 37\n",
      "Nhiệt độ F:  98.60000000000001\n"
     ]
    }
   ],
   "source": [
    "c = input(\"Nhiệt độ C: \")\n",
    "f = 9/5*float(c)+32\n",
    "print(\"Nhiệt độ F: \", f)"
   ]
  }
 ],
 "metadata": {
  "kernelspec": {
   "display_name": "Python 3 (ipykernel)",
   "language": "python",
   "name": "python3"
  },
  "language_info": {
   "codemirror_mode": {
    "name": "ipython",
    "version": 3
   },
   "file_extension": ".py",
   "mimetype": "text/x-python",
   "name": "python",
   "nbconvert_exporter": "python",
   "pygments_lexer": "ipython3",
   "version": "3.10.4"
  }
 },
 "nbformat": 4,
 "nbformat_minor": 5
}
