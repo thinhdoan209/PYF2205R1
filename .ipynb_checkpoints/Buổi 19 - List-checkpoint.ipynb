{
 "cells": [
  {
   "cell_type": "markdown",
   "id": "fad0ff18",
   "metadata": {},
   "source": [
    "# List\n",
    "\n",
    "### Đặt vấn đề\n",
    "\n",
    "Nếu như ta có một lượng dữ liệu không biết trước được số lượng cần lưu vào biến, ta không thể lưu bằng cách thông thường\n",
    "\n",
    "Lấy ví dụ:\n",
    "\n",
    "Nhập vào số n, sau đó nhập tiếp n số và lưu trữ n số đó vào biến\n",
    "\n",
    "Vậy ta hoàn toàn không biết được người dùng sẽ nhập bao nhiêu số để lưu trữ\n",
    "\n",
    "Lúc này ta cần đến List\n",
    "\n",
    "List giúp chúng ta lưu nhiều giá trị cùng 1 lúc, nhưng chỉ cần đặt tên cho nó lần\n",
    "\n",
    "##### Tài liệu tham khảo: https://www.w3schools.com/python/python_lists.asp"
   ]
  },
  {
   "cell_type": "markdown",
   "id": "4ca9e91e",
   "metadata": {},
   "source": [
    "### Cách thức khai báo List\n",
    "\n",
    "Cú pháp:\n",
    "\n",
    "`<tên list> = []`\n",
    "\n",
    "##### List được khai báo bằng 2 dấu ngoặc vuông\n",
    "\n",
    "<b> Ví dụ 1: </b>\n",
    "\n",
    "`a = []`\n",
    "\n",
    "a là một list, không có bất kỳ phần tử nào trong đó\n",
    "\n",
    "<b> Ví dụ 2: </b>\n",
    "\n",
    "`b = [1,2,3]`\n",
    "\n",
    "##### Các phần tử trong list được khai báo, mỗi phần tử cách nhau một dấu phẩy\n",
    "\n",
    "b là một list có 3 phần tử\n",
    "\n",
    "<b> Ví dụ 3: </b>\n",
    "\n",
    "`c = [\"abc\",5,1.5]`\n",
    "\n",
    "##### Các phần tử trong list có thể có những kiểu dữ liệu khác nhau\n",
    "\n",
    "c là một list có 3 phần tử, phần tử thứ nhất có kiểu dữ liệu là chuỗi, phần tử thứ hai có kiểu dữ liệu là số nguyên và phần tử cuối cùng có kiểu dữ liệu là số thực\n",
    "\n",
    "<b> Hãy khai báo một list xong rồi in list đó lên màn hình </b>"
   ]
  },
  {
   "cell_type": "code",
   "execution_count": null,
   "id": "c2f37351",
   "metadata": {},
   "outputs": [],
   "source": []
  },
  {
   "cell_type": "markdown",
   "id": "be8e19b0",
   "metadata": {},
   "source": [
    "### Truy xuất phần tử trong List\n",
    "\n",
    "Giống như chuỗi, các phần tử trong list được truy xuất theo cú pháp:\n",
    "\n",
    "`<tên list>[<vị trí của phần tử>]`\n",
    "\n",
    "<b> Ví dụ 1: </b>\n",
    "\n",
    "`a = [1,4,6]\n",
    "print(a[1])`\n",
    "\n",
    "Màn hình sẽ in ra 4\n",
    "\n",
    "<b> Hãy khai báo một list có một chuỗi và một số rồi in chuỗi trong list đó ra màn hình </b>"
   ]
  },
  {
   "cell_type": "code",
   "execution_count": null,
   "id": "bb3f9141",
   "metadata": {},
   "outputs": [],
   "source": []
  },
  {
   "cell_type": "markdown",
   "id": "ad61e236",
   "metadata": {},
   "source": [
    "### Thêm phần tử vào List\n",
    "\n",
    "Cú pháp:\n",
    "\n",
    "`<tên list>.append()`\n",
    "\n",
    "<b>Ví dụ:</b>\n",
    "\n",
    "`a = []\n",
    "a.append(5)`\n",
    "\n",
    "a sẽ có 1 phần tử là 5\n",
    "\n",
    "<b> Hãy khai báo một list rỗng, rồi thêm 2 phần tử bất kỳ vào list đó, sau đó in list đó ra</b>"
   ]
  },
  {
   "cell_type": "code",
   "execution_count": null,
   "id": "5823ddca",
   "metadata": {},
   "outputs": [],
   "source": []
  },
  {
   "cell_type": "markdown",
   "id": "8c92d3d3",
   "metadata": {},
   "source": [
    "### Thay đổi giá trị của List\n",
    "\n",
    "Cú pháp:\n",
    "\n",
    "`<tên list>[<vị trí của phần tử>] = <giá trị mới>`\n",
    "\n",
    "<b> Hãy khai báo một list bất kỳ, rồi thay đổi 1 phần tử trong nó, sau đó in list đó ra</b>"
   ]
  },
  {
   "cell_type": "code",
   "execution_count": null,
   "id": "13c61075",
   "metadata": {},
   "outputs": [],
   "source": []
  },
  {
   "cell_type": "markdown",
   "id": "ce14eefe",
   "metadata": {},
   "source": [
    "### Xóa 1 phần tử trong list\n",
    "\n",
    "#### Lệnh remove()\n",
    "\n",
    "Cú pháp:\n",
    "\n",
    "`<tên list>.remove(<giá trị cần xóa>)`\n",
    "\n",
    "<b>Ví dụ:</b>\n",
    "\n",
    "`a = [\"hi\",3,\"hello\",4]\n",
    "a.remove(\"hi\")`\n",
    "\n",
    "Sau khi thực hiện lệnh trên, a chỉ còn [3,\"hello\",4]\n",
    "\n",
    "<b> Hãy khai báo một list bất kỳ, rồi xóa 1 phần tử trong nó bằng lệnh remove(), sau đó in list đó ra</b>"
   ]
  },
  {
   "cell_type": "code",
   "execution_count": null,
   "id": "f79402ad",
   "metadata": {},
   "outputs": [],
   "source": []
  },
  {
   "cell_type": "markdown",
   "id": "ec66c5cc",
   "metadata": {},
   "source": [
    "#### Lệnh pop()\n",
    "\n",
    "Cú pháp:\n",
    "\n",
    "`<tên list>.pop(<vị trí cần xóa>)`\n",
    "\n",
    "<b>Ví dụ:</b>\n",
    "\n",
    "`a = [\"hi\",3,\"hello\",4]\n",
    "a.pop(3)`\n",
    "\n",
    "Sau khi thực hiện lệnh trên, a chỉ còn [\"hi\",3,\"hello\"]\n",
    "\n",
    "<b> Hãy khai báo một list bất kỳ, rồi xóa 1 phần tử trong nó bằng lệnh pop(), sau đó in list đó ra</b>"
   ]
  },
  {
   "cell_type": "code",
   "execution_count": null,
   "id": "eeaa0766",
   "metadata": {},
   "outputs": [],
   "source": []
  },
  {
   "cell_type": "markdown",
   "id": "96daac1c",
   "metadata": {},
   "source": [
    "### Sao chép list\n",
    "\n",
    "###### Lưu ý: Nếu ta có list a, ta thực hiện lệnh b = a, list b sẽ bị ảnh hưởng khi list a có sự thay đổi\n",
    "\n",
    "<b> Ví dụ: </b>\n",
    "\n",
    "`a = [5,7,1]\n",
    "b = a\n",
    "a.remove(5)`\n",
    "\n",
    "Khi thực hiện 3 lệnh trên, b sẽ bằng [7,1], dù cho ta thực hiện lệnh `b = a` trước `a.remove(5)`\n",
    "\n",
    "<b> Kiểm chứng sự ảnh hưởng khi gán list </b>"
   ]
  },
  {
   "cell_type": "code",
   "execution_count": 1,
   "id": "1dbdf54b",
   "metadata": {},
   "outputs": [
    {
     "name": "stdout",
     "output_type": "stream",
     "text": [
      "[7, 1]\n"
     ]
    }
   ],
   "source": [
    "a = [5,7,1]\n",
    "b = a\n",
    "b.remove(5)\n",
    "print(a)"
   ]
  },
  {
   "cell_type": "markdown",
   "id": "c9c51aad",
   "metadata": {},
   "source": [
    "### Lệnh copy()\n",
    "\n",
    "Cú pháp:\n",
    "\n",
    "`<tên list>.copy()`\n",
    "\n",
    "##### Dùng lệnh copy sẽ khắc phục được vấn đề gán list a cho b\n",
    "\n",
    "<b> Ví dụ: </b>\n",
    "\n",
    "`a = [5,7,1]\n",
    "b = a.copy()\n",
    "a.remove(5)`\n",
    "\n",
    "Khi thực hiện 3 lệnh trên, b vẫn sẽ bằng [5,7,1]\n",
    "\n",
    "Lúc này, b sẽ là một list mới độc lập hoàn toàn với a\n",
    "\n",
    "<b> Khai báo list a, dùng lệnh copy cho list b, rồi thêm phần tử vào list a, sau đó in cả 2 list lên màn hình</b>"
   ]
  },
  {
   "cell_type": "code",
   "execution_count": null,
   "id": "46759662",
   "metadata": {},
   "outputs": [],
   "source": []
  },
  {
   "cell_type": "markdown",
   "id": "d8f470e0",
   "metadata": {},
   "source": [
    "### Lệnh len()\n",
    "\n",
    "Tương tự như chuỗi, ta có thể dùng lệnh len cho list để trả về số lượng của list\n",
    "\n",
    "<b> Ví dụ:</b>\n",
    "\n",
    "`a = [3,\"Hello\",5,\"hi\"]\n",
    "b = len(a)`\n",
    "\n",
    "Giá trị của b là 4\n",
    "\n",
    "<b> Khai báo list a, in lên độ dài của list a </b>"
   ]
  },
  {
   "cell_type": "code",
   "execution_count": 4,
   "id": "dfbcf0db",
   "metadata": {},
   "outputs": [
    {
     "name": "stdout",
     "output_type": "stream",
     "text": [
      "[]\n"
     ]
    }
   ],
   "source": [
    "a = [\"hello\", \"hi\"]\n",
    "for i in range(10):\n",
    "    if i%3!=0:\n",
    "        a.append(\"xin chao\")\n",
    "    "
   ]
  },
  {
   "cell_type": "markdown",
   "id": "8ac29b78",
   "metadata": {},
   "source": [
    "### Duyệt list bằng lệnh for\n",
    "\n",
    "<b> Duyệt list với vị trí </b>"
   ]
  },
  {
   "cell_type": "code",
   "execution_count": null,
   "id": "1be33622",
   "metadata": {},
   "outputs": [],
   "source": []
  },
  {
   "cell_type": "markdown",
   "id": "53b6e6eb",
   "metadata": {},
   "source": [
    "<b> Duyệt list với giá trị từng phần tử</b>"
   ]
  },
  {
   "cell_type": "code",
   "execution_count": null,
   "id": "cdf22aa3",
   "metadata": {},
   "outputs": [],
   "source": []
  },
  {
   "cell_type": "markdown",
   "id": "3fcda853",
   "metadata": {},
   "source": [
    "### Bài tập"
   ]
  },
  {
   "cell_type": "markdown",
   "id": "72d9a5fa",
   "metadata": {},
   "source": [
    "Nhập vào một dãy số nguyên dương (ngưng nhập nếu người dùng nhập -1)\n",
    "\n",
    "Sau khi nhập hãy:\n",
    "- In ra số lớn nhất trong dãy\n",
    "- In ra số bé nhất trong dãy\n",
    "- In ra dãy số nguyên tố tìm được trong dãy vừa nhập"
   ]
  },
  {
   "cell_type": "code",
   "execution_count": 1,
   "id": "38805cc0",
   "metadata": {},
   "outputs": [
    {
     "name": "stdout",
     "output_type": "stream",
     "text": [
      "1\n",
      "2\n",
      "3\n",
      "4\n",
      "5\n",
      "6\n",
      "7\n",
      "8\n",
      "9\n",
      "-1\n",
      "\n",
      "9\n",
      "1\n",
      "2 3 5 7 "
     ]
    }
   ],
   "source": [
    "a =int(input())\n",
    "b = []\n",
    "while a != -1:\n",
    "    b.append(a)\n",
    "    a = int(input())\n",
    "print()\n",
    "\n",
    "def max1(b):\n",
    "    max = b[0]\n",
    "    for i in range(1,len(b)):\n",
    "        if max < b[i]:\n",
    "            max = b[i]\n",
    "    return max\n",
    "def min1(b):\n",
    "    min = b[0]\n",
    "    for i in range(1,len(b)):\n",
    "        if min > b[i]:\n",
    "            min = b[i]\n",
    "    return min\n",
    "def songuyento(x):\n",
    "    if x<2:\n",
    "        return False\n",
    "    for i in range(2, x):\n",
    "        if x % i == 0:\n",
    "            return False\n",
    "    return True\n",
    "print(max1(b))\n",
    "print(min1(b))\n",
    "for i in b:\n",
    "    if songuyento(i):\n",
    "        print(i, end =\" \")"
   ]
  },
  {
   "cell_type": "code",
   "execution_count": 3,
   "id": "f749d09b",
   "metadata": {},
   "outputs": [
    {
     "name": "stdout",
     "output_type": "stream",
     "text": [
      "1\n",
      "2\n",
      "3\n",
      "5\n",
      "3462\n",
      "2\n",
      "34\n",
      "-1\n",
      "[1, 2, 3, 5, 3462, 2, 34]\n",
      "3462\n",
      "1\n",
      "2 3 5 2 "
     ]
    }
   ],
   "source": [
    "a =int(input())\n",
    "b = []\n",
    "while a != -1:\n",
    "    b.append(a)\n",
    "    a = int(input())\n",
    "print(b)\n",
    "\n",
    "def songuyento(x):\n",
    "    if x<2:\n",
    "        return False\n",
    "    for i in range(2, x):\n",
    "        if x % i == 0:\n",
    "            return False\n",
    "    return True\n",
    "print(max(b))\n",
    "print(min(b))\n",
    "for i in b:\n",
    "    if songuyento(i):\n",
    "        print(i, end =\" \")"
   ]
  },
  {
   "cell_type": "markdown",
   "id": "f493bb3e",
   "metadata": {},
   "source": [
    "Viết hàm với dữ liệu đầu vào bao gồm 3 tham số: list, a, b. Hàm này có công dụng tìm số lớn nhất trong đoạn từ vị trí a đến vị trí b trong list."
   ]
  },
  {
   "cell_type": "code",
   "execution_count": 4,
   "id": "a730c2f8",
   "metadata": {},
   "outputs": [
    {
     "name": "stdout",
     "output_type": "stream",
     "text": [
      "67\n"
     ]
    }
   ],
   "source": [
    "def maxab(list, a, b):\n",
    "    max = list[a]\n",
    "    for i in (a+1,b+1):\n",
    "        if max < list[i]:\n",
    "            max = list[i]\n",
    "    return max\n",
    "\n",
    "print(maxab([1,3,5,34,67,3,5,2,4,6,9], 3, 6))"
   ]
  },
  {
   "cell_type": "markdown",
   "id": "87acccb8",
   "metadata": {},
   "source": [
    "Viết hàm có tham số đầu vào là list, giá trị trả về là số lượng số nguyên tố bé hơn 100 trong list"
   ]
  },
  {
   "cell_type": "code",
   "execution_count": 5,
   "id": "c605991d",
   "metadata": {},
   "outputs": [
    {
     "name": "stdout",
     "output_type": "stream",
     "text": [
      "7\n"
     ]
    }
   ],
   "source": [
    "def songuyento(x):\n",
    "    if x<2:\n",
    "        return False\n",
    "    for i in range(2, x):\n",
    "        if x % i == 0:\n",
    "            return False\n",
    "    return True\n",
    "\n",
    "def songuyento100(list):\n",
    "    count = 0\n",
    "    for i in list:\n",
    "        if i<100 and songuyento(i):\n",
    "            count+=1\n",
    "    return count\n",
    "list = [1,3,5,34,67,3,5,2,4,6,9, 113, 123, 345, 78, 76, 34, 37]\n",
    "print(songuyento100(list))"
   ]
  },
  {
   "cell_type": "markdown",
   "id": "13840ec8",
   "metadata": {},
   "source": [
    "Viết hàm tìm giá trị dương đầu tiên của list, nếu không có giá trị dương trả về -1"
   ]
  },
  {
   "cell_type": "code",
   "execution_count": null,
   "id": "d7ffb2b7",
   "metadata": {},
   "outputs": [],
   "source": [
    "def soduong(list):\n",
    "    for i in list:\n",
    "        if i>0:\n",
    "            return i\n",
    "    return -1"
   ]
  },
  {
   "cell_type": "markdown",
   "id": "0f71c71e",
   "metadata": {},
   "source": [
    "Viết hàm có 2 giá trị đầu vào là list và x. Tìm giá trị trong list xa x nhất"
   ]
  },
  {
   "cell_type": "code",
   "execution_count": 10,
   "id": "03ef7d4c",
   "metadata": {},
   "outputs": [
    {
     "name": "stdout",
     "output_type": "stream",
     "text": [
      "50\n"
     ]
    }
   ],
   "source": [
    "def xaxnhat(list, x):\n",
    "    max = abs(x-list[0])\n",
    "    k = 0\n",
    "    for i in range(1,len(list)):\n",
    "        if max < abs(x-list[i]):\n",
    "            k = i\n",
    "            max = abs(x-list[i])\n",
    "    return list[k]\n",
    "\n",
    "list = [1,2,3,4,5,6,23,34,24,44,50]\n",
    "print(xaxnhat(list, 24))"
   ]
  },
  {
   "cell_type": "markdown",
   "id": "3b634d0f",
   "metadata": {},
   "source": [
    "Một người dùng số tiền là U đô-la và V Euro để mua một loại nguyên liệu sản xuất. \n",
    "\n",
    "Có N công ty nước ngoài bán nguyên liệu trên được đánh số từ 1 đến N. Công ty thứ i có giá bán Ai đô la/1 kg nguyên liệu và Bi Euro/1 kg nguyên liệu. \n",
    "\n",
    "Tuy nhiên, tại mỗi công ty chỉ bán nguyên liệu cho một khách hàng hoặc theo đô-la, hoặc theo Euro. \n",
    "\n",
    "Hãy giúp người đó tìm cách chọn ra 2 công ty để mua hàng sao cho số lượng nguyên liệu sản xuất có thể mua được là nhiều nhất.\n",
    "\n",
    "Nhập vào: Từ bàn phím 3 số theo thứ tự : N U V (1 ≤ N ≤ 20; 1 ≤ U, V ≤ 1000) và N cặp số nguyên Ai, Bi (1 < Ai, Bi < 1000) (nhập lần lượng A1, B1 rồi A2, B2)\n",
    "\n",
    "In ra : Số lượng nguyên liệu S(kg) người đó mua được với 2 chữ số thập phân."
   ]
  },
  {
   "cell_type": "code",
   "execution_count": 1,
   "id": "90401e4e",
   "metadata": {},
   "outputs": [
    {
     "name": "stdout",
     "output_type": "stream",
     "text": [
      "Nhập số công ty: 10\n",
      "Ngân sách đô-la: 514\n",
      "Ngân sách Euro: 689\n",
      "Giá khi mua bằng đô-la của công ty 1: 98\n",
      "Giá khi mua bằng Euro của công ty 1: 68\n",
      "Giá khi mua bằng đô-la của công ty 2: 128\n",
      "Giá khi mua bằng Euro của công ty 2: 96\n",
      "Giá khi mua bằng đô-la của công ty 3: 150\n",
      "Giá khi mua bằng Euro của công ty 3: 129\n",
      "Giá khi mua bằng đô-la của công ty 4: 70\n",
      "Giá khi mua bằng Euro của công ty 4: 143\n",
      "Giá khi mua bằng đô-la của công ty 5: 99\n",
      "Giá khi mua bằng Euro của công ty 5: 79\n",
      "Giá khi mua bằng đô-la của công ty 6: 145\n",
      "Giá khi mua bằng Euro của công ty 6: 101\n",
      "Giá khi mua bằng đô-la của công ty 7: 76\n",
      "Giá khi mua bằng Euro của công ty 7: 91\n",
      "Giá khi mua bằng đô-la của công ty 8: 148\n",
      "Giá khi mua bằng Euro của công ty 8: 63\n",
      "Giá khi mua bằng đô-la của công ty 9: 100\n",
      "Giá khi mua bằng Euro của công ty 9: 66\n",
      "Giá khi mua bằng đô-la của công ty 10: 120\n",
      "Giá khi mua bằng Euro của công ty 10: 130\n",
      "[98.0, 128.0, 150.0, 70.0, 99.0, 145.0, 76.0, 148.0, 100.0, 120.0]\n",
      "[68.0, 96.0, 129.0, 143.0, 79.0, 101.0, 91.0, 63.0, 66.0, 130.0]\n"
     ]
    }
   ],
   "source": [
    "n = int(input(\"Nhập số công ty: \"))\n",
    "u = float(input(\"Ngân sách đô-la: \"))\n",
    "v = float(input(\"Ngân sách Euro: \"))\n",
    "\n",
    "a = []\n",
    "b = []\n",
    "for i in range(n):\n",
    "    a.append(float(input(f\"Giá khi mua bằng đô-la của công ty {i+1}: \")))\n",
    "    b.append(float(input(f\"Giá khi mua bằng Euro của công ty {i+1}: \")))\n",
    "    \n",
    "print()\n",
    "print(a)\n",
    "print(b)\n",
    "\n",
    "def timmincty(L):\n",
    "    l = len(L)\n",
    "    mi = L[0]\n",
    "    k = 0\n",
    "    for i in range(1,l):\n",
    "        if mi>L[i]:\n",
    "            mi = L[i]\n",
    "            k = i\n",
    "    return k\n",
    "\n",
    "min_a = timmincty(a)\n",
    "min_b = timmincty(b)\n",
    "\n",
    "if min_a == min_b:\n",
    "    a1 = a.copy()\n",
    "    b1 = b.copy()\n",
    "    a1.pop(min_a)\n",
    "    b1.pop(min_b)\n",
    "    min2_a = timmincty(a1)\n",
    "    min2_b = timmincty(b1)\n",
    "    if (u/a[min_a]+v/b[min2_b]) >= (u/a[min2_a]+v/b[min_b]):\n",
    "        if(min2_b >= min_b):\n",
    "            min2_b += 1\n",
    "        min_b = min2_b\n",
    "    else:\n",
    "        if(min2_a >= min_a):\n",
    "            min2_a += 1\n",
    "        min_a = min2_a\n",
    "\n",
    "s = u/a[min_a] + v/b[min_b]\n",
    "\n",
    "print()\n",
    "print(f\"Lượng nguyên liệu có thể mua được nhiều nhất: {round(s, 2)} kg,\\n\"\n",
    "    + f\"\\tkhi mua tại công ty {min_a +1} bằng Đô-la (giá {a[min_a]} Đô-la/kg),\\n\"\n",
    "    + f\"\\tvà mua tại công ty {min_b +1} bằng Euro (giá {b[min_b]} Euro/kg).\")"
   ]
  },
  {
   "cell_type": "code",
   "execution_count": 27,
   "id": "5be5f07a",
   "metadata": {},
   "outputs": [
    {
     "name": "stdout",
     "output_type": "stream",
     "text": [
      "Nhập số công ty: 15\n",
      "Ngân sách đô-la: 657\n",
      "Ngân sách Euro: 757\n",
      "Giá khi mua bằng đô-la của công ty 1: 61\n",
      "Giá khi mua bằng Euro của công ty 1: 78\n",
      "Giá khi mua bằng đô-la của công ty 2: 127\n",
      "Giá khi mua bằng Euro của công ty 2: 55\n",
      "Giá khi mua bằng đô-la của công ty 3: 137\n",
      "Giá khi mua bằng Euro của công ty 3: 116\n",
      "Giá khi mua bằng đô-la của công ty 4: 142\n",
      "Giá khi mua bằng Euro của công ty 4: 67\n",
      "Giá khi mua bằng đô-la của công ty 5: 119\n",
      "Giá khi mua bằng Euro của công ty 5: 114\n",
      "Giá khi mua bằng đô-la của công ty 6: 101\n",
      "Giá khi mua bằng Euro của công ty 6: 115\n",
      "Giá khi mua bằng đô-la của công ty 7: 134\n",
      "Giá khi mua bằng Euro của công ty 7: 67\n",
      "Giá khi mua bằng đô-la của công ty 8: 87\n",
      "Giá khi mua bằng Euro của công ty 8: 67\n",
      "Giá khi mua bằng đô-la của công ty 9: 143\n",
      "Giá khi mua bằng Euro của công ty 9: 65\n",
      "Giá khi mua bằng đô-la của công ty 10: 91\n",
      "Giá khi mua bằng Euro của công ty 10: 117\n",
      "Giá khi mua bằng đô-la của công ty 11: 81\n",
      "Giá khi mua bằng Euro của công ty 11: 67\n",
      "Giá khi mua bằng đô-la của công ty 12: 75\n",
      "Giá khi mua bằng Euro của công ty 12: 71\n",
      "Giá khi mua bằng đô-la của công ty 13: 100\n",
      "Giá khi mua bằng Euro của công ty 13: 77\n",
      "Giá khi mua bằng đô-la của công ty 14: 147\n",
      "Giá khi mua bằng Euro của công ty 14: 137\n",
      "Giá khi mua bằng đô-la của công ty 15: 86\n",
      "Giá khi mua bằng Euro của công ty 15: 119\n",
      "\n",
      "[61, 127, 137, 142, 119, 101, 134, 87, 143, 91, 81, 75, 100, 147, 86]\n",
      "[78, 55, 116, 67, 114, 115, 67, 67, 65, 117, 67, 71, 77, 137, 119]\n",
      "\n",
      "Lượng nguyên liệu có thể mua được nhiều nhất: 24.53 kg,\n",
      "\tkhi mua tại công ty 1 bằng Đô-la (giá 61 Đô-la/kg),\n",
      "\tvà mua tại công ty 2 bằng Euro (giá 55 Euro/kg).\n"
     ]
    }
   ],
   "source": [
    "import random\n",
    "n = int(input(\"Nhập số công ty: \"))\n",
    "# u = float(input(\"Ngân sách đô-la: \"))\n",
    "# v = float(input(\"Ngân sách Euro: \"))\n",
    "u = random.randint(601,800)\n",
    "v = random.randint(601,800)\n",
    "print(\"Ngân sách đô-la:\", u)\n",
    "print(\"Ngân sách Euro:\", v)\n",
    "\n",
    "a = []\n",
    "b = []\n",
    "\n",
    "#Lười nhập thì để máy tính tạo ngẫu nhiên:\n",
    "for i in range(n):\n",
    "    a_tmp = random.randint(51,150)\n",
    "    a.append(a_tmp)\n",
    "    print(f\"Giá khi mua bằng đô-la của công ty {i+1}: {a_tmp}\")\n",
    "    b_tmp = random.randint(48, 145)\n",
    "    b.append(b_tmp)\n",
    "    print(f\"Giá khi mua bằng Euro của công ty {i+1}: {b_tmp}\")\n",
    "\n",
    "print()\n",
    "print(a)\n",
    "print(b)\n",
    "\n",
    "def timmincty(L):\n",
    "    l = len(L)\n",
    "    mi = L[0]\n",
    "    k = 0\n",
    "    for i in range(1,l):\n",
    "        if mi>L[i]:\n",
    "            mi = L[i]\n",
    "            k = i\n",
    "    return k\n",
    "\n",
    "min_a = timmincty(a)\n",
    "min_b = timmincty(b)\n",
    "\n",
    "if min_a == min_b:\n",
    "    a1 = a.copy()\n",
    "    b1 = b.copy()\n",
    "    a1.pop(min_a)\n",
    "    b1.pop(min_b)\n",
    "    min2_a = timmincty(a1)\n",
    "    min2_b = timmincty(b1)\n",
    "    if (u/a[min_a]+v/b[min2_b]) >= (u/a[min2_a]+v/b[min_b]):\n",
    "        if(min2_b >= min_b):\n",
    "            min2_b += 1\n",
    "        min_b = min2_b\n",
    "    else:\n",
    "        if(min2_a >= min_a):\n",
    "            min2_a += 1\n",
    "        min_a = min2_a\n",
    "\n",
    "s = u/a[min_a] + v/b[min_b]\n",
    "\n",
    "print()\n",
    "print(f\"Lượng nguyên liệu có thể mua được nhiều nhất: {round(s, 2)} kg,\\n\"\n",
    "    + f\"\\tkhi mua tại công ty {min_a +1} bằng Đô-la (giá {a[min_a]} Đô-la/kg),\\n\"\n",
    "    + f\"\\tvà mua tại công ty {min_b +1} bằng Euro (giá {b[min_b]} Euro/kg).\")"
   ]
  }
 ],
 "metadata": {
  "kernelspec": {
   "display_name": "Python 3 (ipykernel)",
   "language": "python",
   "name": "python3"
  },
  "language_info": {
   "codemirror_mode": {
    "name": "ipython",
    "version": 3
   },
   "file_extension": ".py",
   "mimetype": "text/x-python",
   "name": "python",
   "nbconvert_exporter": "python",
   "pygments_lexer": "ipython3",
   "version": "3.10.4"
  }
 },
 "nbformat": 4,
 "nbformat_minor": 5
}
