{
 "cells": [
  {
   "cell_type": "markdown",
   "id": "f13965b3",
   "metadata": {},
   "source": [
    "### Bài 1\n",
    "\n",
    "Viết hàm `tientaxi` tính tiền taxi với tham số đầu vào là số km đi được và trả về số tiền\n",
    "\n",
    "- 1km đầu là 15000.\n",
    "- Từ km thứ 2 đến km thứ 10 là 14000.\n",
    "- Từ km thứ 11 đến km thứ 20 là 12500.\n",
    "- Từ km thứ 21 đến km thứ 30 là 11000.\n",
    "- Trên 30km thì mỗi km tăng thêm là 9000."
   ]
  },
  {
   "cell_type": "code",
   "execution_count": 12,
   "id": "92b10109",
   "metadata": {},
   "outputs": [
    {
     "name": "stdout",
     "output_type": "stream",
     "text": [
      "99000\n"
     ]
    }
   ],
   "source": [
    "def tientaxi(a):\n",
    "    tien = 0\n",
    "    if a>30:\n",
    "        tien += (a-30)*9000\n",
    "        a = 30\n",
    "    if a>20:\n",
    "        tien+= (a-20)*11000\n",
    "        a = 20\n",
    "    if a>10:\n",
    "        tien += (a-10)*12500\n",
    "        a = 10\n",
    "    if a>1:\n",
    "        tien += (a-1)*14000\n",
    "        a = 1\n",
    "    tien += a*15000\n",
    "    return tien\n",
    "print(tientaxi(7))"
   ]
  },
  {
   "cell_type": "code",
   "execution_count": 6,
   "id": "66c3fdb6",
   "metadata": {},
   "outputs": [
    {
     "name": "stdout",
     "output_type": "stream",
     "text": [
      "10\n",
      "141000\n"
     ]
    }
   ],
   "source": [
    "def tientaxi(k):\n",
    "    s=0\n",
    "    for i in range(k):\n",
    "        if i == 0:\n",
    "            s+=15000\n",
    "        elif i<=10:\n",
    "            s+=14000\n",
    "        elif i<=20:\n",
    "            s+=12500\n",
    "        elif i<=30:\n",
    "            s+=11000\n",
    "        elif i>30:\n",
    "            s+=9000\n",
    "    return s\n",
    "a=int(input())\n",
    "print(tientaxi(a))"
   ]
  },
  {
   "cell_type": "markdown",
   "id": "7c40ebdb",
   "metadata": {},
   "source": [
    "### Bài 2\n",
    "\n",
    "Một hãng cung cấp dịch vụ điện thoại khuyến khích người dùng đăng ký số thuê bao mới bằng cách, khi người dùng đến đăng ký thuê báo sẽ được tặng 2 số may mắn n và k, hãng sẽ khuyến mãi cho người đó số tiền vào tài khoản từ số n sau khi xóa k chữ số\n",
    "\n",
    "Hãy viết hàm `tienkm` cho vào n và k, trả về số lớn nhất có thể sau khi xóa k chữ số trong n"
   ]
  },
  {
   "cell_type": "code",
   "execution_count": 12,
   "id": "b8b6af8f",
   "metadata": {},
   "outputs": [
    {
     "name": "stdout",
     "output_type": "stream",
     "text": [
      "98846227458\n"
     ]
    }
   ],
   "source": [
    "def tienkm(n,k):\n",
    "    n = str(n)\n",
    "    s = \"\"\n",
    "    while len(n)>k:\n",
    "        m1 = max(n[:k+1])\n",
    "        vt = n.find(m1)\n",
    "        s += m1\n",
    "        k -= vt\n",
    "        n = n[vt+1:]\n",
    "        if k == 0:\n",
    "            s+=n\n",
    "            break\n",
    "    return s if s!=\"\" else 0\n",
    "print(tienkm(985628334346227458,7))"
   ]
  },
  {
   "cell_type": "code",
   "execution_count": 10,
   "id": "050cf82b",
   "metadata": {},
   "outputs": [
    {
     "name": "stdout",
     "output_type": "stream",
     "text": [
      "98683462758\n"
     ]
    }
   ],
   "source": [
    "def tienkm(n,k):\n",
    "    n = str(n)\n",
    "    j = 0\n",
    "    while True:\n",
    "        if n[j]<n[j+1]:\n",
    "            n = n[:j]+n[j+1:]\n",
    "            k -= 1\n",
    "            if k == 0:\n",
    "                break\n",
    "        else:\n",
    "            j+=1\n",
    "            if j>=len(n) - 1:\n",
    "                break\n",
    "    if k >= 1:\n",
    "        return n[:len(n)-k]\n",
    "    return n\n",
    "\n",
    "print(tienkm(\"985628334346227458\",7))"
   ]
  },
  {
   "cell_type": "code",
   "execution_count": null,
   "id": "aad1e571",
   "metadata": {},
   "outputs": [],
   "source": []
  },
  {
   "cell_type": "markdown",
   "id": "4c877020",
   "metadata": {},
   "source": [
    "### Bài 3\n",
    "\n",
    "Cấp số cộng là một dãy số mà kể từ số hạng thứ hai trở đi thì mỗi số hạng hơn số hạng liền trước của nó k đơn vị\n",
    "\n",
    "Ví dụ:\n",
    "- 2, 4, 6, 8, 10,.. là một cấp số cộng với k là 2\n",
    "- 3, 6, 9, 12,... là một cấp số cộng với k là 3\n",
    "\n",
    "Tí đã viết được 4 số là 1 cấp số cộng nhưng Tèo lại xóa đi mất 1 số\n",
    "\n",
    "Bạn hãy viết hàm `timcsc` cho vào 3 số hạng là 3 số còn lại của cấp số cộng, trả về số bị thiếu (trong trường hợp có 2 đáp án, trả về đáp án lớn nhất)\n",
    "\n",
    "Ví dụ:\n",
    "\n",
    "- timcsc(4,6,8) kết quả là 10\n",
    "- timcsc(10,1,4) kết quả là 7"
   ]
  },
  {
   "cell_type": "code",
   "execution_count": 18,
   "id": "6e1fcaf0",
   "metadata": {},
   "outputs": [
    {
     "name": "stdout",
     "output_type": "stream",
     "text": [
      "16\n"
     ]
    }
   ],
   "source": [
    "def timcsc(a,b,c):\n",
    "    if a>c: a,c = c,a\n",
    "    if b>c: b,c = c,b\n",
    "    if a>b: a,b = b,a\n",
    "    m1 = b-a\n",
    "    m2 = c-b\n",
    "    if m1 == m2:\n",
    "        return c+m1\n",
    "    elif m1>m2:\n",
    "        return a+m2\n",
    "    else:\n",
    "        return b+m1\n",
    "print(timcsc(10,13,19))"
   ]
  }
 ],
 "metadata": {
  "kernelspec": {
   "display_name": "Python 3 (ipykernel)",
   "language": "python",
   "name": "python3"
  },
  "language_info": {
   "codemirror_mode": {
    "name": "ipython",
    "version": 3
   },
   "file_extension": ".py",
   "mimetype": "text/x-python",
   "name": "python",
   "nbconvert_exporter": "python",
   "pygments_lexer": "ipython3",
   "version": "3.10.4"
  }
 },
 "nbformat": 4,
 "nbformat_minor": 5
}
