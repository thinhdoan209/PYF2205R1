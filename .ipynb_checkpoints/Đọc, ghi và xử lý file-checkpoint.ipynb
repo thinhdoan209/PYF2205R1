{
 "cells": [
  {
   "cell_type": "code",
   "execution_count": 18,
   "id": "b6deb8a9",
   "metadata": {},
   "outputs": [
    {
     "name": "stdout",
     "output_type": "stream",
     "text": [
      "42\n"
     ]
    }
   ],
   "source": [
    "f = open(\"demodocfile.txt\", \"r\", encoding = \"utf-8\")\n",
    "noidung = f.read()\n",
    "a = noidung.split(\"\\n\")\n",
    "s = 0\n",
    "for i in a:\n",
    "    s+=int(i)\n",
    "print(s)"
   ]
  },
  {
   "cell_type": "code",
   "execution_count": 34,
   "id": "97c95d1b",
   "metadata": {},
   "outputs": [
    {
     "name": "stdout",
     "output_type": "stream",
     "text": [
      "['fajsahd']\n"
     ]
    }
   ],
   "source": [
    "a = \"fajsahd\\n\"\n",
    "a = a.strip()\n",
    "print([a])"
   ]
  },
  {
   "cell_type": "code",
   "execution_count": 30,
   "id": "8897c5f9",
   "metadata": {},
   "outputs": [
    {
     "name": "stdout",
     "output_type": "stream",
     "text": [
      "Nhập username: 2341\n",
      "Nhập password: 43524\n",
      "Đăng nhập thất bại!\n"
     ]
    }
   ],
   "source": [
    "def dangnhap(username, password):\n",
    "    f = open(\"userdata.txt\", \"r\")\n",
    "    data = f.readlines()\n",
    "    for i in range(0, len(data)-1, 2):\n",
    "        if data[i].strip() == username:\n",
    "            if data[i+1].strip() == password:\n",
    "                return True\n",
    "    return False\n",
    "\n",
    "user = input(\"Nhập username: \")\n",
    "pw = input(\"Nhập password: \")\n",
    "if dangnhap(user, pw):\n",
    "    print(\"Đăng nhập thành công!\")\n",
    "else:\n",
    "    print(\"Đăng nhập thất bại!\")"
   ]
  },
  {
   "cell_type": "code",
   "execution_count": null,
   "id": "d3cae57d",
   "metadata": {},
   "outputs": [],
   "source": [
    "class DANGKY:\n",
    "    def __init__(self, user, pw):\n",
    "        self.user = user\n",
    "        self.pw = pw\n",
    "    def kiemtra(self):\n",
    "        f = open(\"userdata.txt\", \"r\")\n",
    "        data = f.readlines()\n",
    "        f.close()\n",
    "        L_user = []\n",
    "        L_pw = []\n",
    "        for i in range(len(data)):\n",
    "            if i%2 == 0:\n",
    "                L_user.append(data[i].strip())\n",
    "            else:\n",
    "                L_pw.append(data)\n",
    "        if L_user.index(user):\n",
    "            return True\n",
    "        else:\n",
    "            return False\n",
    "    def dangky(self):\n",
    "        if self.kiemtra():\n",
    "            print(\"User đã tồn tại!\")\n",
    "        else:\n",
    "            "
   ]
  },
  {
   "cell_type": "code",
   "execution_count": 2,
   "id": "482147e5",
   "metadata": {},
   "outputs": [
    {
     "name": "stdout",
     "output_type": "stream",
     "text": [
      "Nhập username: diennt\n",
      "Nhập password: 1234\n",
      "user đã tồn tại!\n"
     ]
    }
   ],
   "source": [
    "f = open(\"userdata.txt\", \"r\")\n",
    "data = f.readlines()\n",
    "f.close()\n",
    "L_user = []\n",
    "L_pw = []\n",
    "for i in range(len(data)):\n",
    "    if i%2 == 0:\n",
    "        L_user.append(data[i].rstrip())\n",
    "    else:\n",
    "        L_pw.append(data[i].rstrip())\n",
    "\n",
    "user = input(\"Nhập username: \")\n",
    "pw = input(\"Nhập password: \")\n",
    "\n",
    "if user in L_user:\n",
    "    print(\"User đã tồn tại!\")\n",
    "else:\n",
    "    print(\"User chưa tồn tại!\")"
   ]
  },
  {
   "cell_type": "code",
   "execution_count": 1,
   "id": "2673881f",
   "metadata": {
    "scrolled": true
   },
   "outputs": [
    {
     "name": "stdout",
     "output_type": "stream",
     "text": [
      "   dsjfhkd\n"
     ]
    }
   ],
   "source": [
    "a = \"   dsjfhkd    \"\n",
    "print(a.rstrip())"
   ]
  },
  {
   "cell_type": "code",
   "execution_count": 1,
   "id": "0267e0b1",
   "metadata": {},
   "outputs": [
    {
     "name": "stdout",
     "output_type": "stream",
     "text": [
      "Username: diennt\n",
      "Password: 23424\n",
      "Đăng ký thành công! diennt\n"
     ]
    }
   ],
   "source": [
    "def kiemTra(user):\n",
    "    f = open(\"userdata.txt\", \"r\")\n",
    "    data = f.readlines()\n",
    "    f.close()\n",
    "    for i in range(0, len(data)-1, 2):\n",
    "        if data[i].rstrip() == user:\n",
    "            return True\n",
    "    return False\n",
    "def dangKy(user, pw):\n",
    "    f  = open(\"userdata.txt\", \"a\")\n",
    "    f.write(\"\\n\" + user + \"\\n\" + pw)\n",
    "    f.close()\n",
    "    \n",
    "user = input(\"Username: \")\n",
    "pw = input(\"Password: \")\n",
    "\n",
    "if kiemTra(user):\n",
    "    print(\"User đã tồn tại!\")\n",
    "else:\n",
    "    dangKy(user, pw)\n",
    "    print(\"Đăng ký thành công!\", user)"
   ]
  }
 ],
 "metadata": {
  "kernelspec": {
   "display_name": "Python 3 (ipykernel)",
   "language": "python",
   "name": "python3"
  },
  "language_info": {
   "codemirror_mode": {
    "name": "ipython",
    "version": 3
   },
   "file_extension": ".py",
   "mimetype": "text/x-python",
   "name": "python",
   "nbconvert_exporter": "python",
   "pygments_lexer": "ipython3",
   "version": "3.10.4"
  }
 },
 "nbformat": 4,
 "nbformat_minor": 5
}
