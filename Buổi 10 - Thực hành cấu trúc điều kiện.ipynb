{
 "cells": [
  {
   "cell_type": "markdown",
   "id": "dcdb816e",
   "metadata": {},
   "source": [
    "# Thực hành cấu trúc điều khiển\n",
    "\n",
    "### Bài 1\n",
    "\n",
    "Cho phương trình bậc 2: ax^2 + bx + c = 0\n",
    "\n",
    "Nhập a, b, c\n",
    "\n",
    "Giải và biện luận phương trình trên"
   ]
  },
  {
   "cell_type": "code",
   "execution_count": null,
   "id": "b5a5c325",
   "metadata": {},
   "outputs": [],
   "source": [
    "a =  float(input(\"a = \"))\n",
    "b =  float(input(\"b = \"))\n",
    "c =  float(input(\"c = \"))\n",
    "\n",
    "d = b**2 - 4*a*c\n",
    "\n",
    "if d>0:\n",
    "    print(\"Phương trình có 2 nghiệm: x1 =\", (-b+d**0.5)/(2*a), \"| x2 =\", (-b-d**0.5)/(2*a))\n",
    "elif d<0:\n",
    "    print(\"Phương trình vô nghiệm\")\n",
    "else:\n",
    "    print(\"Phương trình có nghiệm kép: x =\", -b/(2*a))"
   ]
  },
  {
   "cell_type": "markdown",
   "id": "6f7d329d",
   "metadata": {},
   "source": [
    "### Bài 2\n",
    "\n",
    "Hãy nhập vào một số\n",
    "\n",
    "Xác định coi đó có phải là số nguyên tố hay không"
   ]
  },
  {
   "cell_type": "code",
   "execution_count": 13,
   "id": "049c85f5",
   "metadata": {},
   "outputs": [
    {
     "name": "stdout",
     "output_type": "stream",
     "text": [
      "Nhap so: 18\n",
      "18 không phải số nguyên tố\n"
     ]
    }
   ],
   "source": [
    "a = int(input(\"Nhap so: \"))\n",
    "b = int(a**0.5)\n",
    "k = 2\n",
    "c = 0\n",
    "for i in range(b-1):\n",
    "    if a%k==0:\n",
    "        c+=1\n",
    "    k+=1\n",
    "if c== 0:\n",
    "    print(a, \"là số nguyên tố\")\n",
    "else:\n",
    "    print(a, \"không phải số nguyên tố\")"
   ]
  },
  {
   "cell_type": "markdown",
   "id": "75f7717b",
   "metadata": {},
   "source": [
    "### Bài 3\n",
    "\n",
    "Hãy nhập vào số n\n",
    "\n",
    "Hãy đếm số chữ số 0 tận cùng của n giai thừa\n",
    "\n",
    "(Bài này nâng cao, mọi người có thể bỏ qua)"
   ]
  },
  {
   "cell_type": "code",
   "execution_count": 8,
   "id": "789e0e76",
   "metadata": {},
   "outputs": [
    {
     "name": "stdout",
     "output_type": "stream",
     "text": [
      "n = 10\n",
      "2\n"
     ]
    }
   ],
   "source": [
    "n = int(input(\"n = \"))\n",
    "k = 0\n",
    "for i in range(5,n+1,5):\n",
    "    j = i\n",
    "    while j%5==0:\n",
    "        k += 1\n",
    "        j=j/5\n",
    "print(k)"
   ]
  },
  {
   "cell_type": "markdown",
   "id": "29cd6c81",
   "metadata": {},
   "source": [
    "### Bài 4\n",
    "\n",
    "In ra tất cả các số chia hết cho 3 nhỏ hơn 100"
   ]
  },
  {
   "cell_type": "code",
   "execution_count": null,
   "id": "0b848981",
   "metadata": {},
   "outputs": [],
   "source": [
    "k = 0\n",
    "for i in range(100):\n",
    "    if(k%3 ==0):\n",
    "        print(k)\n",
    "    k +=1"
   ]
  },
  {
   "cell_type": "markdown",
   "id": "04dbf99b",
   "metadata": {},
   "source": [
    "### Bài 5\n",
    "\n",
    "In ra tất cả các số lẻ nhưng không chia hết cho 3 nhỏ hơn 100"
   ]
  },
  {
   "cell_type": "code",
   "execution_count": null,
   "id": "769eb439",
   "metadata": {},
   "outputs": [],
   "source": [
    "k = 0\n",
    "for i in range(100):\n",
    "    if(k%2 == 1 and k%3 != 0):\n",
    "        print(k)\n",
    "        k+=1\n"
   ]
  },
  {
   "cell_type": "markdown",
   "id": "26dd47fb",
   "metadata": {},
   "source": [
    "### Bài 5\n",
    "\n",
    "Tại một cửa hàng nọ có menu như sau:\n",
    "\n",
    "1. Gà rán giá 35k\n",
    "2. Hamburger giá 50k\n",
    "3. Pesi giá 10k\n",
    "\n",
    "Nhập số lượng món hàng cần mua\n",
    "\n",
    "Tính và in ra tổng giá tiền (hiển thị có dấu chấm mỗi 3 chữ số để người dùng để quan sát)\n",
    "\n",
    "Nếu giá trị đơn hàng trên 2 triệu, giảm 10% cho khách, trên 4 triệu, giảm 15%\n",
    "\n",
    "Tính và in ra tổng giá tiền được giảm (hiển thị có dấu chấm mỗi 3 chữ số để người dùng để quan sát)\n",
    "\n",
    "Tính và in ra tổng giá tiền khách cần trả (hiển thị có dấu chấm mỗi 3 chữ số để người dùng để quan sát)\n",
    "\n",
    "In ra dòng chữ \"Cảm ơn quý khách đã mua hàng\""
   ]
  },
  {
   "cell_type": "code",
   "execution_count": 2,
   "id": "8509df1e",
   "metadata": {
    "scrolled": true
   },
   "outputs": [
    {
     "name": "stdout",
     "output_type": "stream",
     "text": [
      "Nhập số lượng Gà rán: 37248\n",
      "Nhập số lượng Hamburger: 2342\n",
      "Nhập số lượng Pepsi: 2429\n",
      "\n",
      "Tổng tiền: 1.445.070.000 VNĐ\n",
      "Số tiền được giảm: 216.760.500 VNĐ\n",
      "Số tiền khách cần trả: 1.228.309.500 VNĐ\n",
      "\n",
      "Cảm ơn quý khách đã mua hàng.\n"
     ]
    }
   ],
   "source": [
    "a = int(input(\"Nhập số lượng Gà rán: \"))\n",
    "b = int(input(\"Nhập số lượng Hamburger: \"))\n",
    "c = int(input(\"Nhập số lượng Pepsi: \"))\n",
    "print()\n",
    "\n",
    "# Hiển thị dấu chấm mỗi 3 chữ số\n",
    "def f(a):\n",
    "    a = str(a)\n",
    "    l = len(a)\n",
    "    if(l%3 != 0):\n",
    "        b =  a[:l%3] + \".\"\n",
    "    else:\n",
    "        b = \"\"\n",
    "    c = [a[i:i+3] for i in range(l%3, l, 3)]\n",
    "    a = b + c[0]\n",
    "    for i in range (1, len(c)):\n",
    "        a += \".\" + c[i]\n",
    "    return(a)\n",
    "\n",
    "def f2(a):\n",
    "    return format(a,',d')\n",
    "\n",
    "t = (a*35 + b*50 + c*10)*(10**3)\n",
    "print(\"Tổng tiền:\", f(t), \"VNĐ\")\n",
    "\n",
    "tg = 0 # tiền giảm\n",
    "if t>4*(10**6):\n",
    "    tg = int(t*0.15)\n",
    "    t = t - tg\n",
    "elif t>2*(10**6):\n",
    "    tg = int(t*0.1)\n",
    "    t = t - tg\n",
    "print(\"Số tiền được giảm:\", f(tg), \"VNĐ\")\n",
    "print(\"Số tiền khách cần trả:\", f(t), \"VNĐ\")\n",
    "print()\n",
    "print(\"Cảm ơn quý khách đã mua hàng.\")"
   ]
  },
  {
   "cell_type": "code",
   "execution_count": 5,
   "id": "d042c393",
   "metadata": {},
   "outputs": [
    {
     "name": "stdout",
     "output_type": "stream",
     "text": [
      "70.000.000\n"
     ]
    }
   ],
   "source": [
    "tong = 70000000\n",
    "tong_tam = \"\"\n",
    "tong = str(tong)\n",
    "k = -1\n",
    "dem = 0\n",
    "## TẠI SAO LẠI KHÔNG CỘNG TỪ TRÁI SANG PHẢI MÀ LẠI CỘNG TỪ PHẢI SANG\n",
    "## NẾU CỘNG TỪ PHẢI SANG THÌ RA CHUỖI NGƯỢC RỒI\n",
    "for i in range(len(tong)-1): ## chạy từng ký tự trong chuỗi tong (chạy ngược từ dưới lên)\n",
    "    tong_tam += tong[k]\n",
    "    dem += 1\n",
    "    if dem == 3: ## đếm được 3 ký tự thì đưa thêm dấu chấm vào\n",
    "        tong_tam += \".\"\n",
    "        dem = 0\n",
    "    k -= 1\n",
    "tong = tong[0] + tong_tam[::-1]\n",
    "print(tong)"
   ]
  },
  {
   "cell_type": "code",
   "execution_count": 11,
   "id": "609d3e0b",
   "metadata": {},
   "outputs": [
    {
     "name": "stdout",
     "output_type": "stream",
     "text": [
      "7.000.000.000\n"
     ]
    }
   ],
   "source": [
    "tong = 7000000000\n",
    "tong_tam = \"\"\n",
    "tong = str(tong)\n",
    "k = -1\n",
    "dem = 0\n",
    "## TẠI SAO LẠI KHÔNG CỘNG TỪ TRÁI SANG PHẢI MÀ LẠI CỘNG TỪ PHẢI SANG\n",
    "## NẾU CỘNG TỪ PHẢI SANG THÌ RA CHUỖI NGƯỢC RỒI\n",
    "for i in range(len(tong)): ## chạy từng ký tự trong chuỗi tong (chạy ngược từ dưới lên)\n",
    "    dem += 1\n",
    "    if dem == 4: ## đếm được 3 ký tự thì đưa thêm dấu chấm vào\n",
    "        tong_tam += \".\"\n",
    "        dem = 1\n",
    "    tong_tam += tong[k]\n",
    "    k -= 1\n",
    "tong = tong_tam[::-1]\n",
    "print(tong)"
   ]
  },
  {
   "cell_type": "markdown",
   "id": "ab10a1ce",
   "metadata": {},
   "source": [
    "### Bài 6\n",
    "\n",
    "Nhập vào chiều cao (cm) và cân nặng (kg), tính số BMI và xét rồi xin kết quả theo dữ liệu sau:\n",
    "\n",
    "- BMI < 16: Gầy cấp độ III\n",
    "- 16 <= BMI < 17:  Gầy cấp độ II\n",
    "- 17<= BMI < 18.5: Gầy cấp độ I\n",
    "- 18.5 <= BMI < 25: Bình thường\n",
    "- 25 <= BMI < 30: Thừa cân\n",
    "- 30 <= BMI < 35 : Béo phì cấp độ I\n",
    "- 35 <= BMI < 40: Béo phì cấp độ II\n",
    "- BMI > 40: Béo phì cấp độ III"
   ]
  },
  {
   "cell_type": "code",
   "execution_count": 44,
   "id": "1058f441",
   "metadata": {},
   "outputs": [
    {
     "name": "stdout",
     "output_type": "stream",
     "text": [
      "Chiều cao (cm): 167\n",
      "Cân nặng (kg):54\n",
      "\n",
      "Bình thường\n"
     ]
    }
   ],
   "source": [
    "a = float(input(\"Chiều cao (cm): \"))\n",
    "b = float(input(\"Cân nặng (kg):\"))\n",
    "print()\n",
    "\n",
    "a = a/100\n",
    "BMI = b/(a**2)\n",
    "\n",
    "if BMI<16:\n",
    "    print(\"Gầy cấp độ III\")\n",
    "elif BMI<17:\n",
    "    print(\"Gầy cấp độ II\")\n",
    "elif BMI<18.5:\n",
    "    print(\"Gầy cấp độ I\")\n",
    "elif BMI<25:\n",
    "    print(\"Bình thường\")\n",
    "elif BMI<30:\n",
    "    print(\"Thừa cân\")\n",
    "elif BMI<35:\n",
    "    print(\"Béo phì cấp độ I\")\n",
    "elif BMI<40:\n",
    "    print(\"Béo phì cấp độ II\")\n",
    "else:\n",
    "    print(\"Béo phì cấp độ III\")"
   ]
  },
  {
   "cell_type": "markdown",
   "id": "f7620342",
   "metadata": {},
   "source": [
    "### Bài 7\n",
    "\n",
    "Nhập ngày, tháng, năm. Hãy tính và in ra màn hình kể từ đầu năm đến ngày vừa nhập là bao nhiêu ngày."
   ]
  },
  {
   "cell_type": "code",
   "execution_count": 12,
   "id": "4c57f0a5",
   "metadata": {},
   "outputs": [
    {
     "name": "stdout",
     "output_type": "stream",
     "text": [
      "Nhập ngày/tháng/năm: 14/6/1999\n",
      "Số ngày từ đầu năm: 165\n"
     ]
    }
   ],
   "source": [
    "a = input(\"Nhập ngày/tháng/năm: \")\n",
    "b = a.split(\"/\")\n",
    "\n",
    "ngay = int(b[0])\n",
    "thang = int(b[1])\n",
    "nam = int(b[2])\n",
    "\n",
    "# Kiểm tra năm nhuận\n",
    "if (nam%400==0 or (nam%4==0 and nam%100!=0)):\n",
    "    t2 = 29\n",
    "else:\n",
    "    t2 = 28\n",
    "\n",
    "# Số ngày trong tháng:\n",
    "c = [31, t2, 31, 30, 31, 30, 31, 31, 30, 31, 30, 31]\n",
    "\n",
    "n = 0\n",
    "for i in range(thang-1):\n",
    "    n += c[i]\n",
    "n += ngay\n",
    "print(\"Số ngày từ đầu năm:\", n)"
   ]
  }
 ],
 "metadata": {
  "kernelspec": {
   "display_name": "Python 3 (ipykernel)",
   "language": "python",
   "name": "python3"
  },
  "language_info": {
   "codemirror_mode": {
    "name": "ipython",
    "version": 3
   },
   "file_extension": ".py",
   "mimetype": "text/x-python",
   "name": "python",
   "nbconvert_exporter": "python",
   "pygments_lexer": "ipython3",
   "version": "3.10.4"
  }
 },
 "nbformat": 4,
 "nbformat_minor": 5
}
