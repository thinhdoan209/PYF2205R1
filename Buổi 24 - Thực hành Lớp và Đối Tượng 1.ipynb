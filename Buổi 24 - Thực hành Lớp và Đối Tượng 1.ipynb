{
 "cells": [
  {
   "cell_type": "markdown",
   "id": "ec00548e",
   "metadata": {},
   "source": [
    "# Thực hành Lớp và Đối Tượng 1"
   ]
  },
  {
   "cell_type": "markdown",
   "id": "e9a5b1b0",
   "metadata": {},
   "source": [
    "### Bài 1"
   ]
  },
  {
   "cell_type": "markdown",
   "id": "b89649bc",
   "metadata": {},
   "source": [
    "Viết một lớp point để lưu trữ một điểm trong hệ trục tọa độ Oxy\n",
    "\n",
    "Class này có:\n",
    "\n",
    "<b> Các biến: </b>\n",
    "- <b>x</b>: mang tọa độ x của diểm\n",
    "- <b>y</b>: mang tọa độ y của diểm\n",
    "\n",
    "<b> Các hàm: </b>\n",
    "- <b>khoangcachgoc:</b> hàm này trả về khoảng cách từ điểm đến điểm gốc(0,0)\n",
    "- <b>khoangcach(tham số đầu vào là 1 đối tượng có lớp point):</b> hàm này trả về khoảng cách từ điểm đến điểm được đưa vào\n",
    "- <b>diemdoixung:</b> hàm này trả về đối tượng có lớp point là điểm đối xứng của điểm qua điểm gốc(0,0)\n",
    "- <b>diemtrungbinh(tham số đầu vào là 1 đối tượng có lớp point):</b> hàm này trả về đối tượng có lớp point là điểm nằm chính giữa điểm và điểm được đưa vào\n",
    "- <b>thanghang(tham số đầu vào là 2 đối tượng có lớp point):</b> hàm này trả về kết quả kiểm tra 3 điểm có thẳng hằng hay không (True/False)\n",
    "- <b>vuonggoc((tham số đầu vào là 3 đối tượng có lớp point):</b> hàm trả trả về kết quả kiểm tra 4 điểm có tạo thành 2 đường thẳng vuông góc được hay không (True/False)"
   ]
  },
  {
   "cell_type": "code",
   "execution_count": 8,
   "id": "ca30ea7d",
   "metadata": {},
   "outputs": [
    {
     "name": "stdout",
     "output_type": "stream",
     "text": [
      "False\n"
     ]
    }
   ],
   "source": [
    "class point:\n",
    "    def __init__(self, x, y):\n",
    "        self.x = x\n",
    "        self.y = y\n",
    "    def khoangcachgoc(self):\n",
    "        return (self.x**2+self.y**2)**0.5\n",
    "    def khoangcach(self, pA):\n",
    "        kc = ((self.x-pA.x)**2 + (self.y-pA.y)**2)**0.5\n",
    "        return kc\n",
    "    def diemdoixung(self):\n",
    "        return point(self.x*-1, self.y*-1)\n",
    "    def diemtrungbinh(self, pA):\n",
    "        x_trungbinh = (self.x +pA.x)/2\n",
    "        y_trungbinh = (self.y + pA.y)/2\n",
    "        return point(x_trungbinh, y_trungbinh)\n",
    "    def thanghang(self, pA, pB):\n",
    "        #ax1 + by1 +c =0  => c = -(ax1 + by1)\n",
    "        #ax2+ by2 +c = 0 => ax1 + by1 = ax2 +by2 = -c\n",
    "        #a(x1-x2) + b(y1-y2) = 0\n",
    "        # (x1-x2)/(y1-y2) = -b/a\n",
    "        \n",
    "        a = (self.x-pA.x)/(self.y-pA.y)\n",
    "        if (self.x-pB.x)/(self.y-pB.y) == a:\n",
    "            return True\n",
    "        return False\n",
    "    def vuonggoc(self, pA, pB, pC):\n",
    "        ...\n",
    "    \n",
    "    def inPoint(self):\n",
    "        print(self.x , \", \", self.y, sep=\"\")\n",
    "p1 = point(0,10)\n",
    "p2 = point(1,0)\n",
    "p3 = p1.diemtrungbinh(p2)\n",
    "print(p1.thanghang(p2, p3))"
   ]
  },
  {
   "cell_type": "markdown",
   "id": "59c44a5f",
   "metadata": {},
   "source": [
    "### Bài 2"
   ]
  },
  {
   "cell_type": "markdown",
   "id": "b6f8706c",
   "metadata": {},
   "source": [
    "Viết một lớp line để lưu trữ một đường thẳng trong hệ trục tọa độ Oxy (có dạng ax + by + c = 0)\n",
    "\n",
    "Class này có:\n",
    "\n",
    "<b> Các biến: </b>\n",
    "- <b>a</b>: hệ số a của phương trình\n",
    "- <b>b</b>: hệ số b của phương trình\n",
    "- <b>c</b>: hệ số c của phương trình\n",
    "\n",
    "<b> Các hàm: </b>\n",
    "- <b>khoangcachgoc:</b> hàm này trả về khoảng cách từ đường thẳng đến điểm gốc(0,0)\n",
    "- <b>khoangcach(tham số đầu vào là 1 đối tượng có lớp point):</b> hàm này trả về khoảng cách từ đường thẳng đến điểm được đưa vào\n",
    "- <b>tinhchat(tham số đầu vào là 1 đối tượng có lớp line):</b> hàm này kiểm tra xem 2 đường thẳng cắt nhau hay song song hay trùng nhau (trả về 0: cắt nhau, 1: song song, 2: trùng nhau)\n",
    "- <b>thuocduongthang(tham số đầu vào là 1 đối tượng có lớp point):</b> hàm này trả về kết quả điểm có thuộc đường thẳng hay không (True/False)\n",
    "- <b>duongthangtrungbinh(tham số đầu vào là 1 đối tượng có lớp point):</b> hàm này trả về đối tượng có lớp line là đường thẳng nằm chính giữa đường thẳng và điểm được đưa vào\n",
    "- <b>songsong(tham số đầu vào là 2 đối tượng có lớp point):</b> hàm này trả về kết quả kiểm tra 2 điểm có có tạo đường thẳng song song với đường thẳng hay không (True/False)\n",
    "- <b>vuonggoc((tham số đầu vào là 2 đối tượng có lớp point):</b> hàm này trả về kết quả kiểm tra 2 điểm có có tạo đường thẳng vuông góc với đường thẳng hay không (True/False)"
   ]
  },
  {
   "cell_type": "code",
   "execution_count": 22,
   "id": "ce32e9aa",
   "metadata": {},
   "outputs": [
    {
     "name": "stdout",
     "output_type": "stream",
     "text": [
      "0x + 2y + 0.0 = 0\n"
     ]
    }
   ],
   "source": [
    "class Point:\n",
    "    def __init__(self, x, y):\n",
    "        self.x = x\n",
    "        self.y = y\n",
    "\n",
    "class Line:\n",
    "    def __init__(self, a, b, c):\n",
    "        self.a = a\n",
    "        self.b = b\n",
    "        self.c = c\n",
    "    def inLine(self):\n",
    "        print(f\"{self.a}x + {self.b}y + {self.c} = 0\")\n",
    "    def khoangcachgoc(self):\n",
    "        kc = abs(self.c)/((self.a**2+self.b**2)**0.5)\n",
    "        return kc\n",
    "    def khoangcach(self, p1):\n",
    "        kc = abs(self.a*p1.x + self.b*p1.y + self.c)/((self.a**2+self.b**2)**0.5)\n",
    "        return kc\n",
    "    def tinhchat(self, l1):\n",
    "        return\n",
    "    def thuocduongthang(self, p1):\n",
    "        return self.a*p1.x + self.b*p1.y + self.c == 0\n",
    "    def duongthangtrungbinh(self, p1):\n",
    "        a = self.a\n",
    "        b = self.b\n",
    "        c = -(self.a*p1.x + self.b*p1.y)/2\n",
    "        return Line(a,b,c)\n",
    "L1 = Line(0,2,0)\n",
    "p1 = Point(0, 0)\n",
    "\n",
    "L2 = L1.duongthangtrungbinh(Point(0,0))\n",
    "\n",
    "L2.inLine()"
   ]
  }
 ],
 "metadata": {
  "kernelspec": {
   "display_name": "Python 3 (ipykernel)",
   "language": "python",
   "name": "python3"
  },
  "language_info": {
   "codemirror_mode": {
    "name": "ipython",
    "version": 3
   },
   "file_extension": ".py",
   "mimetype": "text/x-python",
   "name": "python",
   "nbconvert_exporter": "python",
   "pygments_lexer": "ipython3",
   "version": "3.10.4"
  }
 },
 "nbformat": 4,
 "nbformat_minor": 5
}
