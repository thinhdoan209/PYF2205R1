{
 "cells": [
  {
   "cell_type": "markdown",
   "id": "b08a97f2",
   "metadata": {},
   "source": [
    "# Thực hành lớp và đối tượng 2"
   ]
  },
  {
   "cell_type": "markdown",
   "id": "cb5eadba",
   "metadata": {},
   "source": [
    "### Bài 1"
   ]
  },
  {
   "cell_type": "markdown",
   "id": "912cf868",
   "metadata": {},
   "source": [
    "Theo các nghiên cứu, đoạn đường đẹp nhất là đoạn đường mà ở đó độ cao trung bình của các tòa nhà là K.\n",
    "\n",
    "Có N tòa nhà, tòa nhà thứ i tính từ đầu đường có độ cao là Ai.\n",
    "\n",
    "Bạn hãy tìm một đoạn dài nhất các tòa nhà sao cho chúng có độ cao trung bình là K.\n",
    "\n",
    "<b>Dữ liệu đầu vào:</b>\n",
    "\n",
    "Biến K chứa K\n",
    "\n",
    "Biến L là list chứa các Ai\n",
    "\n",
    "<b>In ra:</b> vị trí và độ dài của đoạn list thỏa mãn yêu cầu (trong trường hợp có nhiều đoạn list, in ra đoạn có độ dài lớn nhất)\n",
    "\n",
    "<b>Ví dụ:</b>\n",
    "\n",
    "K = 5\n",
    "\n",
    "L = [2,4,5,6]\n",
    "\n",
    "<b>In ra:</b> Vị trí đoạn list thỏa màn yêu cầu là 1 và có độ dài là 3 (tức là đoạn [4,5,6])"
   ]
  },
  {
   "cell_type": "markdown",
   "id": "3e954d21",
   "metadata": {},
   "source": [
    "<b> Khai báo: </b>"
   ]
  },
  {
   "cell_type": "code",
   "execution_count": 44,
   "id": "4603b6fd",
   "metadata": {},
   "outputs": [],
   "source": [
    "K = 5\n",
    "L = [2,4,5,6]"
   ]
  },
  {
   "cell_type": "markdown",
   "id": "7abdba36",
   "metadata": {},
   "source": [
    "<b> Code: </b>"
   ]
  },
  {
   "cell_type": "code",
   "execution_count": 45,
   "id": "d12b38b9",
   "metadata": {},
   "outputs": [
    {
     "name": "stdout",
     "output_type": "stream",
     "text": [
      "Vị trí đoạn list thỏa màn yêu cầu là 1 và có độ dài là 3 (tức là đoạn [4, 5, 6])\n"
     ]
    }
   ],
   "source": [
    "def tinhTrungBinh(i,j,L):\n",
    "    s = 0\n",
    "    for k in range(i,j+1):\n",
    "        s += L[k]\n",
    "    s /= (j-i+1)\n",
    "    return s\n",
    "def timDoanDuong(L, K):\n",
    "    l = len(L)\n",
    "    D_doanduong = {}\n",
    "    for i in range(l):\n",
    "        for j in range(i,l):\n",
    "            if tinhTrungBinh(i,j,L) == K:\n",
    "                D_doanduong[j-i+1] = i\n",
    "    if D_doanduong == {}: return False\n",
    "    k = 0\n",
    "    for i in D_doanduong:\n",
    "        if k<i:\n",
    "            k = i\n",
    "    return [D_doanduong[k], k, L[D_doanduong[k]:D_doanduong[k]+k]]\n",
    "kq = timDoanDuong(L, K)\n",
    "if kq != False:\n",
    "    print(f\"Vị trí đoạn list thỏa màn yêu cầu là {kq[0]} và có độ dài là {kq[1]} (tức là đoạn {kq[2]})\")\n",
    "else:\n",
    "    print(\"Không tìm được đoạn đường thỏa mãn\")"
   ]
  },
  {
   "cell_type": "code",
   "execution_count": 9,
   "id": "3f7ee37a",
   "metadata": {},
   "outputs": [
    {
     "data": {
      "text/plain": [
       "(1, 3)"
      ]
     },
     "execution_count": 9,
     "metadata": {},
     "output_type": "execute_result"
    }
   ],
   "source": [
    "def tinhtb(L):\n",
    "    return sum(L)/len(L)\n",
    "def main():\n",
    "    for dodai in range(len(L), 0, -1):\n",
    "        for i in range(len(L)-dodai+1):\n",
    "            L_cut = L[i:i+dodai]\n",
    "            if tinhtb(L_cut) == K:\n",
    "                return i, dodai\n",
    "    return -1\n",
    "\n",
    "K = 5\n",
    "L = [2,4,5,6]\n",
    "main()"
   ]
  },
  {
   "cell_type": "markdown",
   "id": "724bdb5b",
   "metadata": {},
   "source": [
    "### Bài 2"
   ]
  },
  {
   "cell_type": "markdown",
   "id": "82340c62",
   "metadata": {},
   "source": [
    "Trong một bản nhạc thường có những đoạn nhạc (mỗi đoạn nhạc là một dãy có nhiều hơn một nốt nhạc đi liền nhau) được sử dụng lại nhờ thủ pháp biến tấu đồng điệu.\n",
    "\n",
    "Thủ pháp này đơn giản là lặp lại một đoạn nhạc nào đó trước đó bằng cách giữ nguyên, hoặc tăng, giảm tất cả các nốt cùng một quãng cao nào đó.\n",
    "\n",
    "Chẳng hạn, đoạn với dãy cao độ: 2, 1, 5, 4, 7, 6 là biến tấu đồng điệu của đoạn: 5, 4, 8, 7, 10, 9.\n",
    "\n",
    "Vì các nốt của đoạn đều bị giảm đi một quãng 3. Độ dài mỗi đoạn nói trên đều là 6 (gồm 6 nốt).\n",
    "\n",
    "Yêu cầu: cho trước bản nhạc gồm N nốt nhạc, hãy tìm độ dài lớn nhất L có thể có của các đoạn biến tấu đồng điệu. Nếu không có đoạn biến tấu đồng điệu nào thì L = 0.\n",
    "\n",
    "<b>Dữ liệu đầu vào:</b>\n",
    "\n",
    "Biến L chứa các cao độ của nốt nhạc (độ dài của L lớn hơn 3 và bé hơn 5000)\n",
    "\n",
    "<b>In ra:</b> Số nguyên L\n",
    "\n",
    "<b>Ví dụ:</b>\n",
    "\n",
    "L = [67,6,7,5,4,1,2,3,4,5,23,4,5,3,5,6,12,56,57,58,59,13,14,13,14]\n",
    "\n",
    "<b>In ra:</b> 4"
   ]
  },
  {
   "cell_type": "markdown",
   "id": "9a8a52f5",
   "metadata": {},
   "source": [
    "<b> Khai báo: </b>"
   ]
  },
  {
   "cell_type": "code",
   "execution_count": 2,
   "id": "c821d2c5",
   "metadata": {},
   "outputs": [],
   "source": [
    "L = [67,6,7,5,4,1,2,3,4,5,23,4,5,3,5,6,12,56,57,58,59,13,14,13,14]"
   ]
  },
  {
   "cell_type": "markdown",
   "id": "a0fb033a",
   "metadata": {},
   "source": [
    "<b> Code: </b>"
   ]
  },
  {
   "cell_type": "code",
   "execution_count": 5,
   "id": "51b08037",
   "metadata": {},
   "outputs": [
    {
     "name": "stdout",
     "output_type": "stream",
     "text": [
      "4\n"
     ]
    }
   ],
   "source": [
    "def check_dongdieu(L1, L2):\n",
    "    l1 = len(L1)\n",
    "    l2 = len(L2)\n",
    "    if l1<2 or l2<2 or l1 != l2: return False\n",
    "    k = L2[0]-L1[0]\n",
    "    for i in range(1, l1):\n",
    "        if L2[i]-L1[i] != k: return False\n",
    "    return True\n",
    "def main():\n",
    "    for dodai in range(len(L)//2, 1, -1):\n",
    "        for i in range(len(L)-2*dodai+1):\n",
    "            L_cut1 = L[i:i+dodai]\n",
    "            for j in range(i+dodai, len(L)-dodai + 1):\n",
    "                L_cut2 = L[j:j+dodai]\n",
    "                if check_dongdieu(L_cut1, L_cut2):\n",
    "                    return dodai\n",
    "    return 0\n",
    "print(main())"
   ]
  }
 ],
 "metadata": {
  "kernelspec": {
   "display_name": "Python 3 (ipykernel)",
   "language": "python",
   "name": "python3"
  },
  "language_info": {
   "codemirror_mode": {
    "name": "ipython",
    "version": 3
   },
   "file_extension": ".py",
   "mimetype": "text/x-python",
   "name": "python",
   "nbconvert_exporter": "python",
   "pygments_lexer": "ipython3",
   "version": "3.10.4"
  }
 },
 "nbformat": 4,
 "nbformat_minor": 5
}
