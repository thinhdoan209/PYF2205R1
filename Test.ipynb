{
 "cells": [
  {
   "cell_type": "code",
   "execution_count": 1,
   "id": "8f1b68b4",
   "metadata": {},
   "outputs": [],
   "source": [
    "import turtle\n",
    "\n",
    "#define pen size\n",
    "turtle.pensize(5) \n",
    " \n",
    "#define pen color\n",
    "turtle.pencolor(\"Blue\") \n",
    "\n",
    "#for outer bigger circle\n",
    "facesize = 200\n",
    "turtle.penup()\n",
    "turtle.goto(0, -200)\n",
    "turtle.pendown()\n",
    "turtle.circle(facesize)\n",
    "\n",
    "#for eyes\n",
    "#Màu nền mắt là màu đỏ\n",
    "turtle.fillcolor (\"red\")\n",
    "turtle.penup()\n",
    "turtle.goto(-100,50)\n",
    "turtle.pendown()\n",
    "\n",
    "# khai bao bien eyesize lưu kích thước mắt\n",
    "eye_size = 17.5\n",
    " \n",
    "turtle.begin_fill()\n",
    "turtle.circle(eye_size)\n",
    "turtle.end_fill()\n",
    "turtle.penup()\n",
    " \n",
    "turtle.goto(100,50)\n",
    "turtle.pendown()\n",
    "turtle.begin_fill()\n",
    "turtle.circle(eye_size)\n",
    "turtle.end_fill()\n",
    "\n",
    "#for nose\n",
    "turtle.penup ()\n",
    "turtle.goto(0,50)\n",
    "turtle.pendown()\n",
    "turtle.circle(-70, steps=3) #Bán kính 70, steps = 3 để vẽ tam giác đều, \"-\" để bắt đầu vẽ từ đỉnh\n",
    "\n",
    "# for smile\n",
    "turtle.penup()\n",
    "turtle.goto(-100, -70)\n",
    "\n",
    "turtle.pendown()\n",
    "turtle.right(90)\n",
    "turtle.circle(100,180) #extent = 180\n",
    "turtle.mainloop()"
   ]
  },
  {
   "cell_type": "code",
   "execution_count": 1,
   "id": "12c0338c",
   "metadata": {
    "scrolled": true
   },
   "outputs": [
    {
     "name": "stdout",
     "output_type": "stream",
     "text": [
      "[-42, -24]\n",
      "[173, 46]\n",
      "[294, -46]\n"
     ]
    }
   ],
   "source": [
    "import turtle\n",
    "\n",
    "t =  turtle.Turtle()\n",
    "\n",
    "ws = (t\n",
    "    ._screen\n",
    "    .getcanvas()\n",
    "    .winfo_toplevel())\n",
    "ws.attributes('-alpha', 0.5)\n",
    "\n",
    "def get_mouse_click_coor(x, y):\n",
    "    print('[' + g(x) + \", \" + g(y) + ']')\n",
    "def g(a):\n",
    "    return '{:g}'.format(a)\n",
    "\n",
    "turtle.onscreenclick(get_mouse_click_coor)\n",
    "\n",
    "turtle.mainloop()"
   ]
  },
  {
   "cell_type": "markdown",
   "id": "ad824179",
   "metadata": {},
   "source": [
    "Xác định tâm và bán kính đường tròn bằng 3 điểm: I(a,b), r\n",
    "\n",
    "Ta có: (x-a)^2 + (y-b)^2 = r^2\n",
    "\n",
    "b = (x1**2-x3**2+y1**2-y3**2-(x1-x3)*(x1**2-x2**2+y1**2-y2**2)/(x1-x2))/(2*(-(x1-x3)*(y1-y2)/(x1-x2)+y1-y3)\n",
    "\n",
    "a = ((x1**2-x2**2+y1**2-y2**2)/2-(y1-y2)*b)/(x1-x2)\n",
    "\n",
    "r = sqrt((x1-a)**2+(y1-b)**2)"
   ]
  },
  {
   "cell_type": "code",
   "execution_count": 3,
   "id": "6800908c",
   "metadata": {},
   "outputs": [
    {
     "name": "stdout",
     "output_type": "stream",
     "text": [
      "118.3778761061947 -151.41061946902656 204.8280476346319\n"
     ]
    }
   ],
   "source": [
    "import math\n",
    "\n",
    "#array\n",
    "A = [-42, -24]\n",
    "B = [173, 46]\n",
    "C = [294, -46]\n",
    "\n",
    "x1 = A[0]\n",
    "y1 = A[1]\n",
    "x2 = B[0]\n",
    "y2 = B[1]\n",
    "x3 = C[0]\n",
    "y3 = C[1]\n",
    "\n",
    "b = (x1**2-x3**2+y1**2-y3**2-(x1-x3)*(x1**2-x2**2+y1**2-y2**2)/(x1-x2))/(2*(-(x1-x3)*(y1-y2)/(x1-x2)+y1-y3))\n",
    "a = ((x1**2-x2**2+y1**2-y2**2)/2-(y1-y2)*b)/(x1-x2)\n",
    "r = math.sqrt((x1-a)**2+(y1-b)**2)\n",
    "\n",
    "print(a, b, r)"
   ]
  }
 ],
 "metadata": {
  "kernelspec": {
   "display_name": "Python 3 (ipykernel)",
   "language": "python",
   "name": "python3"
  },
  "language_info": {
   "codemirror_mode": {
    "name": "ipython",
    "version": 3
   },
   "file_extension": ".py",
   "mimetype": "text/x-python",
   "name": "python",
   "nbconvert_exporter": "python",
   "pygments_lexer": "ipython3",
   "version": "3.10.4"
  }
 },
 "nbformat": 4,
 "nbformat_minor": 5
}
