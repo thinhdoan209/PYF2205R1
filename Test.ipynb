{
 "cells": [
  {
   "cell_type": "code",
   "execution_count": 1,
   "id": "8f1b68b4",
   "metadata": {},
   "outputs": [],
   "source": [
    "import turtle\n",
    "\n",
    "#define pen size\n",
    "turtle.pensize(5) \n",
    " \n",
    "#define pen color\n",
    "turtle.pencolor(\"Blue\") \n",
    "\n",
    "#for outer bigger circle\n",
    "facesize = 200\n",
    "turtle.penup()\n",
    "turtle.goto(0, -200)\n",
    "turtle.pendown()\n",
    "turtle.circle(facesize)\n",
    "\n",
    "#for eyes\n",
    "#Màu nền mắt là màu đỏ\n",
    "turtle.fillcolor (\"red\")\n",
    "turtle.penup()\n",
    "turtle.goto(-100,50)\n",
    "turtle.pendown()\n",
    "\n",
    "# khai bao bien eyesize lưu kích thước mắt\n",
    "eye_size = 17.5\n",
    " \n",
    "turtle.begin_fill()\n",
    "turtle.circle(eye_size)\n",
    "turtle.end_fill()\n",
    "turtle.penup()\n",
    " \n",
    "turtle.goto(100,50)\n",
    "turtle.pendown()\n",
    "turtle.begin_fill()\n",
    "turtle.circle(eye_size)\n",
    "turtle.end_fill()\n",
    "\n",
    "#for nose\n",
    "turtle.penup ()\n",
    "turtle.goto(0,50)\n",
    "turtle.pendown()\n",
    "turtle.circle(-70, steps=3) #Bán kính 70, steps = 3 để vẽ tam giác đều, \"-\" để bắt đầu vẽ từ đỉnh\n",
    "\n",
    "# for smile\n",
    "turtle.penup()\n",
    "turtle.goto(-100, -70)\n",
    "\n",
    "turtle.pendown()\n",
    "turtle.right(90)\n",
    "turtle.circle(100,180) #extent = 180\n",
    "turtle.mainloop()"
   ]
  },
  {
   "cell_type": "code",
   "execution_count": null,
   "id": "12c0338c",
   "metadata": {
    "scrolled": true
   },
   "outputs": [
    {
     "name": "stdout",
     "output_type": "stream",
     "text": [
      "[-253, -83]\n",
      "[119, -82]\n",
      "[117, 73]\n",
      "[-112, -82]\n",
      "[-26, -82]\n",
      "[-28, 21]\n",
      "[-251, 73]\n",
      "[-112, 182]\n",
      "[-69, 173]\n",
      "[-45, 172]\n",
      "[-45, 121]\n",
      "[-46, 171]\n",
      "[-45, 173]\n",
      "[-46, 192]\n",
      "[-45, 244]\n",
      "[-45, 215]\n",
      "[-60, 213]\n",
      "[-62, 229]\n",
      "[-60, 201]\n",
      "[-61, 174]\n",
      "[-252, -82]\n",
      "[-328, -170]\n",
      "[-328, -170]\n",
      "[-313, -171]\n",
      "[-322, -104]\n",
      "[-303, -104]\n",
      "[293, -161]\n",
      "[263, -160]\n",
      "[323, -159]\n",
      "[275, -31]\n",
      "[311, -30]\n",
      "[-375, -104]\n",
      "[-256, -102]\n",
      "[-362, -52]\n",
      "[-266, -52]\n",
      "[-340, -6]\n",
      "[-285, -5]\n",
      "[172, -30]\n",
      "[408, -31]\n",
      "[199, 68]\n",
      "[384, 68]\n",
      "[240, 156]\n",
      "[347, 157]\n"
     ]
    }
   ],
   "source": [
    "import turtle\n",
    "\n",
    "t =  turtle.Turtle()\n",
    "\n",
    "ws = (t\n",
    "    ._screen\n",
    "    .getcanvas()\n",
    "    .winfo_toplevel())\n",
    "ws.attributes('-alpha', 0.5)\n",
    "\n",
    "def get_mouse_click_coor(x, y):\n",
    "    print('[' + g(x) + \", \" + g(y) + ']')\n",
    "def g(a):\n",
    "    return '{:g}'.format(a)\n",
    "\n",
    "turtle.onscreenclick(get_mouse_click_coor)\n",
    "\n",
    "turtle.mainloop()"
   ]
  },
  {
   "cell_type": "markdown",
   "id": "ad824179",
   "metadata": {},
   "source": [
    "Xác định tâm và bán kính đường tròn bằng 3 điểm: I(a,b), r\n",
    "\n",
    "Ta có: (x-a)^2 + (y-b)^2 = r^2\n",
    "\n",
    "b = (x1**2-x3**2+y1**2-y3**2-(x1-x3)*(x1**2-x2**2+y1**2-y2**2)/(x1-x2))/(2*(-(x1-x3)*(y1-y2)/(x1-x2)+y1-y3)\n",
    "\n",
    "a = ((x1**2-x2**2+y1**2-y2**2)/2-(y1-y2)*b)/(x1-x2)\n",
    "\n",
    "r = sqrt((x1-a)**2+(y1-b)**2)"
   ]
  },
  {
   "cell_type": "code",
   "execution_count": 3,
   "id": "6800908c",
   "metadata": {},
   "outputs": [
    {
     "name": "stdout",
     "output_type": "stream",
     "text": [
      "118.3778761061947 -151.41061946902656 204.8280476346319\n"
     ]
    }
   ],
   "source": [
    "import math\n",
    "\n",
    "#array\n",
    "A = [-42, -24]\n",
    "B = [173, 46]\n",
    "C = [294, -46]\n",
    "\n",
    "x1 = A[0]\n",
    "y1 = A[1]\n",
    "x2 = B[0]\n",
    "y2 = B[1]\n",
    "x3 = C[0]\n",
    "y3 = C[1]\n",
    "\n",
    "b = (x1**2-x3**2+y1**2-y3**2-(x1-x3)*(x1**2-x2**2+y1**2-y2**2)/(x1-x2))/(2*(-(x1-x3)*(y1-y2)/(x1-x2)+y1-y3))\n",
    "a = ((x1**2-x2**2+y1**2-y2**2)/2-(y1-y2)*b)/(x1-x2)\n",
    "r = math.sqrt((x1-a)**2+(y1-b)**2)\n",
    "\n",
    "print(a, b, r)"
   ]
  }
 ],
 "metadata": {
  "kernelspec": {
   "display_name": "Python 3 (ipykernel)",
   "language": "python",
   "name": "python3"
  },
  "language_info": {
   "codemirror_mode": {
    "name": "ipython",
    "version": 3
   },
   "file_extension": ".py",
   "mimetype": "text/x-python",
   "name": "python",
   "nbconvert_exporter": "python",
   "pygments_lexer": "ipython3",
   "version": "3.10.4"
  }
 },
 "nbformat": 4,
 "nbformat_minor": 5
}
