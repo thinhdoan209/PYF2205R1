{
 "cells": [
  {
   "cell_type": "markdown",
   "id": "636d6b20",
   "metadata": {},
   "source": [
    "# Thực hành Dictionary"
   ]
  },
  {
   "cell_type": "markdown",
   "id": "4a1577c4",
   "metadata": {},
   "source": [
    "### Bài 1"
   ]
  },
  {
   "cell_type": "markdown",
   "id": "57583ad7",
   "metadata": {},
   "source": [
    "Cho list a và list b là 2 dãy số bất kỳ\n",
    "\n",
    "Hãy tìm những phần tử trong 2 list trùng nhau và in toàn bộ ra màn hình\n",
    "\n",
    "Ví dụ:\n",
    "\n",
    "a = [2,4,5,7,9]\n",
    "\n",
    "b = [2,5,10,12,45,65]\n",
    "\n",
    "in ra: 2, 5"
   ]
  },
  {
   "cell_type": "markdown",
   "id": "3bf52ad2",
   "metadata": {},
   "source": [
    "#### Khai báo list"
   ]
  },
  {
   "cell_type": "code",
   "execution_count": 2,
   "id": "ff4b8cef",
   "metadata": {},
   "outputs": [],
   "source": [
    "a = [2,4,5,7,9]\n",
    "b = [2,5,10,12,45,65]"
   ]
  },
  {
   "cell_type": "markdown",
   "id": "f7b1767c",
   "metadata": {},
   "source": [
    "#### Code"
   ]
  },
  {
   "cell_type": "code",
   "execution_count": 3,
   "id": "8d0bc5c0",
   "metadata": {},
   "outputs": [
    {
     "name": "stdout",
     "output_type": "stream",
     "text": [
      "2, 5\n"
     ]
    }
   ],
   "source": [
    "s = []\n",
    "for i in a:\n",
    "    if i in b:\n",
    "            s.append(str(i))\n",
    "s = ', '.join(s)\n",
    "print(s)"
   ]
  },
  {
   "cell_type": "markdown",
   "id": "2646ccba",
   "metadata": {},
   "source": [
    "### Bài 2"
   ]
  },
  {
   "cell_type": "markdown",
   "id": "6cc6dc38",
   "metadata": {},
   "source": [
    "Cho một dictonary có các giá trị là các số nguyên\n",
    "\n",
    "Hãy viết hàm tìm key có giá trị lớn nhất"
   ]
  },
  {
   "cell_type": "markdown",
   "id": "7b92f0ce",
   "metadata": {},
   "source": [
    "#### Khai báo dictionary"
   ]
  },
  {
   "cell_type": "code",
   "execution_count": 34,
   "id": "3ec8ec73",
   "metadata": {},
   "outputs": [],
   "source": [
    "D = {\"key1\" : 1, \"key2\" : 33, \"key3\" : 43, \"key5\" : 4, \"key7\" : 30, \"x2\": 45}"
   ]
  },
  {
   "cell_type": "markdown",
   "id": "65018ab5",
   "metadata": {},
   "source": [
    "#### Code"
   ]
  },
  {
   "cell_type": "code",
   "execution_count": 35,
   "id": "e7a165eb",
   "metadata": {},
   "outputs": [
    {
     "name": "stdout",
     "output_type": "stream",
     "text": [
      "x2\n"
     ]
    }
   ],
   "source": [
    "def findkeymaxvalue(D):\n",
    "    ma = None\n",
    "    for i in D:\n",
    "        if ma == None or ma<D[i]:\n",
    "            ma = D[i]\n",
    "            k = i\n",
    "    return k\n",
    "print(findkeymaxvalue(D))"
   ]
  },
  {
   "cell_type": "markdown",
   "id": "c562bc84",
   "metadata": {},
   "source": [
    "### Bài 3"
   ]
  },
  {
   "cell_type": "markdown",
   "id": "945e8929",
   "metadata": {},
   "source": [
    "Cho một dictonary có các key đều là chuỗi\n",
    "\n",
    "Hãy viết hàm trả về giá trị của key có độ dài chuỗi là lớn nhất"
   ]
  },
  {
   "cell_type": "markdown",
   "id": "1855bc8c",
   "metadata": {},
   "source": [
    "#### Khai báo dictionary"
   ]
  },
  {
   "cell_type": "code",
   "execution_count": 4,
   "id": "5ff9a0e5",
   "metadata": {},
   "outputs": [],
   "source": [
    "D = {\"key1x\" : 1, \"key2xxxwe\" : 33, \"key3xx\" : 43, \"key5dsf\" : 4, \"key7ert44\" : 30, \"x234yreteeee\": 45}"
   ]
  },
  {
   "cell_type": "markdown",
   "id": "21fae59d",
   "metadata": {},
   "source": [
    "#### Code"
   ]
  },
  {
   "cell_type": "code",
   "execution_count": 5,
   "id": "b3c2194d",
   "metadata": {},
   "outputs": [
    {
     "name": "stdout",
     "output_type": "stream",
     "text": [
      "45\n"
     ]
    }
   ],
   "source": [
    "def keydainhat(D):\n",
    "    m = ''\n",
    "    for i in D:\n",
    "        if len(m)<len(i):\n",
    "            m = i\n",
    "    return D[m]\n",
    "print(keydainhat(D))"
   ]
  },
  {
   "cell_type": "markdown",
   "id": "205c6ef4",
   "metadata": {},
   "source": [
    "### Bài 4"
   ]
  },
  {
   "cell_type": "markdown",
   "id": "bd7ee674",
   "metadata": {},
   "source": [
    "Cho một list là một tập các chuỗi\n",
    "\n",
    "Hãy mã hóa list trên theo nguyên tắc sau:\n",
    "\n",
    "Mỗi một phần tử, ta mã hóa thành những con số theo thứ tự tăng dần\n",
    "\n",
    "Ví dụ:\n",
    "\n",
    "List = [\"đen\",\"vàng\",\"xanh\",\"vàng\",\"xanh\",\"đỏ\",\"hồng\"]\n",
    "\n",
    "List mã hóa = [0,1,2,1,2,3,4]\n",
    "\n",
    "- \"đen\" mã hóa thành 0\n",
    "- \"vàng\" mã hóa thành 1\n",
    "- \"xanh\" mã hóa thành 2\n",
    "- \"đỏ\" mã hòa thánh 3\n",
    "- \"hồng\" mã hòa thành 4"
   ]
  },
  {
   "cell_type": "markdown",
   "id": "e7ed3048",
   "metadata": {},
   "source": [
    "#### Khai báo"
   ]
  },
  {
   "cell_type": "code",
   "execution_count": 18,
   "id": "7573ae07",
   "metadata": {},
   "outputs": [],
   "source": [
    "List = [\"đen\",\"vàng\",\"xanh\",\"vàng\",\"xanh\",\"đỏ\",\"hồng\"]"
   ]
  },
  {
   "cell_type": "markdown",
   "id": "9c61e63b",
   "metadata": {},
   "source": [
    "#### Code"
   ]
  },
  {
   "cell_type": "code",
   "execution_count": 24,
   "id": "3e3cdf86",
   "metadata": {},
   "outputs": [
    {
     "name": "stdout",
     "output_type": "stream",
     "text": [
      "[0, 1, 2, 1, 2, 3, 4]\n"
     ]
    }
   ],
   "source": [
    "#D = {\"đen\":0, \"vàng\":1, \"xanh\":2, \"đỏ\":3, \"hồng\":4}\n",
    "def mahoa(List):\n",
    "    v = 0\n",
    "    D = {}\n",
    "    L = []\n",
    "    for i in List:\n",
    "        if i not in D:\n",
    "            D[i] = v\n",
    "            v+=1\n",
    "        L.append(D[i])\n",
    "    return L\n",
    "print(mahoa(List))"
   ]
  },
  {
   "cell_type": "markdown",
   "id": "8de66962",
   "metadata": {},
   "source": [
    "### Bài 5"
   ]
  },
  {
   "cell_type": "markdown",
   "id": "1e5c416d",
   "metadata": {},
   "source": [
    "Hãy viết hàm từ một list mã hóa, trả về list gốc của bài 4"
   ]
  },
  {
   "cell_type": "markdown",
   "id": "4881b7b0",
   "metadata": {},
   "source": [
    "#### Khai báo"
   ]
  },
  {
   "cell_type": "code",
   "execution_count": 32,
   "id": "602c7b70",
   "metadata": {},
   "outputs": [],
   "source": [
    "L_mahoa = [0, 1, 2, 1, 2, 3, 4]\n",
    "D_mahoa = {'đen':0, 'vàng':1, 'xanh':2, 'đỏ':3, 'hồng':4}"
   ]
  },
  {
   "cell_type": "markdown",
   "id": "9a738638",
   "metadata": {},
   "source": [
    "#### Code"
   ]
  },
  {
   "cell_type": "code",
   "execution_count": 34,
   "id": "df4fb3a1",
   "metadata": {},
   "outputs": [
    {
     "name": "stdout",
     "output_type": "stream",
     "text": [
      "['đen', 'vàng', 'xanh', 'vàng', 'xanh', 'đỏ', 'hồng']\n"
     ]
    }
   ],
   "source": [
    "def mahoanguoc(L_mahoa,D_mahoa):\n",
    "    L = []\n",
    "    D1 = {}\n",
    "    for i in D_mahoa:\n",
    "        D1[D_mahoa[i]] =  i\n",
    "    for i in L_mahoa:\n",
    "        L.append(D1[i])\n",
    "    return L\n",
    "print(mahoanguoc(L_mahoa,D_mahoa))"
   ]
  },
  {
   "cell_type": "markdown",
   "id": "1a982dc5",
   "metadata": {},
   "source": [
    "### Bài 6"
   ]
  },
  {
   "cell_type": "markdown",
   "id": "726f6302",
   "metadata": {},
   "source": [
    "Một khách sạn có N phòng đôi được đánh số từ 1 đến N và M đoàn khách.\n",
    "\n",
    "Với mỗi đoàn khách, ta xếp mỗi cặp khách của đoàn vào một phòng trống theo thứ tự phòng tăng dần.\n",
    "\n",
    "Nếu đoàn khách có số người lẻ thì người khách cuối cùng được xếp vào một phòng trống tiếp theo.\n",
    "\n",
    "Nếu đã hết phòng còn trống thì ta sẽ xếp khách vào những phòng mới chỉ có 1 khách theo thứ tự phòng tăng dần.\n",
    "\n",
    "In ra số khách của mỗi phòng sau khi xếp\n",
    "\n",
    "Giả sử không có 2 đoàn khách nào đến cùng một lúc.\n",
    "\n",
    "#### Ví dụ 1:\n",
    "\n",
    "N = 7, M = 3\n",
    "\n",
    "doankhach = [3,7,3]\n",
    "\n",
    "Ta in: 2, 2, 2, 2, 2, 1, 2\n",
    "\n",
    "#### Ví dụ 2:\n",
    "\n",
    "N = 5, M = 3\n",
    "\n",
    "doankhach = [2,3,2]\n",
    "\n",
    "Ta in: 2, 2, 1, 2, 0"
   ]
  },
  {
   "cell_type": "markdown",
   "id": "e3346872",
   "metadata": {},
   "source": [
    "#### Khai báo"
   ]
  },
  {
   "cell_type": "code",
   "execution_count": 45,
   "id": "9f73da45",
   "metadata": {},
   "outputs": [],
   "source": []
  },
  {
   "cell_type": "markdown",
   "id": "8f3d747c",
   "metadata": {},
   "source": [
    "#### Code"
   ]
  },
  {
   "cell_type": "code",
   "execution_count": 56,
   "id": "b19e56c9",
   "metadata": {
    "scrolled": true
   },
   "outputs": [
    {
     "name": "stdout",
     "output_type": "stream",
     "text": [
      "2, 2, 2, 2, 2\n"
     ]
    }
   ],
   "source": [
    "N = 5\n",
    "M = 3\n",
    "doankhach = [1,1,1,1,4,2]\n",
    "\n",
    "D = {}\n",
    "for i in range(1,N+1):\n",
    "    D[i] = 0\n",
    "    \n",
    "def xepKhach(D, soKhach):\n",
    "    for i in D:\n",
    "        if D[i] == 0: break\n",
    "    while True:\n",
    "        if D[i] <2:\n",
    "            D[i]+=1\n",
    "            soKhach -=1\n",
    "            if soKhach == 0: break\n",
    "        else:\n",
    "            i+=1\n",
    "            if i>N:\n",
    "                for i in D:\n",
    "                    if D[i] == 1: break\n",
    "                if D[i]==2:\n",
    "                    print(\"Hết phòng!\")\n",
    "                    break\n",
    "    return D\n",
    "\n",
    "for i in doankhach:\n",
    "    xepKhach(D, i)\n",
    "\n",
    "print(', '.join(map(str, D.values())))"
   ]
  }
 ],
 "metadata": {
  "kernelspec": {
   "display_name": "Python 3 (ipykernel)",
   "language": "python",
   "name": "python3"
  },
  "language_info": {
   "codemirror_mode": {
    "name": "ipython",
    "version": 3
   },
   "file_extension": ".py",
   "mimetype": "text/x-python",
   "name": "python",
   "nbconvert_exporter": "python",
   "pygments_lexer": "ipython3",
   "version": "3.10.4"
  }
 },
 "nbformat": 4,
 "nbformat_minor": 5
}
