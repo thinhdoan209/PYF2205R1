{
 "cells": [
  {
   "cell_type": "code",
   "execution_count": 1,
   "id": "503d82d0",
   "metadata": {},
   "outputs": [],
   "source": [
    "import turtle\n",
    "turtle.bgcolor(\"black\")\n",
    "t = turtle.Turtle()\n",
    "t.speed(0)\n",
    "\n",
    "def elip(r):\n",
    "    for i in range(2):\n",
    "        t.circle(r, 90)\n",
    "        t.circle(r/2, 90)\n",
    "\n",
    "color = [\"#A359A3\", \"blue\", \"green\", \"yellow\", \"orange\", \"red\"]\n",
    "\n",
    "#36 hình elip, góc lệch 10, r = 100\n",
    "for i in range(36):\n",
    "    t.pencolor(color[i%6])\n",
    "    elip(100)\n",
    "    t.right(10)\n",
    "    \n",
    "turtle.done()"
   ]
  }
 ],
 "metadata": {
  "kernelspec": {
   "display_name": "Python 3 (ipykernel)",
   "language": "python",
   "name": "python3"
  },
  "language_info": {
   "codemirror_mode": {
    "name": "ipython",
    "version": 3
   },
   "file_extension": ".py",
   "mimetype": "text/x-python",
   "name": "python",
   "nbconvert_exporter": "python",
   "pygments_lexer": "ipython3",
   "version": "3.10.4"
  }
 },
 "nbformat": 4,
 "nbformat_minor": 5
}
