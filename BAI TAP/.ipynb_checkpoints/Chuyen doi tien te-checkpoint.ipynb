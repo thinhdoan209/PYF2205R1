{
 "cells": [
  {
   "cell_type": "code",
   "execution_count": 3,
   "id": "87c03751",
   "metadata": {},
   "outputs": [
    {
     "name": "stdout",
     "output_type": "stream",
     "text": [
      "Nhap so tien USD: 100\n",
      "Nhap ty gia USD/VND: 23265\n",
      "2326500 VND\n"
     ]
    }
   ],
   "source": [
    "a = float(input(\"Nhap so tien USD: \"))\n",
    "b = float(input(\"Nhap ty gia USD/VND: \"))\n",
    "\n",
    "c = a*b\n",
    "print(int(c), \"VND\")"
   ]
  }
 ],
 "metadata": {
  "kernelspec": {
   "display_name": "Python 3 (ipykernel)",
   "language": "python",
   "name": "python3"
  },
  "language_info": {
   "codemirror_mode": {
    "name": "ipython",
    "version": 3
   },
   "file_extension": ".py",
   "mimetype": "text/x-python",
   "name": "python",
   "nbconvert_exporter": "python",
   "pygments_lexer": "ipython3",
   "version": "3.10.4"
  }
 },
 "nbformat": 4,
 "nbformat_minor": 5
}
