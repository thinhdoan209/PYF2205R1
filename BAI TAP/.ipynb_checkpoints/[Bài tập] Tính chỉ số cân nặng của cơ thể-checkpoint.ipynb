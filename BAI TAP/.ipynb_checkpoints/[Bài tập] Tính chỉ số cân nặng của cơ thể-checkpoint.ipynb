{
 "cells": [
  {
   "cell_type": "code",
   "execution_count": 1,
   "id": "438f9321",
   "metadata": {},
   "outputs": [
    {
     "name": "stdout",
     "output_type": "stream",
     "text": [
      "Chiều cao (cm): 168\n",
      "Cân nặng (kg):54\n",
      "\n",
      "Bình thường\n"
     ]
    }
   ],
   "source": [
    "a = float(input(\"Chiều cao (cm): \"))\n",
    "b = float(input(\"Cân nặng (kg):\"))\n",
    "print()\n",
    "\n",
    "a = a/100\n",
    "BMI = b/(a**2)\n",
    "\n",
    "if BMI<16:\n",
    "    print(\"Gầy cấp độ III\")\n",
    "elif BMI<17:\n",
    "    print(\"Gầy cấp độ II\")\n",
    "elif BMI<18.5:\n",
    "    print(\"Gầy cấp độ I\")\n",
    "elif BMI<25:\n",
    "    print(\"Bình thường\")\n",
    "elif BMI<30:\n",
    "    print(\"Thừa cân\")\n",
    "elif BMI<35:\n",
    "    print(\"Béo phì cấp độ I\")\n",
    "elif BMI<40:\n",
    "    print(\"Béo phì cấp độ II\")\n",
    "else:\n",
    "    print(\"Béo phì cấp độ III\")"
   ]
  }
 ],
 "metadata": {
  "kernelspec": {
   "display_name": "Python 3 (ipykernel)",
   "language": "python",
   "name": "python3"
  },
  "language_info": {
   "codemirror_mode": {
    "name": "ipython",
    "version": 3
   },
   "file_extension": ".py",
   "mimetype": "text/x-python",
   "name": "python",
   "nbconvert_exporter": "python",
   "pygments_lexer": "ipython3",
   "version": "3.10.4"
  }
 },
 "nbformat": 4,
 "nbformat_minor": 5
}
