{
 "cells": [
  {
   "cell_type": "code",
   "execution_count": 9,
   "id": "5e5423de",
   "metadata": {},
   "outputs": [
    {
     "name": "stdout",
     "output_type": "stream",
     "text": [
      "Đầu khoảng: 20\n",
      "Cuối khoảng: 50\n",
      "Buzz, Fizz, 22, 23, Fizz, Buzz, 26, Fizz, 28, 29, FizzBuzz, 31, 32, Fizz, 34, Buzz, Fizz, 37, 38, Fizz, Buzz, 41, Fizz, 43, 44, FizzBuzz, 46, 47, Fizz, 49, Buzz"
     ]
    }
   ],
   "source": [
    "a = int(input(\"Đầu khoảng: \"))\n",
    "b = int(input(\"Cuối khoảng: \"))\n",
    "\n",
    "for i in range(a, b+1):\n",
    "    t = \"FizzBuzz\" if i%3==0 and i%5==0 else \"Fizz\" if i%3==0 else \"Buzz\" if i%5==0 else i\n",
    "    print(t, end = \", \" if i!=b else \"\")"
   ]
  }
 ],
 "metadata": {
  "kernelspec": {
   "display_name": "Python 3 (ipykernel)",
   "language": "python",
   "name": "python3"
  },
  "language_info": {
   "codemirror_mode": {
    "name": "ipython",
    "version": 3
   },
   "file_extension": ".py",
   "mimetype": "text/x-python",
   "name": "python",
   "nbconvert_exporter": "python",
   "pygments_lexer": "ipython3",
   "version": "3.10.4"
  }
 },
 "nbformat": 4,
 "nbformat_minor": 5
}
