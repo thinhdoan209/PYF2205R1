{
 "cells": [
  {
   "cell_type": "code",
   "execution_count": 1,
   "id": "6985d7fe",
   "metadata": {},
   "outputs": [
    {
     "name": "stdout",
     "output_type": "stream",
     "text": [
      "Số hiện tại: 0\n",
      "Máy chọn: 1\n",
      "Số hiện tại: 1\n",
      "Bạn chọn: 2\n",
      "Máy chọn: 2\n",
      "Số hiện tại: 5\n",
      "Bạn chọn: 3\n",
      "Máy chọn: 3\n",
      "Số hiện tại: 11\n",
      "Bạn chọn: 2\n",
      "Máy chọn: 3\n",
      "Số hiện tại: 16\n",
      "Bạn chọn: 1\n",
      "Máy chọn: 1\n",
      "Số hiện tại: 18\n",
      "Bạn chọn: 2\n",
      "Máy chọn: 3\n",
      "Bạn thắng\n",
      "Bạn có muốn tiếp tục? (y/n): n\n"
     ]
    }
   ],
   "source": [
    "import random\n",
    "\n",
    "while True:\n",
    "    current_number = 0\n",
    "    \n",
    "    ran = random.randint(0,1)\n",
    "    if ran == 0:\n",
    "        current_player = \"human\"\n",
    "    else:\n",
    "        current_player = \"computer\"\n",
    "    \n",
    "    while current_number <= 21:\n",
    "        print(\"Số hiện tại:\", current_number)\n",
    "        \n",
    "        if current_player == \"human\":\n",
    "            player_choice = input(\"Bạn chọn: \")\n",
    "            while not (player_choice in ['1', '2', '3']):\n",
    "                player_choice = input()\n",
    "            player_choice = int(player_choice)\n",
    "            current_number += player_choice\n",
    "            if current_number >= 21:\n",
    "                print(\"Bạn thua\")\n",
    "                break\n",
    "            else:\n",
    "                current_player = \"computer\"\n",
    "            \n",
    "        if current_player == \"computer\":\n",
    "            computer_choice = random.randint(1,3)\n",
    "            print(\"Máy chọn:\", computer_choice)\n",
    "            current_number += computer_choice\n",
    "            if current_number >= 21:\n",
    "                print(\"Bạn thắng\")\n",
    "                break\n",
    "            else:\n",
    "                current_player = \"human\"\n",
    "    \n",
    "    play_again = input(\"Bạn có muốn tiếp tục? (y/n): \")\n",
    "    if play_again[0]==\"y\":\n",
    "        continue\n",
    "    else:\n",
    "        break"
   ]
  }
 ],
 "metadata": {
  "kernelspec": {
   "display_name": "Python 3 (ipykernel)",
   "language": "python",
   "name": "python3"
  },
  "language_info": {
   "codemirror_mode": {
    "name": "ipython",
    "version": 3
   },
   "file_extension": ".py",
   "mimetype": "text/x-python",
   "name": "python",
   "nbconvert_exporter": "python",
   "pygments_lexer": "ipython3",
   "version": "3.10.4"
  }
 },
 "nbformat": 4,
 "nbformat_minor": 5
}
