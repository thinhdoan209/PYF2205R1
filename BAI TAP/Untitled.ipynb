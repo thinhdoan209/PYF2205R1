{
 "cells": [
  {
   "cell_type": "code",
   "execution_count": 17,
   "id": "554607f6",
   "metadata": {},
   "outputs": [
    {
     "name": "stdout",
     "output_type": "stream",
     "text": [
      "12 18\n"
     ]
    }
   ],
   "source": [
    "a = 12\n",
    "\n",
    "b = 15\n",
    "\n",
    "c = 18\n",
    "\n",
    "if a%2==0:\n",
    "\n",
    "    if b%c == 1:\n",
    "\n",
    "        c-=5\n",
    "\n",
    "        b+=12\n",
    "\n",
    "    if c%a == 6:\n",
    "\n",
    "        b-=13\n",
    "\n",
    "    else:\n",
    "\n",
    "        a=b=c=0\n",
    "\n",
    "print(a,c)"
   ]
  }
 ],
 "metadata": {
  "kernelspec": {
   "display_name": "Python 3 (ipykernel)",
   "language": "python",
   "name": "python3"
  },
  "language_info": {
   "codemirror_mode": {
    "name": "ipython",
    "version": 3
   },
   "file_extension": ".py",
   "mimetype": "text/x-python",
   "name": "python",
   "nbconvert_exporter": "python",
   "pygments_lexer": "ipython3",
   "version": "3.10.4"
  }
 },
 "nbformat": 4,
 "nbformat_minor": 5
}
