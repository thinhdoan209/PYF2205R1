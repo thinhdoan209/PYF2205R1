{
 "cells": [
  {
   "cell_type": "code",
   "execution_count": 1,
   "id": "b4b2bcb3",
   "metadata": {},
   "outputs": [
    {
     "name": "stdout",
     "output_type": "stream",
     "text": [
      "Nhập số từ 1 đến 7: 6\n",
      "Saturday\n"
     ]
    }
   ],
   "source": [
    "a = int(input(\"Nhập số từ 1 đến 7: \"))\n",
    "if a == 1:\n",
    "    print(\"Monday\")\n",
    "elif a == 2:\n",
    "    print(\"Tuesday\")\n",
    "elif a == 3:\n",
    "    print(\"Wednesday\")\n",
    "elif a == 4:\n",
    "    print(\"Thursday\")\n",
    "elif a == 5:\n",
    "    print(\"Friday\")\n",
    "elif a == 6:\n",
    "    print(\"Saturday\")\n",
    "elif a == 7:\n",
    "    print(\"Sunday\")\n",
    "else:\n",
    "    print(\"Error, out of range\")"
   ]
  }
 ],
 "metadata": {
  "kernelspec": {
   "display_name": "Python 3 (ipykernel)",
   "language": "python",
   "name": "python3"
  },
  "language_info": {
   "codemirror_mode": {
    "name": "ipython",
    "version": 3
   },
   "file_extension": ".py",
   "mimetype": "text/x-python",
   "name": "python",
   "nbconvert_exporter": "python",
   "pygments_lexer": "ipython3",
   "version": "3.10.4"
  }
 },
 "nbformat": 4,
 "nbformat_minor": 5
}
