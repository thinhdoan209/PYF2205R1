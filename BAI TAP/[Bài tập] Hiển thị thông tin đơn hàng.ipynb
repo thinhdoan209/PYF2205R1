{
 "cells": [
  {
   "cell_type": "code",
   "execution_count": 1,
   "id": "b89ab4e8",
   "metadata": {},
   "outputs": [
    {
     "name": "stdout",
     "output_type": "stream",
     "text": [
      "Bạn đã chi bao nhiêu tại cửa hàng? 80\n",
      "65.0\n"
     ]
    }
   ],
   "source": [
    "a = float(input(\"Bạn đã chi bao nhiêu tại cửa hàng? \"))\n",
    "if a<75:\n",
    "    print(a)\n",
    "elif a<100:\n",
    "    print(a-15)\n",
    "elif a<150:\n",
    "    print(a-25)\n",
    "else:\n",
    "    print(a-50)"
   ]
  }
 ],
 "metadata": {
  "kernelspec": {
   "display_name": "Python 3 (ipykernel)",
   "language": "python",
   "name": "python3"
  },
  "language_info": {
   "codemirror_mode": {
    "name": "ipython",
    "version": 3
   },
   "file_extension": ".py",
   "mimetype": "text/x-python",
   "name": "python",
   "nbconvert_exporter": "python",
   "pygments_lexer": "ipython3",
   "version": "3.10.4"
  }
 },
 "nbformat": 4,
 "nbformat_minor": 5
}
